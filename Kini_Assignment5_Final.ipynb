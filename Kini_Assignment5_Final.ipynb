{
  "nbformat": 4,
  "nbformat_minor": 0,
  "metadata": {
    "colab": {
      "name": "Kini_Assignment5_Final.ipynb",
      "provenance": [],
      "collapsed_sections": []
    },
    "kernelspec": {
      "name": "python3",
      "display_name": "Python 3"
    },
    "language_info": {
      "name": "python"
    }
  },
  "cells": [
    {
      "cell_type": "markdown",
      "metadata": {
        "id": "YxMUNSvfqREP"
      },
      "source": [
        "Step 0 - import NN libraries = 0.5 points"
      ]
    },
    {
      "cell_type": "code",
      "metadata": {
        "id": "30EHKsRHqLfo"
      },
      "source": [
        "import tensorflow as tf \n",
        "import matplotlib.pyplot as plt\n",
        "import numpy as np\n",
        "from keras.layers import Dense, Flatten\n",
        "from keras.models import Sequential \n",
        "\n",
        "import keras\n",
        "from tensorflow.keras.utils import to_categorical\n",
        "\n",
        "\n"
      ],
      "execution_count": 129,
      "outputs": []
    },
    {
      "cell_type": "markdown",
      "metadata": {
        "id": "qJ5yXGfKqVza"
      },
      "source": [
        "\n",
        "\n",
        "Step 1 - Load the data \n",
        "Reference: https://www.analyticsvidhya.com/blog/2020/12/mlp-multilayer-perceptron-simple-overview/\n",
        "\n",
        "\n",
        "https://becominghuman.ai/simple-neural-network-on-mnist-handwritten-digit-dataset-61e47702ed25\n",
        "\n",
        "\n",
        "Decay code ref:\n",
        "https://towardsdatascience.com/learning-rate-schedule-in-practice-an-example-with-keras-and-tensorflow-2-0-2f48b2888a0c\n",
        "\n",
        "early stopping and checkpoint\n",
        "https://machinelearningmastery.com/how-to-stop-training-deep-neural-networks-at-the-right-time-using-early-stopping/\n"
      ]
    },
    {
      "cell_type": "code",
      "metadata": {
        "id": "oMQzLeEqqPpW"
      },
      "source": [
        "from tensorflow.keras.datasets import mnist\n",
        "\n",
        "(X_train, y_train), (X_test, y_test) = mnist.load_data()"
      ],
      "execution_count": 130,
      "outputs": []
    },
    {
      "cell_type": "code",
      "metadata": {
        "colab": {
          "base_uri": "https://localhost:8080/"
        },
        "id": "vnK0ji47qdci",
        "outputId": "ca6f6a43-5b9f-4653-d50e-0c69eb63f91c"
      },
      "source": [
        "num_labels = len(np.unique(y_train))\n",
        "print(\"total labels:{}\".format(num_labels))\n",
        "print(\"labels:{}\".format(np.unique(y_train)))"
      ],
      "execution_count": 131,
      "outputs": [
        {
          "output_type": "stream",
          "name": "stdout",
          "text": [
            "total labels:10\n",
            "labels:[0 1 2 3 4 5 6 7 8 9]\n"
          ]
        }
      ]
    },
    {
      "cell_type": "code",
      "metadata": {
        "colab": {
          "base_uri": "https://localhost:8080/"
        },
        "id": "TRR3YzJcqeGA",
        "outputId": "8f2584a5-c2fb-4bff-fdfa-bf160f43a158"
      },
      "source": [
        "print(X_train.shape)\n",
        "print(X_test.shape)"
      ],
      "execution_count": 132,
      "outputs": [
        {
          "output_type": "stream",
          "name": "stdout",
          "text": [
            "(60000, 28, 28)\n",
            "(10000, 28, 28)\n"
          ]
        }
      ]
    },
    {
      "cell_type": "code",
      "metadata": {
        "colab": {
          "base_uri": "https://localhost:8080/"
        },
        "id": "aIeZhDJ0qf3s",
        "outputId": "ad05cd64-053f-4f6b-93c3-2f2d2f53c9e9"
      },
      "source": [
        "print(y_train.shape)\n",
        "print(y_test.shape)"
      ],
      "execution_count": 133,
      "outputs": [
        {
          "output_type": "stream",
          "name": "stdout",
          "text": [
            "(60000,)\n",
            "(10000,)\n"
          ]
        }
      ]
    },
    {
      "cell_type": "code",
      "metadata": {
        "colab": {
          "base_uri": "https://localhost:8080/",
          "height": 146
        },
        "id": "vargALhJqi3f",
        "outputId": "c65e3534-94ff-4c9c-e95b-86a923c8b052"
      },
      "source": [
        "# Display some images\n",
        "fig, axes = plt.subplots(ncols=4, sharex=False, \n",
        "    sharey=True, figsize=(5, 5))\n",
        "for i in range(4):\n",
        "    axes[i].set_title(y_train[i])\n",
        "    axes[i].imshow(X_train[i], cmap='gray')\n",
        "    axes[i].get_xaxis().set_visible(False)\n",
        "    axes[i].get_yaxis().set_visible(False)\n",
        "plt.show()"
      ],
      "execution_count": 134,
      "outputs": [
        {
          "output_type": "display_data",
          "data": {
            "text/plain": [
              "<Figure size 360x360 with 4 Axes>"
            ],
            "image/svg+xml": "<?xml version=\"1.0\" encoding=\"utf-8\" standalone=\"no\"?>\n<!DOCTYPE svg PUBLIC \"-//W3C//DTD SVG 1.1//EN\"\n  \"http://www.w3.org/Graphics/SVG/1.1/DTD/svg11.dtd\">\n<!-- Created with matplotlib (https://matplotlib.org/) -->\n<svg height=\"93.670299pt\" version=\"1.1\" viewBox=\"0 0 296.9 93.670299\" width=\"296.9pt\" xmlns=\"http://www.w3.org/2000/svg\" xmlns:xlink=\"http://www.w3.org/1999/xlink\">\n <defs>\n  <style type=\"text/css\">\n*{stroke-linecap:butt;stroke-linejoin:round;}\n  </style>\n </defs>\n <g id=\"figure_1\">\n  <g id=\"patch_1\">\n   <path d=\"M 0 93.670299 \nL 296.9 93.670299 \nL 296.9 0 \nL 0 0 \nz\n\" style=\"fill:none;\"/>\n  </g>\n  <g id=\"axes_1\">\n   <g id=\"patch_2\">\n    <path d=\"M 10.7 82.970299 \nL 71.352174 82.970299 \nL 71.352174 22.318125 \nL 10.7 22.318125 \nz\n\" style=\"fill:#ffffff;\"/>\n   </g>\n   <g clip-path=\"url(#p66cd901ac0)\">\n    <image height=\"61\" id=\"image9231b8c4f9\" transform=\"scale(1 -1)translate(0 -61)\" width=\"61\" x=\"10.7\" xlink:href=\"data:image/png;base64,\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\" y=\"-21.970299\"/>\n   </g>\n   <g id=\"patch_3\">\n    <path d=\"M 10.7 82.970299 \nL 10.7 22.318125 \n\" style=\"fill:none;stroke:#000000;stroke-linecap:square;stroke-linejoin:miter;stroke-width:0.8;\"/>\n   </g>\n   <g id=\"patch_4\">\n    <path d=\"M 71.352174 82.970299 \nL 71.352174 22.318125 \n\" style=\"fill:none;stroke:#000000;stroke-linecap:square;stroke-linejoin:miter;stroke-width:0.8;\"/>\n   </g>\n   <g id=\"patch_5\">\n    <path d=\"M 10.7 82.970299 \nL 71.352174 82.970299 \n\" style=\"fill:none;stroke:#000000;stroke-linecap:square;stroke-linejoin:miter;stroke-width:0.8;\"/>\n   </g>\n   <g id=\"patch_6\">\n    <path d=\"M 10.7 22.318125 \nL 71.352174 22.318125 \n\" style=\"fill:none;stroke:#000000;stroke-linecap:square;stroke-linejoin:miter;stroke-width:0.8;\"/>\n   </g>\n   <g id=\"text_1\">\n    <!-- 5 -->\n    <defs>\n     <path d=\"M 10.796875 72.90625 \nL 49.515625 72.90625 \nL 49.515625 64.59375 \nL 19.828125 64.59375 \nL 19.828125 46.734375 \nQ 21.96875 47.46875 24.109375 47.828125 \nQ 26.265625 48.1875 28.421875 48.1875 \nQ 40.625 48.1875 47.75 41.5 \nQ 54.890625 34.8125 54.890625 23.390625 \nQ 54.890625 11.625 47.5625 5.09375 \nQ 40.234375 -1.421875 26.90625 -1.421875 \nQ 22.3125 -1.421875 17.546875 -0.640625 \nQ 12.796875 0.140625 7.71875 1.703125 \nL 7.71875 11.625 \nQ 12.109375 9.234375 16.796875 8.0625 \nQ 21.484375 6.890625 26.703125 6.890625 \nQ 35.15625 6.890625 40.078125 11.328125 \nQ 45.015625 15.765625 45.015625 23.390625 \nQ 45.015625 31 40.078125 35.4375 \nQ 35.15625 39.890625 26.703125 39.890625 \nQ 22.75 39.890625 18.8125 39.015625 \nQ 14.890625 38.140625 10.796875 36.28125 \nz\n\" id=\"DejaVuSans-53\"/>\n    </defs>\n    <g transform=\"translate(37.208587 16.318125)scale(0.12 -0.12)\">\n     <use xlink:href=\"#DejaVuSans-53\"/>\n    </g>\n   </g>\n  </g>\n  <g id=\"axes_2\">\n   <g id=\"patch_7\">\n    <path d=\"M 83.482609 82.970299 \nL 144.134783 82.970299 \nL 144.134783 22.318125 \nL 83.482609 22.318125 \nz\n\" style=\"fill:#ffffff;\"/>\n   </g>\n   <g clip-path=\"url(#pf6b2cbc61c)\">\n    <image height=\"61\" id=\"image0da94f6b0b\" transform=\"scale(1 -1)translate(0 -61)\" width=\"61\" x=\"83.482609\" xlink:href=\"data:image/png;base64,\niVBORw0KGgoAAAANSUhEUgAAAD0AAAA9CAYAAAAeYmHpAAAABHNCSVQICAgIfAhkiAAAC11JREFUaIHtmklvG0e3hp/uZjenJtkSJYqT5sGApQCeAzjJwsgmAbzKLsjGQP7I/SVZB8gmQJJFkMHZOLCNADZsKbYGW5YlUhxEsikOzWYPvIuAHdvJ912TlONc2C+gDVVs1tNVdeo9p0oAerxhEl93B16H3kK/KXoL/aboLfSbIt8oX5ZlGZ/PRzweR9M0xsfHSSaTAAiCAECv18OyLIrFIq1Wi1KpRKPRoNvt0u12RycYQkNDC4JAOBwmGAxy7tw5VldXuXDhAleuXEEURQRBoNf7w/c0Gg1++uknnj59yo0bN9jZ2aFarf7/gpZlGVmWmZmZIR6Ps7KywuLiIqlUikgkgig+v2okSSKbzSJJErVajVAoxOHhIYVCgWazSaVS8V7QPyGBAW2oJElomkYsFuPatWucPXuWubk50uk0iqIQDAa9qd2X67oYhoFt21SrVVqtFg8ePODhw4fcuXOH7777Dtu2T5Lrv2rgkRYEgWAwiKqqJBIJstksk5OTxGIxr02v1/P+XNcF8F6Gz+fDNE2azSaGYXB0dEQqlfLWuOM4tFotHMc5OcoXNDC0oijMzMyQSqVYWlpiYWEBRVGea2NZFq1WC9u2MU0TQRCIx+P4/X4CgQCKonD69Gnm5uY4ffo0Z86cQdd1dnd3KZfL/Pjjj1Sr1RODfFFDjXQoFEJVVVRVJRwOe/9zXRfHcTAMg3q9jmVZGIaBKIoEAgFc10WSJERRJBwOo6qqt/6r1ao3i6LRKO12G9u2vdlykmt+pC2rr/5U3t/fZ2tri0KhwL179zAMg1arhSRJzM3NEYvFWFpaIplMenFBkiQWFhaYmppCVVV0XScUClEul7l37x7FYpFyuUy9Xj+JrgInBA1/gNdqNba3t9nd3eXGjRu0Wi2azSaSJJHP5xkfH6fX6+E4Do7jIEkSqqqiaRqBQABRFJmYmKDX61GtVtF1HcdxaDQa/w7ofoQWBAHDMDBNkwcPHvDtt99SrVbJ5XJYlkW320UURba2tggEAhSLRTRNIxwOEw6HyWazrK2tMTY2xsLCAtFolFOnTtFut6nVaiQSCQzDoFgsvn5o+BO8H7gePXrEzz///Lfbj67rADx8+PC5z1dXV/nwww9ZWlpicXHR2xX625umaayvr4/Szb9oJOj+Wq5UKuRyuaFMRrVa5d69e1QqFWRZZmxsjJWVFUKhkDftL1++jM/n48mTJ2xubo7SZWAE6D5cr9cjn89z//598vn8wNCHh4cUi0UikQjr6+tMTU1x9epVMpkMFy9eZGpqCkVRWFtb45tvvmF7e9vb+4fViQQyVVWZnJxEVdW/uLGXkeu6mKZJrVYDYGNjg6OjI2KxmLflpdNp1tbWuHLlCrVajVwuh2maHB8fD/wSRoYWBIFsNkskEuH+/ftDP6fT6ZDL5Tg8PGRvb49wOEy5XGZ5eZn333+fCxcusLCwwMcff8zdu3f58ssvKZVKbGxs0Ol0BvqtExlpn8+H3+9HURRkWQYYykb2t7Jms4njOORyORRFYXl5menpaURRJJFIkEwmyWQy9Ho9ZFnGNM2BlpUE/M8gHVMUhenpaaLRKBcvXiSdTmNZFo7jeAmEIAgjpY2u62LbNqVSiUePHmHbNs1mE1mWPdvbd4QbGxuYpjmQaxuqcvJsQgEgiiKSJOH3+1FV9W8zrUHlui7Hx8eUy2VyuRxPnjyhXq/j8/kIh8MkEgkSiQSaphGJRJAk6aWfPfBIy7JMMpkkHA5z/vx5UqkUkiQRCASo1WrU63VkWSafz4+cKfV9t67r7OzskMlkuHz5MrIsE4vFvNw9mUySy+VoNpsv9dyh1rRt21iWhW3bOI6Dz+fD5/MRjUZJpVI0Go2RRxr+nFHlcplyuez5AEVRUBSFbrfLwsICoigSDAZf+rkDQ5umyaNHj6hWqzx+/Jh0Os3ExASapjExMcE777xDt9sdaLoNomdLUX6/n1QqhWmaf0lv/5sGhnYcxyvylctlqtUqqqoCEIlEmJmZYW9v75VAP+v34Y9dQ9M0NE3D53t5lKFLwJZlcffuXX744Qf29vaAP6FnZ2eZnZ0llUoN1Jn/S88G0Gcd4aAauke2bXPnzh0ODg5YXl7m0qVLRCIRIpEIc3NzzM7OoigKuq6faP1rVGAY0Xv3A1ahUCCXy6GqKrFYjImJCT744AMODg5ot9vouk6j0cC2bW9NWpaFZVnD/vxf+jKIhoZ2XZejoyPq9TpbW1usr68zMzNDNBplfn6ezz//nMePH6PrOvv7++zu7noGQ5IkGo3GiUEPqpEWnOM4CIJAqVRia2sLgPHxcRRFIRAIMDY2xqlTp4hEIkSjUZrNJvV6nXa7TbfbpdFojNR513XpdDp0u92Bko6RoV3X5fbt2+zt7XHx4kUMwyCdTnP27FkymQyfffYZnU6HSqVCq9Xi+vXrPHjwwJspo8i2bXRdp1qtDhQ3Rg6tvV6PVqvF0dERhUKBfD6P3+/Htm1kWUbTNGzbRlEU2u02iUSCUqlEKBTy7Kssy4iiiCzLuK5Lu932Xuh/kuu6WJZFrVajVqsN5PVPZD85Pj6m1WohiiLNZpNLly5x/vx5IpEIoVAIgHA4jG3bnDt3jng8TqPRYGtri3g8zszMDOFwmGQyiWEY3L59G13Xvdr5fwLu18j39va8ctQ/Bm3bNrZtU6/XvUpIrVZDEATGxsY8myrLMuPj43Q6HeLxONFolFgsxtjYGLFYjNnZWdrtNru7uwiC4NXQBUFAEAQkSUIQBK/o0Gq1KBaLFIvFf36k++pH5F6vhyAIzM/P8+mnnzIxMeGVeGdmZpicnARgfn6eRqPB0dER2WyWjz76CEmSeO+996hWq3z11Vdsbm4SjUYJBoNkMhkEQaBer7O5ucnvv//O7u4uh4eHmKb5eqD751EHBwfcunWL4+Njrl69iqZpuK7rJSX9Mm8wGGR/f5/19XUmJydZXl4mFAqRyWSoVqvcvHmTYrH43KwQBAHTNCmVSpRKJWq12sC7wIlC92UYBvl8nlAoxMOHDzEMg5WVFaLRqNemP+0TiQRzc3NEo1H8fr93bOQ4Dslkkmw261VO5ubmgOdd2TB6JdDdbpejoyNUVfWSj+npaSKRiNemb1lfTEF7vR7BYBDXdRkfH2dycpKVlRVWVlZIp9Nem1H0SqD7Oj4+5tdff2V7e5tCocDk5CSrq6tkMhkvJ35RjuNQr9e9HcG2baLRKNls1jsONk2TSqWCrutDlYNfKbSu63z//ff4/X5+++034vE4165dQ1VVotHo30Lbtu1F/2aziWVZjI2Nsbi46LXpdDoUi0UqlcpQycwrhe5fsgE817S+vo4sy96Vjf5Vjr5EUfTW9PLyspfAABwcHLC7u8vOzg6bm5vk8/l/L7RlWTx9+hSfz4dt29y8eZNPPvmEeDxOOBx+7haDJEnE43FisRjxeBzXddE0DYBbt27xxRdfUC6Xefz4Md1uF8MwBu7XK4V+Vn0XVa/XEQSBp0+fsr29zdTUFKFQyDMefRPSt6i9Xg9RFL0j20KhgK7r3h2WYYLawNXQUWUYBrque6cT3W6X1dVV4I/yT/9eSn/aK4qC4ziYpskvv/zC119/7d1yGPZM6x8b6b76lrVSqSCKIgcHBxQKBSKRCJqmeeXk/oGBbdteJNd1nU6n8+84wBtGuq7Tbre5fv06uq6TTqd59913icfjnDlzhkAgwMbGBsVikTt37rCzs8PGxsaJ3D15bdD9AHd4eIjP56NWq5FMJjFNk/n5eSzLolAocHBwwObmJuvr65TL5ROBHvjy3ElLURTvKkYymSQQCJBMJpEkiVKpRLvdplgsUq/X6XQ6Q0XrF/XaoV+H3sirz2+h3xS9hX5T9Bb6TdH/AiyYBCAj6+HEAAAAAElFTkSuQmCC\" y=\"-21.970299\"/>\n   </g>\n   <g id=\"patch_8\">\n    <path d=\"M 83.482609 82.970299 \nL 83.482609 22.318125 \n\" style=\"fill:none;stroke:#000000;stroke-linecap:square;stroke-linejoin:miter;stroke-width:0.8;\"/>\n   </g>\n   <g id=\"patch_9\">\n    <path d=\"M 144.134783 82.970299 \nL 144.134783 22.318125 \n\" style=\"fill:none;stroke:#000000;stroke-linecap:square;stroke-linejoin:miter;stroke-width:0.8;\"/>\n   </g>\n   <g id=\"patch_10\">\n    <path d=\"M 83.482609 82.970299 \nL 144.134783 82.970299 \n\" style=\"fill:none;stroke:#000000;stroke-linecap:square;stroke-linejoin:miter;stroke-width:0.8;\"/>\n   </g>\n   <g id=\"patch_11\">\n    <path d=\"M 83.482609 22.318125 \nL 144.134783 22.318125 \n\" style=\"fill:none;stroke:#000000;stroke-linecap:square;stroke-linejoin:miter;stroke-width:0.8;\"/>\n   </g>\n   <g id=\"text_2\">\n    <!-- 0 -->\n    <defs>\n     <path d=\"M 31.78125 66.40625 \nQ 24.171875 66.40625 20.328125 58.90625 \nQ 16.5 51.421875 16.5 36.375 \nQ 16.5 21.390625 20.328125 13.890625 \nQ 24.171875 6.390625 31.78125 6.390625 \nQ 39.453125 6.390625 43.28125 13.890625 \nQ 47.125 21.390625 47.125 36.375 \nQ 47.125 51.421875 43.28125 58.90625 \nQ 39.453125 66.40625 31.78125 66.40625 \nz\nM 31.78125 74.21875 \nQ 44.046875 74.21875 50.515625 64.515625 \nQ 56.984375 54.828125 56.984375 36.375 \nQ 56.984375 17.96875 50.515625 8.265625 \nQ 44.046875 -1.421875 31.78125 -1.421875 \nQ 19.53125 -1.421875 13.0625 8.265625 \nQ 6.59375 17.96875 6.59375 36.375 \nQ 6.59375 54.828125 13.0625 64.515625 \nQ 19.53125 74.21875 31.78125 74.21875 \nz\n\" id=\"DejaVuSans-48\"/>\n    </defs>\n    <g transform=\"translate(109.991196 16.318125)scale(0.12 -0.12)\">\n     <use xlink:href=\"#DejaVuSans-48\"/>\n    </g>\n   </g>\n  </g>\n  <g id=\"axes_3\">\n   <g id=\"patch_12\">\n    <path d=\"M 156.265217 82.970299 \nL 216.917391 82.970299 \nL 216.917391 22.318125 \nL 156.265217 22.318125 \nz\n\" style=\"fill:#ffffff;\"/>\n   </g>\n   <g clip-path=\"url(#p512e25bdcc)\">\n    <image height=\"61\" id=\"imageec5778ab63\" transform=\"scale(1 -1)translate(0 -61)\" width=\"61\" x=\"156.265217\" xlink:href=\"data:image/png;base64,\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\" y=\"-21.970299\"/>\n   </g>\n   <g id=\"patch_13\">\n    <path d=\"M 156.265217 82.970299 \nL 156.265217 22.318125 \n\" style=\"fill:none;stroke:#000000;stroke-linecap:square;stroke-linejoin:miter;stroke-width:0.8;\"/>\n   </g>\n   <g id=\"patch_14\">\n    <path d=\"M 216.917391 82.970299 \nL 216.917391 22.318125 \n\" style=\"fill:none;stroke:#000000;stroke-linecap:square;stroke-linejoin:miter;stroke-width:0.8;\"/>\n   </g>\n   <g id=\"patch_15\">\n    <path d=\"M 156.265217 82.970299 \nL 216.917391 82.970299 \n\" style=\"fill:none;stroke:#000000;stroke-linecap:square;stroke-linejoin:miter;stroke-width:0.8;\"/>\n   </g>\n   <g id=\"patch_16\">\n    <path d=\"M 156.265217 22.318125 \nL 216.917391 22.318125 \n\" style=\"fill:none;stroke:#000000;stroke-linecap:square;stroke-linejoin:miter;stroke-width:0.8;\"/>\n   </g>\n   <g id=\"text_3\">\n    <!-- 4 -->\n    <defs>\n     <path d=\"M 37.796875 64.3125 \nL 12.890625 25.390625 \nL 37.796875 25.390625 \nz\nM 35.203125 72.90625 \nL 47.609375 72.90625 \nL 47.609375 25.390625 \nL 58.015625 25.390625 \nL 58.015625 17.1875 \nL 47.609375 17.1875 \nL 47.609375 0 \nL 37.796875 0 \nL 37.796875 17.1875 \nL 4.890625 17.1875 \nL 4.890625 26.703125 \nz\n\" id=\"DejaVuSans-52\"/>\n    </defs>\n    <g transform=\"translate(182.773804 16.318125)scale(0.12 -0.12)\">\n     <use xlink:href=\"#DejaVuSans-52\"/>\n    </g>\n   </g>\n  </g>\n  <g id=\"axes_4\">\n   <g id=\"patch_17\">\n    <path d=\"M 229.047826 82.970299 \nL 289.7 82.970299 \nL 289.7 22.318125 \nL 229.047826 22.318125 \nz\n\" style=\"fill:#ffffff;\"/>\n   </g>\n   <g clip-path=\"url(#p6a9d07cbe7)\">\n    <image height=\"61\" id=\"image22f4144da7\" transform=\"scale(1 -1)translate(0 -61)\" width=\"61\" x=\"229.047826\" xlink:href=\"data:image/png;base64,\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\" y=\"-21.970299\"/>\n   </g>\n   <g id=\"patch_18\">\n    <path d=\"M 229.047826 82.970299 \nL 229.047826 22.318125 \n\" style=\"fill:none;stroke:#000000;stroke-linecap:square;stroke-linejoin:miter;stroke-width:0.8;\"/>\n   </g>\n   <g id=\"patch_19\">\n    <path d=\"M 289.7 82.970299 \nL 289.7 22.318125 \n\" style=\"fill:none;stroke:#000000;stroke-linecap:square;stroke-linejoin:miter;stroke-width:0.8;\"/>\n   </g>\n   <g id=\"patch_20\">\n    <path d=\"M 229.047826 82.970299 \nL 289.7 82.970299 \n\" style=\"fill:none;stroke:#000000;stroke-linecap:square;stroke-linejoin:miter;stroke-width:0.8;\"/>\n   </g>\n   <g id=\"patch_21\">\n    <path d=\"M 229.047826 22.318125 \nL 289.7 22.318125 \n\" style=\"fill:none;stroke:#000000;stroke-linecap:square;stroke-linejoin:miter;stroke-width:0.8;\"/>\n   </g>\n   <g id=\"text_4\">\n    <!-- 1 -->\n    <defs>\n     <path d=\"M 12.40625 8.296875 \nL 28.515625 8.296875 \nL 28.515625 63.921875 \nL 10.984375 60.40625 \nL 10.984375 69.390625 \nL 28.421875 72.90625 \nL 38.28125 72.90625 \nL 38.28125 8.296875 \nL 54.390625 8.296875 \nL 54.390625 0 \nL 12.40625 0 \nz\n\" id=\"DejaVuSans-49\"/>\n    </defs>\n    <g transform=\"translate(255.556413 16.318125)scale(0.12 -0.12)\">\n     <use xlink:href=\"#DejaVuSans-49\"/>\n    </g>\n   </g>\n  </g>\n </g>\n <defs>\n  <clipPath id=\"p66cd901ac0\">\n   <rect height=\"60.652174\" width=\"60.652174\" x=\"10.7\" y=\"22.318125\"/>\n  </clipPath>\n  <clipPath id=\"pf6b2cbc61c\">\n   <rect height=\"60.652174\" width=\"60.652174\" x=\"83.482609\" y=\"22.318125\"/>\n  </clipPath>\n  <clipPath id=\"p512e25bdcc\">\n   <rect height=\"60.652174\" width=\"60.652174\" x=\"156.265217\" y=\"22.318125\"/>\n  </clipPath>\n  <clipPath id=\"p6a9d07cbe7\">\n   <rect height=\"60.652174\" width=\"60.652174\" x=\"229.047826\" y=\"22.318125\"/>\n  </clipPath>\n </defs>\n</svg>\n"
          },
          "metadata": {
            "needs_background": "light"
          }
        }
      ]
    },
    {
      "cell_type": "markdown",
      "metadata": {
        "id": "3d-sR_BDquez"
      },
      "source": [
        "# Data pre-processing"
      ]
    },
    {
      "cell_type": "code",
      "metadata": {
        "id": "K8mdaiXGqtxF"
      },
      "source": [
        ""
      ],
      "execution_count": 134,
      "outputs": []
    },
    {
      "cell_type": "code",
      "metadata": {
        "id": "SI-Iwypyqjkf"
      },
      "source": [
        "from tensorflow.keras.models import Sequential\n",
        "from tensorflow.keras.layers import Dense, Flatten\n",
        "def create_model(): \n",
        "    model = Sequential([\n",
        "        # Flatten(input_shape=(28, 28)),\n",
        "        Flatten(input_shape=(28,28,1)),\n",
        "        Dense(5, activation='sigmoid'),\n",
        "        Dense(128, activation='relu'),\n",
        "        Dense(10, activation='softmax'),\n",
        "        # model.add(Dense(5, activation='sigmoid'))\n",
        "    # model.add(Dense(10, activation='softmax'))\n",
        "    ])\n",
        "    return model"
      ],
      "execution_count": 122,
      "outputs": []
    },
    {
      "cell_type": "code",
      "metadata": {
        "colab": {
          "base_uri": "https://localhost:8080/"
        },
        "id": "KiYJjwVpql2a",
        "outputId": "2140e3d3-465d-4723-a7a0-b1cc1f2e2a2d"
      },
      "source": [
        "model = create_model()\n",
        "model.summary()"
      ],
      "execution_count": 135,
      "outputs": [
        {
          "output_type": "stream",
          "name": "stdout",
          "text": [
            "Model: \"sequential_11\"\n",
            "_________________________________________________________________\n",
            "Layer (type)                 Output Shape              Param #   \n",
            "=================================================================\n",
            "flatten_11 (Flatten)         (None, 784)               0         \n",
            "_________________________________________________________________\n",
            "dense_33 (Dense)             (None, 5)                 3925      \n",
            "_________________________________________________________________\n",
            "dense_34 (Dense)             (None, 128)               768       \n",
            "_________________________________________________________________\n",
            "dense_35 (Dense)             (None, 10)                1290      \n",
            "=================================================================\n",
            "Total params: 5,983\n",
            "Trainable params: 5,983\n",
            "Non-trainable params: 0\n",
            "_________________________________________________________________\n"
          ]
        }
      ]
    },
    {
      "cell_type": "code",
      "metadata": {
        "id": "Z8eXMC6UqnmI"
      },
      "source": [
        "sgd = tf.keras.optimizers.SGD(learning_rate=0.01)\n",
        "model.compile(\n",
        "    optimizer=sgd, \n",
        "    loss='sparse_categorical_crossentropy', \n",
        "    metrics=['accuracy']\n",
        ")"
      ],
      "execution_count": 136,
      "outputs": []
    },
    {
      "cell_type": "code",
      "metadata": {
        "colab": {
          "base_uri": "https://localhost:8080/"
        },
        "id": "vcAIQL_8qrCa",
        "outputId": "4b627586-37de-4231-a65b-d7d11c2576a5"
      },
      "source": [
        "history_constant = model.fit(\n",
        "    X_train, \n",
        "    y_train, \n",
        "    epochs=100, \n",
        "    validation_split=0.2,\n",
        "    batch_size=32\n",
        ")"
      ],
      "execution_count": 137,
      "outputs": [
        {
          "output_type": "stream",
          "name": "stdout",
          "text": [
            "Epoch 1/100\n",
            "1500/1500 [==============================] - 3s 2ms/step - loss: 1.7657 - accuracy: 0.4650 - val_loss: 1.3453 - val_accuracy: 0.6332\n",
            "Epoch 2/100\n",
            "1500/1500 [==============================] - 2s 2ms/step - loss: 1.2338 - accuracy: 0.6272 - val_loss: 1.1932 - val_accuracy: 0.6293\n",
            "Epoch 3/100\n",
            "1500/1500 [==============================] - 3s 2ms/step - loss: 1.1355 - accuracy: 0.6373 - val_loss: 0.9403 - val_accuracy: 0.7185\n",
            "Epoch 4/100\n",
            "1500/1500 [==============================] - 3s 2ms/step - loss: 0.9962 - accuracy: 0.6922 - val_loss: 0.9528 - val_accuracy: 0.7145\n",
            "Epoch 5/100\n",
            "1500/1500 [==============================] - 3s 2ms/step - loss: 0.9731 - accuracy: 0.6960 - val_loss: 0.9154 - val_accuracy: 0.7036\n",
            "Epoch 6/100\n",
            "1500/1500 [==============================] - 2s 2ms/step - loss: 0.9368 - accuracy: 0.7056 - val_loss: 0.9050 - val_accuracy: 0.7188\n",
            "Epoch 7/100\n",
            "1500/1500 [==============================] - 3s 2ms/step - loss: 0.9748 - accuracy: 0.6918 - val_loss: 0.9075 - val_accuracy: 0.7068\n",
            "Epoch 8/100\n",
            "1500/1500 [==============================] - 3s 2ms/step - loss: 0.9347 - accuracy: 0.7097 - val_loss: 0.8498 - val_accuracy: 0.7282\n",
            "Epoch 9/100\n",
            "1500/1500 [==============================] - 2s 2ms/step - loss: 0.8858 - accuracy: 0.7200 - val_loss: 1.0148 - val_accuracy: 0.6591\n",
            "Epoch 10/100\n",
            "1500/1500 [==============================] - 2s 2ms/step - loss: 0.8813 - accuracy: 0.7170 - val_loss: 0.9127 - val_accuracy: 0.7029\n",
            "Epoch 11/100\n",
            "1500/1500 [==============================] - 3s 2ms/step - loss: 0.8874 - accuracy: 0.7181 - val_loss: 0.8281 - val_accuracy: 0.7439\n",
            "Epoch 12/100\n",
            "1500/1500 [==============================] - 3s 2ms/step - loss: 0.8625 - accuracy: 0.7346 - val_loss: 0.8505 - val_accuracy: 0.7396\n",
            "Epoch 13/100\n",
            "1500/1500 [==============================] - 3s 2ms/step - loss: 0.9125 - accuracy: 0.7130 - val_loss: 0.9400 - val_accuracy: 0.6751\n",
            "Epoch 14/100\n",
            "1500/1500 [==============================] - 3s 2ms/step - loss: 0.8441 - accuracy: 0.7300 - val_loss: 0.8300 - val_accuracy: 0.7412\n",
            "Epoch 15/100\n",
            "1500/1500 [==============================] - 3s 2ms/step - loss: 0.9029 - accuracy: 0.7041 - val_loss: 0.8064 - val_accuracy: 0.7467\n",
            "Epoch 16/100\n",
            "1500/1500 [==============================] - 3s 2ms/step - loss: 0.8729 - accuracy: 0.7117 - val_loss: 0.8576 - val_accuracy: 0.7085\n",
            "Epoch 17/100\n",
            "1500/1500 [==============================] - 2s 2ms/step - loss: 0.8304 - accuracy: 0.7309 - val_loss: 0.7851 - val_accuracy: 0.7508\n",
            "Epoch 18/100\n",
            "1500/1500 [==============================] - 3s 2ms/step - loss: 0.7941 - accuracy: 0.7493 - val_loss: 0.7690 - val_accuracy: 0.7539\n",
            "Epoch 19/100\n",
            "1500/1500 [==============================] - 3s 2ms/step - loss: 0.8202 - accuracy: 0.7334 - val_loss: 0.8519 - val_accuracy: 0.7067\n",
            "Epoch 20/100\n",
            "1500/1500 [==============================] - 2s 2ms/step - loss: 0.8337 - accuracy: 0.7270 - val_loss: 0.7797 - val_accuracy: 0.7495\n",
            "Epoch 21/100\n",
            "1500/1500 [==============================] - 2s 2ms/step - loss: 0.8165 - accuracy: 0.7355 - val_loss: 0.8841 - val_accuracy: 0.6865\n",
            "Epoch 22/100\n",
            "1500/1500 [==============================] - 3s 2ms/step - loss: 0.8716 - accuracy: 0.7120 - val_loss: 0.7989 - val_accuracy: 0.7448\n",
            "Epoch 23/100\n",
            "1500/1500 [==============================] - 3s 2ms/step - loss: 0.8079 - accuracy: 0.7437 - val_loss: 0.8269 - val_accuracy: 0.7364\n",
            "Epoch 24/100\n",
            "1500/1500 [==============================] - 2s 2ms/step - loss: 0.8073 - accuracy: 0.7387 - val_loss: 0.7972 - val_accuracy: 0.7374\n",
            "Epoch 25/100\n",
            "1500/1500 [==============================] - 3s 2ms/step - loss: 0.7869 - accuracy: 0.7417 - val_loss: 0.9038 - val_accuracy: 0.6871\n",
            "Epoch 26/100\n",
            "1500/1500 [==============================] - 3s 2ms/step - loss: 0.7934 - accuracy: 0.7430 - val_loss: 0.7578 - val_accuracy: 0.7572\n",
            "Epoch 27/100\n",
            "1500/1500 [==============================] - 2s 2ms/step - loss: 0.7870 - accuracy: 0.7514 - val_loss: 0.7638 - val_accuracy: 0.7552\n",
            "Epoch 28/100\n",
            "1500/1500 [==============================] - 3s 2ms/step - loss: 0.7981 - accuracy: 0.7477 - val_loss: 0.7629 - val_accuracy: 0.7499\n",
            "Epoch 29/100\n",
            "1500/1500 [==============================] - 2s 2ms/step - loss: 0.7822 - accuracy: 0.7461 - val_loss: 0.7694 - val_accuracy: 0.7421\n",
            "Epoch 30/100\n",
            "1500/1500 [==============================] - 2s 2ms/step - loss: 0.7783 - accuracy: 0.7434 - val_loss: 0.7642 - val_accuracy: 0.7465\n",
            "Epoch 31/100\n",
            "1500/1500 [==============================] - 2s 2ms/step - loss: 0.7584 - accuracy: 0.7521 - val_loss: 0.7440 - val_accuracy: 0.7522\n",
            "Epoch 32/100\n",
            "1500/1500 [==============================] - 3s 2ms/step - loss: 0.7717 - accuracy: 0.7471 - val_loss: 0.7333 - val_accuracy: 0.7536\n",
            "Epoch 33/100\n",
            "1500/1500 [==============================] - 2s 2ms/step - loss: 0.7640 - accuracy: 0.7542 - val_loss: 0.7992 - val_accuracy: 0.7442\n",
            "Epoch 34/100\n",
            "1500/1500 [==============================] - 3s 2ms/step - loss: 0.7889 - accuracy: 0.7496 - val_loss: 0.7269 - val_accuracy: 0.7749\n",
            "Epoch 35/100\n",
            "1500/1500 [==============================] - 3s 2ms/step - loss: 0.7532 - accuracy: 0.7598 - val_loss: 0.8485 - val_accuracy: 0.7306\n",
            "Epoch 36/100\n",
            "1500/1500 [==============================] - 2s 2ms/step - loss: 0.7584 - accuracy: 0.7618 - val_loss: 0.7101 - val_accuracy: 0.7697\n",
            "Epoch 37/100\n",
            "1500/1500 [==============================] - 3s 2ms/step - loss: 0.8101 - accuracy: 0.7385 - val_loss: 0.7576 - val_accuracy: 0.7429\n",
            "Epoch 38/100\n",
            "1500/1500 [==============================] - 3s 2ms/step - loss: 0.8140 - accuracy: 0.7153 - val_loss: 0.8162 - val_accuracy: 0.7081\n",
            "Epoch 39/100\n",
            "1500/1500 [==============================] - 2s 2ms/step - loss: 0.8002 - accuracy: 0.7273 - val_loss: 0.7536 - val_accuracy: 0.7521\n",
            "Epoch 40/100\n",
            "1500/1500 [==============================] - 3s 2ms/step - loss: 0.7628 - accuracy: 0.7494 - val_loss: 0.7114 - val_accuracy: 0.7717\n",
            "Epoch 41/100\n",
            "1500/1500 [==============================] - 2s 2ms/step - loss: 0.7520 - accuracy: 0.7564 - val_loss: 0.7762 - val_accuracy: 0.7500\n",
            "Epoch 42/100\n",
            "1500/1500 [==============================] - 3s 2ms/step - loss: 0.7650 - accuracy: 0.7477 - val_loss: 0.7464 - val_accuracy: 0.7507\n",
            "Epoch 43/100\n",
            "1500/1500 [==============================] - 3s 2ms/step - loss: 0.7499 - accuracy: 0.7545 - val_loss: 0.7186 - val_accuracy: 0.7616\n",
            "Epoch 44/100\n",
            "1500/1500 [==============================] - 3s 2ms/step - loss: 0.7771 - accuracy: 0.7466 - val_loss: 0.7856 - val_accuracy: 0.7305\n",
            "Epoch 45/100\n",
            "1500/1500 [==============================] - 2s 2ms/step - loss: 0.7424 - accuracy: 0.7566 - val_loss: 0.7142 - val_accuracy: 0.7634\n",
            "Epoch 46/100\n",
            "1500/1500 [==============================] - 2s 2ms/step - loss: 0.7328 - accuracy: 0.7577 - val_loss: 0.7009 - val_accuracy: 0.7728\n",
            "Epoch 47/100\n",
            "1500/1500 [==============================] - 2s 2ms/step - loss: 0.7592 - accuracy: 0.7568 - val_loss: 0.7603 - val_accuracy: 0.7543\n",
            "Epoch 48/100\n",
            "1500/1500 [==============================] - 2s 2ms/step - loss: 0.7596 - accuracy: 0.7495 - val_loss: 0.7071 - val_accuracy: 0.7669\n",
            "Epoch 49/100\n",
            "1500/1500 [==============================] - 2s 2ms/step - loss: 0.7519 - accuracy: 0.7518 - val_loss: 0.7192 - val_accuracy: 0.7629\n",
            "Epoch 50/100\n",
            "1500/1500 [==============================] - 2s 2ms/step - loss: 0.7320 - accuracy: 0.7636 - val_loss: 0.7159 - val_accuracy: 0.7713\n",
            "Epoch 51/100\n",
            "1500/1500 [==============================] - 3s 2ms/step - loss: 0.7543 - accuracy: 0.7609 - val_loss: 0.7435 - val_accuracy: 0.7660\n",
            "Epoch 52/100\n",
            "1500/1500 [==============================] - 3s 2ms/step - loss: 0.7630 - accuracy: 0.7578 - val_loss: 0.7055 - val_accuracy: 0.7735\n",
            "Epoch 53/100\n",
            "1500/1500 [==============================] - 3s 2ms/step - loss: 0.7207 - accuracy: 0.7691 - val_loss: 0.7030 - val_accuracy: 0.7689\n",
            "Epoch 54/100\n",
            "1500/1500 [==============================] - 2s 2ms/step - loss: 0.7236 - accuracy: 0.7665 - val_loss: 0.7721 - val_accuracy: 0.7494\n",
            "Epoch 55/100\n",
            "1500/1500 [==============================] - 3s 2ms/step - loss: 0.7462 - accuracy: 0.7585 - val_loss: 0.7176 - val_accuracy: 0.7757\n",
            "Epoch 56/100\n",
            "1500/1500 [==============================] - 2s 2ms/step - loss: 0.7078 - accuracy: 0.7763 - val_loss: 0.6892 - val_accuracy: 0.7763\n",
            "Epoch 57/100\n",
            "1500/1500 [==============================] - 2s 2ms/step - loss: 0.7019 - accuracy: 0.7750 - val_loss: 0.6875 - val_accuracy: 0.7820\n",
            "Epoch 58/100\n",
            "1500/1500 [==============================] - 2s 2ms/step - loss: 0.7458 - accuracy: 0.7587 - val_loss: 0.7401 - val_accuracy: 0.7503\n",
            "Epoch 59/100\n",
            "1500/1500 [==============================] - 2s 2ms/step - loss: 0.7098 - accuracy: 0.7685 - val_loss: 0.6921 - val_accuracy: 0.7757\n",
            "Epoch 60/100\n",
            "1500/1500 [==============================] - 3s 2ms/step - loss: 0.7053 - accuracy: 0.7752 - val_loss: 0.6931 - val_accuracy: 0.7846\n",
            "Epoch 61/100\n",
            "1500/1500 [==============================] - 2s 2ms/step - loss: 0.7111 - accuracy: 0.7790 - val_loss: 0.6949 - val_accuracy: 0.7793\n",
            "Epoch 62/100\n",
            "1500/1500 [==============================] - 3s 2ms/step - loss: 0.7134 - accuracy: 0.7751 - val_loss: 0.7444 - val_accuracy: 0.7608\n",
            "Epoch 63/100\n",
            "1500/1500 [==============================] - 3s 2ms/step - loss: 0.7088 - accuracy: 0.7720 - val_loss: 0.6704 - val_accuracy: 0.7883\n",
            "Epoch 64/100\n",
            "1500/1500 [==============================] - 2s 2ms/step - loss: 0.6963 - accuracy: 0.7768 - val_loss: 0.7076 - val_accuracy: 0.7754\n",
            "Epoch 65/100\n",
            "1500/1500 [==============================] - 2s 2ms/step - loss: 0.7476 - accuracy: 0.7544 - val_loss: 0.7423 - val_accuracy: 0.7466\n",
            "Epoch 66/100\n",
            "1500/1500 [==============================] - 3s 2ms/step - loss: 0.7189 - accuracy: 0.7648 - val_loss: 0.7127 - val_accuracy: 0.7707\n",
            "Epoch 67/100\n",
            "1500/1500 [==============================] - 3s 2ms/step - loss: 0.7450 - accuracy: 0.7560 - val_loss: 0.7500 - val_accuracy: 0.7596\n",
            "Epoch 68/100\n",
            "1500/1500 [==============================] - 3s 2ms/step - loss: 0.7809 - accuracy: 0.7482 - val_loss: 0.7374 - val_accuracy: 0.7514\n",
            "Epoch 69/100\n",
            "1500/1500 [==============================] - 2s 2ms/step - loss: 0.6990 - accuracy: 0.7764 - val_loss: 0.6906 - val_accuracy: 0.7803\n",
            "Epoch 70/100\n",
            "1500/1500 [==============================] - 2s 2ms/step - loss: 0.7412 - accuracy: 0.7627 - val_loss: 0.7733 - val_accuracy: 0.7515\n",
            "Epoch 71/100\n",
            "1500/1500 [==============================] - 2s 2ms/step - loss: 0.7472 - accuracy: 0.7588 - val_loss: 0.6904 - val_accuracy: 0.7782\n",
            "Epoch 72/100\n",
            "1500/1500 [==============================] - 3s 2ms/step - loss: 0.7235 - accuracy: 0.7652 - val_loss: 0.7159 - val_accuracy: 0.7663\n",
            "Epoch 73/100\n",
            "1500/1500 [==============================] - 3s 2ms/step - loss: 0.6872 - accuracy: 0.7807 - val_loss: 0.6735 - val_accuracy: 0.7873\n",
            "Epoch 74/100\n",
            "1500/1500 [==============================] - 3s 2ms/step - loss: 0.6964 - accuracy: 0.7787 - val_loss: 0.7057 - val_accuracy: 0.7720\n",
            "Epoch 75/100\n",
            "1500/1500 [==============================] - 3s 2ms/step - loss: 0.7123 - accuracy: 0.7710 - val_loss: 0.7143 - val_accuracy: 0.7660\n",
            "Epoch 76/100\n",
            "1500/1500 [==============================] - 3s 2ms/step - loss: 0.7169 - accuracy: 0.7678 - val_loss: 0.6863 - val_accuracy: 0.7838\n",
            "Epoch 77/100\n",
            "1500/1500 [==============================] - 2s 2ms/step - loss: 0.7089 - accuracy: 0.7756 - val_loss: 0.7116 - val_accuracy: 0.7721\n",
            "Epoch 78/100\n",
            "1500/1500 [==============================] - 2s 2ms/step - loss: 0.6985 - accuracy: 0.7812 - val_loss: 0.6725 - val_accuracy: 0.7878\n",
            "Epoch 79/100\n",
            "1500/1500 [==============================] - 3s 2ms/step - loss: 0.7287 - accuracy: 0.7605 - val_loss: 0.7669 - val_accuracy: 0.7477\n",
            "Epoch 80/100\n",
            "1500/1500 [==============================] - 2s 2ms/step - loss: 0.7132 - accuracy: 0.7715 - val_loss: 0.7026 - val_accuracy: 0.7784\n",
            "Epoch 81/100\n",
            "1500/1500 [==============================] - 3s 2ms/step - loss: 0.7351 - accuracy: 0.7638 - val_loss: 0.7474 - val_accuracy: 0.7587\n",
            "Epoch 82/100\n",
            "1500/1500 [==============================] - 2s 2ms/step - loss: 0.7078 - accuracy: 0.7777 - val_loss: 0.6897 - val_accuracy: 0.7847\n",
            "Epoch 83/100\n",
            "1500/1500 [==============================] - 2s 2ms/step - loss: 0.7200 - accuracy: 0.7694 - val_loss: 0.7025 - val_accuracy: 0.7687\n",
            "Epoch 84/100\n",
            "1500/1500 [==============================] - 2s 2ms/step - loss: 0.7246 - accuracy: 0.7723 - val_loss: 0.6735 - val_accuracy: 0.7885\n",
            "Epoch 85/100\n",
            "1500/1500 [==============================] - 3s 2ms/step - loss: 0.7102 - accuracy: 0.7769 - val_loss: 0.7132 - val_accuracy: 0.7707\n",
            "Epoch 86/100\n",
            "1500/1500 [==============================] - 3s 2ms/step - loss: 0.7234 - accuracy: 0.7696 - val_loss: 0.6971 - val_accuracy: 0.7778\n",
            "Epoch 87/100\n",
            "1500/1500 [==============================] - 3s 2ms/step - loss: 0.7194 - accuracy: 0.7675 - val_loss: 0.7196 - val_accuracy: 0.7625\n",
            "Epoch 88/100\n",
            "1500/1500 [==============================] - 3s 2ms/step - loss: 0.7039 - accuracy: 0.7713 - val_loss: 0.6808 - val_accuracy: 0.7826\n",
            "Epoch 89/100\n",
            "1500/1500 [==============================] - 3s 2ms/step - loss: 0.7112 - accuracy: 0.7685 - val_loss: 0.6758 - val_accuracy: 0.7817\n",
            "Epoch 90/100\n",
            "1500/1500 [==============================] - 2s 2ms/step - loss: 0.7169 - accuracy: 0.7645 - val_loss: 0.7503 - val_accuracy: 0.7567\n",
            "Epoch 91/100\n",
            "1500/1500 [==============================] - 2s 2ms/step - loss: 0.7226 - accuracy: 0.7633 - val_loss: 0.7703 - val_accuracy: 0.7462\n",
            "Epoch 92/100\n",
            "1500/1500 [==============================] - 3s 2ms/step - loss: 0.7145 - accuracy: 0.7685 - val_loss: 0.6802 - val_accuracy: 0.7781\n",
            "Epoch 93/100\n",
            "1500/1500 [==============================] - 3s 2ms/step - loss: 0.7038 - accuracy: 0.7750 - val_loss: 0.7034 - val_accuracy: 0.7753\n",
            "Epoch 94/100\n",
            "1500/1500 [==============================] - 2s 2ms/step - loss: 0.7036 - accuracy: 0.7741 - val_loss: 0.7043 - val_accuracy: 0.7697\n",
            "Epoch 95/100\n",
            "1500/1500 [==============================] - 3s 2ms/step - loss: 0.6972 - accuracy: 0.7758 - val_loss: 0.6567 - val_accuracy: 0.7922\n",
            "Epoch 96/100\n",
            "1500/1500 [==============================] - 2s 2ms/step - loss: 0.6794 - accuracy: 0.7863 - val_loss: 0.6682 - val_accuracy: 0.7890\n",
            "Epoch 97/100\n",
            "1500/1500 [==============================] - 3s 2ms/step - loss: 0.6681 - accuracy: 0.7896 - val_loss: 0.6567 - val_accuracy: 0.7921\n",
            "Epoch 98/100\n",
            "1500/1500 [==============================] - 2s 2ms/step - loss: 0.7290 - accuracy: 0.7616 - val_loss: 0.8641 - val_accuracy: 0.7007\n",
            "Epoch 99/100\n",
            "1500/1500 [==============================] - 3s 2ms/step - loss: 0.7568 - accuracy: 0.7490 - val_loss: 0.6802 - val_accuracy: 0.7820\n",
            "Epoch 100/100\n",
            "1500/1500 [==============================] - 2s 2ms/step - loss: 0.7011 - accuracy: 0.7738 - val_loss: 0.7982 - val_accuracy: 0.7313\n"
          ]
        }
      ]
    },
    {
      "cell_type": "code",
      "metadata": {
        "colab": {
          "base_uri": "https://localhost:8080/"
        },
        "id": "RPkYKenytD1K",
        "outputId": "37058348-174c-4680-9a76-a173166d3e9b"
      },
      "source": [
        "!pip install livelossplot"
      ],
      "execution_count": 138,
      "outputs": [
        {
          "output_type": "stream",
          "name": "stdout",
          "text": [
            "Requirement already satisfied: livelossplot in /usr/local/lib/python3.7/dist-packages (0.5.4)\n",
            "Requirement already satisfied: matplotlib in /usr/local/lib/python3.7/dist-packages (from livelossplot) (3.2.2)\n",
            "Requirement already satisfied: bokeh in /usr/local/lib/python3.7/dist-packages (from livelossplot) (2.3.3)\n",
            "Requirement already satisfied: ipython in /usr/local/lib/python3.7/dist-packages (from livelossplot) (5.5.0)\n",
            "Requirement already satisfied: packaging>=16.8 in /usr/local/lib/python3.7/dist-packages (from bokeh->livelossplot) (21.0)\n",
            "Requirement already satisfied: pillow>=7.1.0 in /usr/local/lib/python3.7/dist-packages (from bokeh->livelossplot) (7.1.2)\n",
            "Requirement already satisfied: typing-extensions>=3.7.4 in /usr/local/lib/python3.7/dist-packages (from bokeh->livelossplot) (3.7.4.3)\n",
            "Requirement already satisfied: python-dateutil>=2.1 in /usr/local/lib/python3.7/dist-packages (from bokeh->livelossplot) (2.8.2)\n",
            "Requirement already satisfied: PyYAML>=3.10 in /usr/local/lib/python3.7/dist-packages (from bokeh->livelossplot) (3.13)\n",
            "Requirement already satisfied: tornado>=5.1 in /usr/local/lib/python3.7/dist-packages (from bokeh->livelossplot) (5.1.1)\n",
            "Requirement already satisfied: Jinja2>=2.9 in /usr/local/lib/python3.7/dist-packages (from bokeh->livelossplot) (2.11.3)\n",
            "Requirement already satisfied: numpy>=1.11.3 in /usr/local/lib/python3.7/dist-packages (from bokeh->livelossplot) (1.19.5)\n",
            "Requirement already satisfied: MarkupSafe>=0.23 in /usr/local/lib/python3.7/dist-packages (from Jinja2>=2.9->bokeh->livelossplot) (2.0.1)\n",
            "Requirement already satisfied: pyparsing>=2.0.2 in /usr/local/lib/python3.7/dist-packages (from packaging>=16.8->bokeh->livelossplot) (2.4.7)\n",
            "Requirement already satisfied: six>=1.5 in /usr/local/lib/python3.7/dist-packages (from python-dateutil>=2.1->bokeh->livelossplot) (1.15.0)\n",
            "Requirement already satisfied: decorator in /usr/local/lib/python3.7/dist-packages (from ipython->livelossplot) (4.4.2)\n",
            "Requirement already satisfied: simplegeneric>0.8 in /usr/local/lib/python3.7/dist-packages (from ipython->livelossplot) (0.8.1)\n",
            "Requirement already satisfied: pygments in /usr/local/lib/python3.7/dist-packages (from ipython->livelossplot) (2.6.1)\n",
            "Requirement already satisfied: pexpect in /usr/local/lib/python3.7/dist-packages (from ipython->livelossplot) (4.8.0)\n",
            "Requirement already satisfied: setuptools>=18.5 in /usr/local/lib/python3.7/dist-packages (from ipython->livelossplot) (57.4.0)\n",
            "Requirement already satisfied: traitlets>=4.2 in /usr/local/lib/python3.7/dist-packages (from ipython->livelossplot) (5.1.0)\n",
            "Requirement already satisfied: pickleshare in /usr/local/lib/python3.7/dist-packages (from ipython->livelossplot) (0.7.5)\n",
            "Requirement already satisfied: prompt-toolkit<2.0.0,>=1.0.4 in /usr/local/lib/python3.7/dist-packages (from ipython->livelossplot) (1.0.18)\n",
            "Requirement already satisfied: wcwidth in /usr/local/lib/python3.7/dist-packages (from prompt-toolkit<2.0.0,>=1.0.4->ipython->livelossplot) (0.2.5)\n",
            "Requirement already satisfied: kiwisolver>=1.0.1 in /usr/local/lib/python3.7/dist-packages (from matplotlib->livelossplot) (1.3.2)\n",
            "Requirement already satisfied: cycler>=0.10 in /usr/local/lib/python3.7/dist-packages (from matplotlib->livelossplot) (0.10.0)\n",
            "Requirement already satisfied: ptyprocess>=0.5 in /usr/local/lib/python3.7/dist-packages (from pexpect->ipython->livelossplot) (0.7.0)\n"
          ]
        }
      ]
    },
    {
      "cell_type": "code",
      "metadata": {
        "id": "JDA4DPzDtHkq"
      },
      "source": [
        "from livelossplot import PlotLossesKeras"
      ],
      "execution_count": 139,
      "outputs": []
    },
    {
      "cell_type": "code",
      "metadata": {
        "colab": {
          "base_uri": "https://localhost:8080/",
          "height": 1000
        },
        "id": "RPAWdkb-ryZj",
        "outputId": "0f17deac-eb60-4ded-fe09-565502f20bb4"
      },
      "source": [
        "from keras.models import Sequential\n",
        "from keras.layers import Dense, Dropout, Activation\n",
        "# from keras.optimizers import SGD\n",
        "from keras.wrappers.scikit_learn import KerasRegressor\n",
        "from keras.callbacks import EarlyStopping\n",
        "from keras.callbacks import ModelCheckpoint\n",
        "from keras.callbacks import LearningRateScheduler\n",
        "from numpy import math\n",
        "from keras.models import load_model\n",
        "\n",
        "initial_learning_rate = 0.01\n",
        "def lr_exp_decay(epoch, lr):\n",
        "    k = 0.1\n",
        "    return initial_learning_rate * math.exp(-k*epoch)\n",
        "\n",
        "# Fit the model to the training data\n",
        "history_exp_decay = model.fit(\n",
        "    X_train, \n",
        "    y_train, \n",
        "    epochs=100, \n",
        "    validation_split=0.2,\n",
        "    batch_size=128,\n",
        "    callbacks=[LearningRateScheduler(lr_exp_decay, verbose=1),PlotLossesKeras(), EarlyStopping(monitor='val_loss', mode='min', verbose=1, patience=50),ModelCheckpoint('best_model.h5', monitor='val_accuracy', mode='max', verbose=1, save_best_only=True)],\n",
        ")"
      ],
      "execution_count": 140,
      "outputs": [
        {
          "output_type": "display_data",
          "data": {
            "text/plain": [
              "<Figure size 864x864 with 4 Axes>"
            ],
            "image/svg+xml": "<?xml version=\"1.0\" encoding=\"utf-8\" standalone=\"no\"?>\n<!DOCTYPE svg PUBLIC \"-//W3C//DTD SVG 1.1//EN\"\n  \"http://www.w3.org/Graphics/SVG/1.1/DTD/svg11.dtd\">\n<!-- Created with matplotlib (https://matplotlib.org/) -->\n<svg height=\"855.274375pt\" version=\"1.1\" viewBox=\"0 0 857.053125 855.274375\" width=\"857.053125pt\" xmlns=\"http://www.w3.org/2000/svg\" xmlns:xlink=\"http://www.w3.org/1999/xlink\">\n <defs>\n  <style type=\"text/css\">\n*{stroke-linecap:butt;stroke-linejoin:round;}\n  </style>\n </defs>\n <g id=\"figure_1\">\n  <g id=\"patch_1\">\n   <path d=\"M 0 855.274375 \nL 857.053125 855.274375 \nL 857.053125 0 \nL 0 0 \nz\n\" style=\"fill:none;\"/>\n  </g>\n  <g id=\"axes_1\">\n   <g id=\"patch_2\">\n    <path d=\"M 42.828125 391.118125 \nL 426.315625 391.118125 \nL 426.315625 22.318125 \nL 42.828125 22.318125 \nz\n\" style=\"fill:#ffffff;\"/>\n   </g>\n   <g id=\"matplotlib.axis_1\">\n    <g id=\"xtick_1\">\n     <g id=\"line2d_1\">\n      <defs>\n       <path d=\"M 0 0 \nL 0 3.5 \n\" id=\"m2eafbc264e\" style=\"stroke:#000000;stroke-width:0.8;\"/>\n      </defs>\n      <g>\n       <use style=\"stroke:#000000;stroke-width:0.8;\" x=\"60.259375\" xlink:href=\"#m2eafbc264e\" y=\"391.118125\"/>\n      </g>\n     </g>\n     <g id=\"text_1\">\n      <!-- 0 -->\n      <defs>\n       <path d=\"M 31.78125 66.40625 \nQ 24.171875 66.40625 20.328125 58.90625 \nQ 16.5 51.421875 16.5 36.375 \nQ 16.5 21.390625 20.328125 13.890625 \nQ 24.171875 6.390625 31.78125 6.390625 \nQ 39.453125 6.390625 43.28125 13.890625 \nQ 47.125 21.390625 47.125 36.375 \nQ 47.125 51.421875 43.28125 58.90625 \nQ 39.453125 66.40625 31.78125 66.40625 \nz\nM 31.78125 74.21875 \nQ 44.046875 74.21875 50.515625 64.515625 \nQ 56.984375 54.828125 56.984375 36.375 \nQ 56.984375 17.96875 50.515625 8.265625 \nQ 44.046875 -1.421875 31.78125 -1.421875 \nQ 19.53125 -1.421875 13.0625 8.265625 \nQ 6.59375 17.96875 6.59375 36.375 \nQ 6.59375 54.828125 13.0625 64.515625 \nQ 19.53125 74.21875 31.78125 74.21875 \nz\n\" id=\"DejaVuSans-48\"/>\n      </defs>\n      <g transform=\"translate(57.078125 405.716562)scale(0.1 -0.1)\">\n       <use xlink:href=\"#DejaVuSans-48\"/>\n      </g>\n     </g>\n    </g>\n    <g id=\"xtick_2\">\n     <g id=\"line2d_2\">\n      <g>\n       <use style=\"stroke:#000000;stroke-width:0.8;\" x=\"110.784737\" xlink:href=\"#m2eafbc264e\" y=\"391.118125\"/>\n      </g>\n     </g>\n     <g id=\"text_2\">\n      <!-- 10 -->\n      <defs>\n       <path d=\"M 12.40625 8.296875 \nL 28.515625 8.296875 \nL 28.515625 63.921875 \nL 10.984375 60.40625 \nL 10.984375 69.390625 \nL 28.421875 72.90625 \nL 38.28125 72.90625 \nL 38.28125 8.296875 \nL 54.390625 8.296875 \nL 54.390625 0 \nL 12.40625 0 \nz\n\" id=\"DejaVuSans-49\"/>\n      </defs>\n      <g transform=\"translate(104.422237 405.716562)scale(0.1 -0.1)\">\n       <use xlink:href=\"#DejaVuSans-49\"/>\n       <use x=\"63.623047\" xlink:href=\"#DejaVuSans-48\"/>\n      </g>\n     </g>\n    </g>\n    <g id=\"xtick_3\">\n     <g id=\"line2d_3\">\n      <g>\n       <use style=\"stroke:#000000;stroke-width:0.8;\" x=\"161.3101\" xlink:href=\"#m2eafbc264e\" y=\"391.118125\"/>\n      </g>\n     </g>\n     <g id=\"text_3\">\n      <!-- 20 -->\n      <defs>\n       <path d=\"M 19.1875 8.296875 \nL 53.609375 8.296875 \nL 53.609375 0 \nL 7.328125 0 \nL 7.328125 8.296875 \nQ 12.9375 14.109375 22.625 23.890625 \nQ 32.328125 33.6875 34.8125 36.53125 \nQ 39.546875 41.84375 41.421875 45.53125 \nQ 43.3125 49.21875 43.3125 52.78125 \nQ 43.3125 58.59375 39.234375 62.25 \nQ 35.15625 65.921875 28.609375 65.921875 \nQ 23.96875 65.921875 18.8125 64.3125 \nQ 13.671875 62.703125 7.8125 59.421875 \nL 7.8125 69.390625 \nQ 13.765625 71.78125 18.9375 73 \nQ 24.125 74.21875 28.421875 74.21875 \nQ 39.75 74.21875 46.484375 68.546875 \nQ 53.21875 62.890625 53.21875 53.421875 \nQ 53.21875 48.921875 51.53125 44.890625 \nQ 49.859375 40.875 45.40625 35.40625 \nQ 44.1875 33.984375 37.640625 27.21875 \nQ 31.109375 20.453125 19.1875 8.296875 \nz\n\" id=\"DejaVuSans-50\"/>\n      </defs>\n      <g transform=\"translate(154.9476 405.716562)scale(0.1 -0.1)\">\n       <use xlink:href=\"#DejaVuSans-50\"/>\n       <use x=\"63.623047\" xlink:href=\"#DejaVuSans-48\"/>\n      </g>\n     </g>\n    </g>\n    <g id=\"xtick_4\">\n     <g id=\"line2d_4\">\n      <g>\n       <use style=\"stroke:#000000;stroke-width:0.8;\" x=\"211.835462\" xlink:href=\"#m2eafbc264e\" y=\"391.118125\"/>\n      </g>\n     </g>\n     <g id=\"text_4\">\n      <!-- 30 -->\n      <defs>\n       <path d=\"M 40.578125 39.3125 \nQ 47.65625 37.796875 51.625 33 \nQ 55.609375 28.21875 55.609375 21.1875 \nQ 55.609375 10.40625 48.1875 4.484375 \nQ 40.765625 -1.421875 27.09375 -1.421875 \nQ 22.515625 -1.421875 17.65625 -0.515625 \nQ 12.796875 0.390625 7.625 2.203125 \nL 7.625 11.71875 \nQ 11.71875 9.328125 16.59375 8.109375 \nQ 21.484375 6.890625 26.8125 6.890625 \nQ 36.078125 6.890625 40.9375 10.546875 \nQ 45.796875 14.203125 45.796875 21.1875 \nQ 45.796875 27.640625 41.28125 31.265625 \nQ 36.765625 34.90625 28.71875 34.90625 \nL 20.21875 34.90625 \nL 20.21875 43.015625 \nL 29.109375 43.015625 \nQ 36.375 43.015625 40.234375 45.921875 \nQ 44.09375 48.828125 44.09375 54.296875 \nQ 44.09375 59.90625 40.109375 62.90625 \nQ 36.140625 65.921875 28.71875 65.921875 \nQ 24.65625 65.921875 20.015625 65.03125 \nQ 15.375 64.15625 9.8125 62.3125 \nL 9.8125 71.09375 \nQ 15.4375 72.65625 20.34375 73.4375 \nQ 25.25 74.21875 29.59375 74.21875 \nQ 40.828125 74.21875 47.359375 69.109375 \nQ 53.90625 64.015625 53.90625 55.328125 \nQ 53.90625 49.265625 50.4375 45.09375 \nQ 46.96875 40.921875 40.578125 39.3125 \nz\n\" id=\"DejaVuSans-51\"/>\n      </defs>\n      <g transform=\"translate(205.472962 405.716562)scale(0.1 -0.1)\">\n       <use xlink:href=\"#DejaVuSans-51\"/>\n       <use x=\"63.623047\" xlink:href=\"#DejaVuSans-48\"/>\n      </g>\n     </g>\n    </g>\n    <g id=\"xtick_5\">\n     <g id=\"line2d_5\">\n      <g>\n       <use style=\"stroke:#000000;stroke-width:0.8;\" x=\"262.360824\" xlink:href=\"#m2eafbc264e\" y=\"391.118125\"/>\n      </g>\n     </g>\n     <g id=\"text_5\">\n      <!-- 40 -->\n      <defs>\n       <path d=\"M 37.796875 64.3125 \nL 12.890625 25.390625 \nL 37.796875 25.390625 \nz\nM 35.203125 72.90625 \nL 47.609375 72.90625 \nL 47.609375 25.390625 \nL 58.015625 25.390625 \nL 58.015625 17.1875 \nL 47.609375 17.1875 \nL 47.609375 0 \nL 37.796875 0 \nL 37.796875 17.1875 \nL 4.890625 17.1875 \nL 4.890625 26.703125 \nz\n\" id=\"DejaVuSans-52\"/>\n      </defs>\n      <g transform=\"translate(255.998324 405.716562)scale(0.1 -0.1)\">\n       <use xlink:href=\"#DejaVuSans-52\"/>\n       <use x=\"63.623047\" xlink:href=\"#DejaVuSans-48\"/>\n      </g>\n     </g>\n    </g>\n    <g id=\"xtick_6\">\n     <g id=\"line2d_6\">\n      <g>\n       <use style=\"stroke:#000000;stroke-width:0.8;\" x=\"312.886187\" xlink:href=\"#m2eafbc264e\" y=\"391.118125\"/>\n      </g>\n     </g>\n     <g id=\"text_6\">\n      <!-- 50 -->\n      <defs>\n       <path d=\"M 10.796875 72.90625 \nL 49.515625 72.90625 \nL 49.515625 64.59375 \nL 19.828125 64.59375 \nL 19.828125 46.734375 \nQ 21.96875 47.46875 24.109375 47.828125 \nQ 26.265625 48.1875 28.421875 48.1875 \nQ 40.625 48.1875 47.75 41.5 \nQ 54.890625 34.8125 54.890625 23.390625 \nQ 54.890625 11.625 47.5625 5.09375 \nQ 40.234375 -1.421875 26.90625 -1.421875 \nQ 22.3125 -1.421875 17.546875 -0.640625 \nQ 12.796875 0.140625 7.71875 1.703125 \nL 7.71875 11.625 \nQ 12.109375 9.234375 16.796875 8.0625 \nQ 21.484375 6.890625 26.703125 6.890625 \nQ 35.15625 6.890625 40.078125 11.328125 \nQ 45.015625 15.765625 45.015625 23.390625 \nQ 45.015625 31 40.078125 35.4375 \nQ 35.15625 39.890625 26.703125 39.890625 \nQ 22.75 39.890625 18.8125 39.015625 \nQ 14.890625 38.140625 10.796875 36.28125 \nz\n\" id=\"DejaVuSans-53\"/>\n      </defs>\n      <g transform=\"translate(306.523687 405.716562)scale(0.1 -0.1)\">\n       <use xlink:href=\"#DejaVuSans-53\"/>\n       <use x=\"63.623047\" xlink:href=\"#DejaVuSans-48\"/>\n      </g>\n     </g>\n    </g>\n    <g id=\"xtick_7\">\n     <g id=\"line2d_7\">\n      <g>\n       <use style=\"stroke:#000000;stroke-width:0.8;\" x=\"363.411549\" xlink:href=\"#m2eafbc264e\" y=\"391.118125\"/>\n      </g>\n     </g>\n     <g id=\"text_7\">\n      <!-- 60 -->\n      <defs>\n       <path d=\"M 33.015625 40.375 \nQ 26.375 40.375 22.484375 35.828125 \nQ 18.609375 31.296875 18.609375 23.390625 \nQ 18.609375 15.53125 22.484375 10.953125 \nQ 26.375 6.390625 33.015625 6.390625 \nQ 39.65625 6.390625 43.53125 10.953125 \nQ 47.40625 15.53125 47.40625 23.390625 \nQ 47.40625 31.296875 43.53125 35.828125 \nQ 39.65625 40.375 33.015625 40.375 \nz\nM 52.59375 71.296875 \nL 52.59375 62.3125 \nQ 48.875 64.0625 45.09375 64.984375 \nQ 41.3125 65.921875 37.59375 65.921875 \nQ 27.828125 65.921875 22.671875 59.328125 \nQ 17.53125 52.734375 16.796875 39.40625 \nQ 19.671875 43.65625 24.015625 45.921875 \nQ 28.375 48.1875 33.59375 48.1875 \nQ 44.578125 48.1875 50.953125 41.515625 \nQ 57.328125 34.859375 57.328125 23.390625 \nQ 57.328125 12.15625 50.6875 5.359375 \nQ 44.046875 -1.421875 33.015625 -1.421875 \nQ 20.359375 -1.421875 13.671875 8.265625 \nQ 6.984375 17.96875 6.984375 36.375 \nQ 6.984375 53.65625 15.1875 63.9375 \nQ 23.390625 74.21875 37.203125 74.21875 \nQ 40.921875 74.21875 44.703125 73.484375 \nQ 48.484375 72.75 52.59375 71.296875 \nz\n\" id=\"DejaVuSans-54\"/>\n      </defs>\n      <g transform=\"translate(357.049049 405.716562)scale(0.1 -0.1)\">\n       <use xlink:href=\"#DejaVuSans-54\"/>\n       <use x=\"63.623047\" xlink:href=\"#DejaVuSans-48\"/>\n      </g>\n     </g>\n    </g>\n    <g id=\"xtick_8\">\n     <g id=\"line2d_8\">\n      <g>\n       <use style=\"stroke:#000000;stroke-width:0.8;\" x=\"413.936911\" xlink:href=\"#m2eafbc264e\" y=\"391.118125\"/>\n      </g>\n     </g>\n     <g id=\"text_8\">\n      <!-- 70 -->\n      <defs>\n       <path d=\"M 8.203125 72.90625 \nL 55.078125 72.90625 \nL 55.078125 68.703125 \nL 28.609375 0 \nL 18.3125 0 \nL 43.21875 64.59375 \nL 8.203125 64.59375 \nz\n\" id=\"DejaVuSans-55\"/>\n      </defs>\n      <g transform=\"translate(407.574411 405.716562)scale(0.1 -0.1)\">\n       <use xlink:href=\"#DejaVuSans-55\"/>\n       <use x=\"63.623047\" xlink:href=\"#DejaVuSans-48\"/>\n      </g>\n     </g>\n    </g>\n    <g id=\"text_9\">\n     <!-- epoch -->\n     <defs>\n      <path d=\"M 56.203125 29.59375 \nL 56.203125 25.203125 \nL 14.890625 25.203125 \nQ 15.484375 15.921875 20.484375 11.0625 \nQ 25.484375 6.203125 34.421875 6.203125 \nQ 39.59375 6.203125 44.453125 7.46875 \nQ 49.3125 8.734375 54.109375 11.28125 \nL 54.109375 2.78125 \nQ 49.265625 0.734375 44.1875 -0.34375 \nQ 39.109375 -1.421875 33.890625 -1.421875 \nQ 20.796875 -1.421875 13.15625 6.1875 \nQ 5.515625 13.8125 5.515625 26.8125 \nQ 5.515625 40.234375 12.765625 48.109375 \nQ 20.015625 56 32.328125 56 \nQ 43.359375 56 49.78125 48.890625 \nQ 56.203125 41.796875 56.203125 29.59375 \nz\nM 47.21875 32.234375 \nQ 47.125 39.59375 43.09375 43.984375 \nQ 39.0625 48.390625 32.421875 48.390625 \nQ 24.90625 48.390625 20.390625 44.140625 \nQ 15.875 39.890625 15.1875 32.171875 \nz\n\" id=\"DejaVuSans-101\"/>\n      <path d=\"M 18.109375 8.203125 \nL 18.109375 -20.796875 \nL 9.078125 -20.796875 \nL 9.078125 54.6875 \nL 18.109375 54.6875 \nL 18.109375 46.390625 \nQ 20.953125 51.265625 25.265625 53.625 \nQ 29.59375 56 35.59375 56 \nQ 45.5625 56 51.78125 48.09375 \nQ 58.015625 40.1875 58.015625 27.296875 \nQ 58.015625 14.40625 51.78125 6.484375 \nQ 45.5625 -1.421875 35.59375 -1.421875 \nQ 29.59375 -1.421875 25.265625 0.953125 \nQ 20.953125 3.328125 18.109375 8.203125 \nz\nM 48.6875 27.296875 \nQ 48.6875 37.203125 44.609375 42.84375 \nQ 40.53125 48.484375 33.40625 48.484375 \nQ 26.265625 48.484375 22.1875 42.84375 \nQ 18.109375 37.203125 18.109375 27.296875 \nQ 18.109375 17.390625 22.1875 11.75 \nQ 26.265625 6.109375 33.40625 6.109375 \nQ 40.53125 6.109375 44.609375 11.75 \nQ 48.6875 17.390625 48.6875 27.296875 \nz\n\" id=\"DejaVuSans-112\"/>\n      <path d=\"M 30.609375 48.390625 \nQ 23.390625 48.390625 19.1875 42.75 \nQ 14.984375 37.109375 14.984375 27.296875 \nQ 14.984375 17.484375 19.15625 11.84375 \nQ 23.34375 6.203125 30.609375 6.203125 \nQ 37.796875 6.203125 41.984375 11.859375 \nQ 46.1875 17.53125 46.1875 27.296875 \nQ 46.1875 37.015625 41.984375 42.703125 \nQ 37.796875 48.390625 30.609375 48.390625 \nz\nM 30.609375 56 \nQ 42.328125 56 49.015625 48.375 \nQ 55.71875 40.765625 55.71875 27.296875 \nQ 55.71875 13.875 49.015625 6.21875 \nQ 42.328125 -1.421875 30.609375 -1.421875 \nQ 18.84375 -1.421875 12.171875 6.21875 \nQ 5.515625 13.875 5.515625 27.296875 \nQ 5.515625 40.765625 12.171875 48.375 \nQ 18.84375 56 30.609375 56 \nz\n\" id=\"DejaVuSans-111\"/>\n      <path d=\"M 48.78125 52.59375 \nL 48.78125 44.1875 \nQ 44.96875 46.296875 41.140625 47.34375 \nQ 37.3125 48.390625 33.40625 48.390625 \nQ 24.65625 48.390625 19.8125 42.84375 \nQ 14.984375 37.3125 14.984375 27.296875 \nQ 14.984375 17.28125 19.8125 11.734375 \nQ 24.65625 6.203125 33.40625 6.203125 \nQ 37.3125 6.203125 41.140625 7.25 \nQ 44.96875 8.296875 48.78125 10.40625 \nL 48.78125 2.09375 \nQ 45.015625 0.34375 40.984375 -0.53125 \nQ 36.96875 -1.421875 32.421875 -1.421875 \nQ 20.0625 -1.421875 12.78125 6.34375 \nQ 5.515625 14.109375 5.515625 27.296875 \nQ 5.515625 40.671875 12.859375 48.328125 \nQ 20.21875 56 33.015625 56 \nQ 37.15625 56 41.109375 55.140625 \nQ 45.0625 54.296875 48.78125 52.59375 \nz\n\" id=\"DejaVuSans-99\"/>\n      <path d=\"M 54.890625 33.015625 \nL 54.890625 0 \nL 45.90625 0 \nL 45.90625 32.71875 \nQ 45.90625 40.484375 42.875 44.328125 \nQ 39.84375 48.1875 33.796875 48.1875 \nQ 26.515625 48.1875 22.3125 43.546875 \nQ 18.109375 38.921875 18.109375 30.90625 \nL 18.109375 0 \nL 9.078125 0 \nL 9.078125 75.984375 \nL 18.109375 75.984375 \nL 18.109375 46.1875 \nQ 21.34375 51.125 25.703125 53.5625 \nQ 30.078125 56 35.796875 56 \nQ 45.21875 56 50.046875 50.171875 \nQ 54.890625 44.34375 54.890625 33.015625 \nz\n\" id=\"DejaVuSans-104\"/>\n     </defs>\n     <g transform=\"translate(219.34375 419.394687)scale(0.1 -0.1)\">\n      <use xlink:href=\"#DejaVuSans-101\"/>\n      <use x=\"61.523438\" xlink:href=\"#DejaVuSans-112\"/>\n      <use x=\"125\" xlink:href=\"#DejaVuSans-111\"/>\n      <use x=\"186.181641\" xlink:href=\"#DejaVuSans-99\"/>\n      <use x=\"241.162109\" xlink:href=\"#DejaVuSans-104\"/>\n     </g>\n    </g>\n   </g>\n   <g id=\"matplotlib.axis_2\">\n    <g id=\"ytick_1\">\n     <g id=\"line2d_9\">\n      <defs>\n       <path d=\"M 0 0 \nL -3.5 0 \n\" id=\"mf58bd8b99c\" style=\"stroke:#000000;stroke-width:0.8;\"/>\n      </defs>\n      <g>\n       <use style=\"stroke:#000000;stroke-width:0.8;\" x=\"42.828125\" xlink:href=\"#mf58bd8b99c\" y=\"349.700013\"/>\n      </g>\n     </g>\n     <g id=\"text_10\">\n      <!-- 0.75 -->\n      <defs>\n       <path d=\"M 10.6875 12.40625 \nL 21 12.40625 \nL 21 0 \nL 10.6875 0 \nz\n\" id=\"DejaVuSans-46\"/>\n      </defs>\n      <g transform=\"translate(13.5625 353.499232)scale(0.1 -0.1)\">\n       <use xlink:href=\"#DejaVuSans-48\"/>\n       <use x=\"63.623047\" xlink:href=\"#DejaVuSans-46\"/>\n       <use x=\"95.410156\" xlink:href=\"#DejaVuSans-55\"/>\n       <use x=\"159.033203\" xlink:href=\"#DejaVuSans-53\"/>\n      </g>\n     </g>\n    </g>\n    <g id=\"ytick_2\">\n     <g id=\"line2d_10\">\n      <g>\n       <use style=\"stroke:#000000;stroke-width:0.8;\" x=\"42.828125\" xlink:href=\"#mf58bd8b99c\" y=\"282.840437\"/>\n      </g>\n     </g>\n     <g id=\"text_11\">\n      <!-- 0.76 -->\n      <g transform=\"translate(13.5625 286.639656)scale(0.1 -0.1)\">\n       <use xlink:href=\"#DejaVuSans-48\"/>\n       <use x=\"63.623047\" xlink:href=\"#DejaVuSans-46\"/>\n       <use x=\"95.410156\" xlink:href=\"#DejaVuSans-55\"/>\n       <use x=\"159.033203\" xlink:href=\"#DejaVuSans-54\"/>\n      </g>\n     </g>\n    </g>\n    <g id=\"ytick_3\">\n     <g id=\"line2d_11\">\n      <g>\n       <use style=\"stroke:#000000;stroke-width:0.8;\" x=\"42.828125\" xlink:href=\"#mf58bd8b99c\" y=\"215.980861\"/>\n      </g>\n     </g>\n     <g id=\"text_12\">\n      <!-- 0.77 -->\n      <g transform=\"translate(13.5625 219.780079)scale(0.1 -0.1)\">\n       <use xlink:href=\"#DejaVuSans-48\"/>\n       <use x=\"63.623047\" xlink:href=\"#DejaVuSans-46\"/>\n       <use x=\"95.410156\" xlink:href=\"#DejaVuSans-55\"/>\n       <use x=\"159.033203\" xlink:href=\"#DejaVuSans-55\"/>\n      </g>\n     </g>\n    </g>\n    <g id=\"ytick_4\">\n     <g id=\"line2d_12\">\n      <g>\n       <use style=\"stroke:#000000;stroke-width:0.8;\" x=\"42.828125\" xlink:href=\"#mf58bd8b99c\" y=\"149.121284\"/>\n      </g>\n     </g>\n     <g id=\"text_13\">\n      <!-- 0.78 -->\n      <defs>\n       <path d=\"M 31.78125 34.625 \nQ 24.75 34.625 20.71875 30.859375 \nQ 16.703125 27.09375 16.703125 20.515625 \nQ 16.703125 13.921875 20.71875 10.15625 \nQ 24.75 6.390625 31.78125 6.390625 \nQ 38.8125 6.390625 42.859375 10.171875 \nQ 46.921875 13.96875 46.921875 20.515625 \nQ 46.921875 27.09375 42.890625 30.859375 \nQ 38.875 34.625 31.78125 34.625 \nz\nM 21.921875 38.8125 \nQ 15.578125 40.375 12.03125 44.71875 \nQ 8.5 49.078125 8.5 55.328125 \nQ 8.5 64.0625 14.71875 69.140625 \nQ 20.953125 74.21875 31.78125 74.21875 \nQ 42.671875 74.21875 48.875 69.140625 \nQ 55.078125 64.0625 55.078125 55.328125 \nQ 55.078125 49.078125 51.53125 44.71875 \nQ 48 40.375 41.703125 38.8125 \nQ 48.828125 37.15625 52.796875 32.3125 \nQ 56.78125 27.484375 56.78125 20.515625 \nQ 56.78125 9.90625 50.3125 4.234375 \nQ 43.84375 -1.421875 31.78125 -1.421875 \nQ 19.734375 -1.421875 13.25 4.234375 \nQ 6.78125 9.90625 6.78125 20.515625 \nQ 6.78125 27.484375 10.78125 32.3125 \nQ 14.796875 37.15625 21.921875 38.8125 \nz\nM 18.3125 54.390625 \nQ 18.3125 48.734375 21.84375 45.5625 \nQ 25.390625 42.390625 31.78125 42.390625 \nQ 38.140625 42.390625 41.71875 45.5625 \nQ 45.3125 48.734375 45.3125 54.390625 \nQ 45.3125 60.0625 41.71875 63.234375 \nQ 38.140625 66.40625 31.78125 66.40625 \nQ 25.390625 66.40625 21.84375 63.234375 \nQ 18.3125 60.0625 18.3125 54.390625 \nz\n\" id=\"DejaVuSans-56\"/>\n      </defs>\n      <g transform=\"translate(13.5625 152.920503)scale(0.1 -0.1)\">\n       <use xlink:href=\"#DejaVuSans-48\"/>\n       <use x=\"63.623047\" xlink:href=\"#DejaVuSans-46\"/>\n       <use x=\"95.410156\" xlink:href=\"#DejaVuSans-55\"/>\n       <use x=\"159.033203\" xlink:href=\"#DejaVuSans-56\"/>\n      </g>\n     </g>\n    </g>\n    <g id=\"ytick_5\">\n     <g id=\"line2d_13\">\n      <g>\n       <use style=\"stroke:#000000;stroke-width:0.8;\" x=\"42.828125\" xlink:href=\"#mf58bd8b99c\" y=\"82.261708\"/>\n      </g>\n     </g>\n     <g id=\"text_14\">\n      <!-- 0.79 -->\n      <defs>\n       <path d=\"M 10.984375 1.515625 \nL 10.984375 10.5 \nQ 14.703125 8.734375 18.5 7.8125 \nQ 22.3125 6.890625 25.984375 6.890625 \nQ 35.75 6.890625 40.890625 13.453125 \nQ 46.046875 20.015625 46.78125 33.40625 \nQ 43.953125 29.203125 39.59375 26.953125 \nQ 35.25 24.703125 29.984375 24.703125 \nQ 19.046875 24.703125 12.671875 31.3125 \nQ 6.296875 37.9375 6.296875 49.421875 \nQ 6.296875 60.640625 12.9375 67.421875 \nQ 19.578125 74.21875 30.609375 74.21875 \nQ 43.265625 74.21875 49.921875 64.515625 \nQ 56.59375 54.828125 56.59375 36.375 \nQ 56.59375 19.140625 48.40625 8.859375 \nQ 40.234375 -1.421875 26.421875 -1.421875 \nQ 22.703125 -1.421875 18.890625 -0.6875 \nQ 15.09375 0.046875 10.984375 1.515625 \nz\nM 30.609375 32.421875 \nQ 37.25 32.421875 41.125 36.953125 \nQ 45.015625 41.5 45.015625 49.421875 \nQ 45.015625 57.28125 41.125 61.84375 \nQ 37.25 66.40625 30.609375 66.40625 \nQ 23.96875 66.40625 20.09375 61.84375 \nQ 16.21875 57.28125 16.21875 49.421875 \nQ 16.21875 41.5 20.09375 36.953125 \nQ 23.96875 32.421875 30.609375 32.421875 \nz\n\" id=\"DejaVuSans-57\"/>\n      </defs>\n      <g transform=\"translate(13.5625 86.060927)scale(0.1 -0.1)\">\n       <use xlink:href=\"#DejaVuSans-48\"/>\n       <use x=\"63.623047\" xlink:href=\"#DejaVuSans-46\"/>\n       <use x=\"95.410156\" xlink:href=\"#DejaVuSans-55\"/>\n       <use x=\"159.033203\" xlink:href=\"#DejaVuSans-57\"/>\n      </g>\n     </g>\n    </g>\n   </g>\n   <g id=\"line2d_14\">\n    <path clip-path=\"url(#p42c8fc824b)\" d=\"M 60.259375 374.354489 \nL 65.311911 182.829793 \nL 70.364447 118.477333 \nL 75.416984 89.9226 \nL 80.46952 87.136986 \nL 85.522056 79.475951 \nL 90.574592 94.240899 \nL 95.627129 85.465219 \nL 100.679665 72.511518 \nL 105.732201 62.621593 \nL 110.784737 61.925388 \nL 115.837274 64.571921 \nL 120.88981 59.835979 \nL 125.942346 58.721733 \nL 130.994882 57.607089 \nL 136.047418 54.403434 \nL 141.099955 57.746569 \nL 146.152491 51.756902 \nL 151.205027 53.010627 \nL 156.257563 51.339259 \nL 161.3101 47.578481 \nL 166.362636 46.324756 \nL 171.415172 47.29992 \nL 176.467708 45.489072 \nL 181.520245 44.653387 \nL 186.572781 45.21051 \nL 191.625317 43.538743 \nL 196.677853 45.489072 \nL 201.730389 43.538743 \nL 206.782926 42.285416 \nL 211.835462 41.727895 \nL 216.887998 42.285416 \nL 221.940534 41.449334 \nL 226.993071 41.031691 \nL 232.045607 41.170772 \nL 237.098143 40.892211 \nL 242.150679 41.031691 \nL 247.203216 40.61365 \nL 252.255752 40.474568 \nL 257.308288 40.335088 \nL 262.360824 39.777966 \nL 267.413361 39.777966 \nL 272.465897 39.638884 \nL 277.518433 39.499404 \nL 282.570969 39.499404 \nL 287.623505 39.499404 \nL 292.676042 39.499404 \nL 297.728578 39.499404 \nL 302.781114 39.499404 \nL 307.83365 39.499404 \nL 312.886187 39.499404 \nL 317.938723 39.360323 \nL 322.991259 39.360323 \nL 328.043795 39.220843 \nL 333.096332 39.220843 \nL 338.148868 39.220843 \nL 343.201404 39.220843 \nL 348.25394 39.220843 \nL 353.306476 39.220843 \nL 358.359013 39.220843 \nL 363.411549 39.081761 \nL 368.464085 39.081761 \nL 373.516621 39.081761 \nL 378.569158 39.081761 \nL 383.621694 39.081761 \nL 388.67423 39.081761 \nL 393.726766 39.081761 \nL 398.779303 39.081761 \nL 403.831839 39.081761 \nL 408.884375 39.081761 \n\" style=\"fill:none;stroke:#1f77b4;stroke-linecap:square;stroke-width:1.5;\"/>\n   </g>\n   <g id=\"line2d_15\">\n    <path clip-path=\"url(#p42c8fc824b)\" d=\"M 60.259375 232.138744 \nL 65.311911 159.150084 \nL 70.364447 103.990946 \nL 75.416984 97.862197 \nL 80.46952 95.076583 \nL 85.522056 83.376208 \nL 90.574592 85.604699 \nL 95.627129 80.033073 \nL 100.679665 68.889821 \nL 105.732201 66.103809 \nL 110.784737 67.218453 \nL 115.837274 64.432441 \nL 120.88981 59.417937 \nL 125.942346 62.761072 \nL 130.994882 67.775576 \nL 136.047418 63.318195 \nL 141.099955 64.989563 \nL 146.152491 64.989563 \nL 151.205027 64.989563 \nL 156.257563 61.089704 \nL 161.3101 63.875318 \nL 166.362636 64.432441 \nL 171.415172 63.318195 \nL 176.467708 62.20395 \nL 181.520245 61.089704 \nL 186.572781 63.875318 \nL 191.625317 61.646827 \nL 196.677853 64.432441 \nL 201.730389 62.761072 \nL 206.782926 63.318195 \nL 211.835462 62.761072 \nL 216.887998 63.875318 \nL 221.940534 63.318195 \nL 226.993071 64.432441 \nL 232.045607 62.761072 \nL 237.098143 62.20395 \nL 242.150679 63.318195 \nL 247.203216 61.646827 \nL 252.255752 62.761072 \nL 257.308288 61.646827 \nL 262.360824 62.761072 \nL 267.413361 62.761072 \nL 272.465897 62.761072 \nL 277.518433 62.761072 \nL 282.570969 62.761072 \nL 287.623505 62.761072 \nL 292.676042 62.761072 \nL 297.728578 62.761072 \nL 302.781114 62.761072 \nL 307.83365 62.761072 \nL 312.886187 62.761072 \nL 317.938723 62.761072 \nL 322.991259 62.761072 \nL 328.043795 62.761072 \nL 333.096332 62.761072 \nL 338.148868 62.761072 \nL 343.201404 62.761072 \nL 348.25394 62.761072 \nL 353.306476 62.761072 \nL 358.359013 62.761072 \nL 363.411549 62.761072 \nL 368.464085 62.761072 \nL 373.516621 62.761072 \nL 378.569158 62.761072 \nL 383.621694 62.761072 \nL 388.67423 62.761072 \nL 393.726766 62.761072 \nL 398.779303 62.761072 \nL 403.831839 62.761072 \nL 408.884375 62.761072 \n\" style=\"fill:none;stroke:#ff7f0e;stroke-linecap:square;stroke-width:1.5;\"/>\n   </g>\n   <g id=\"patch_3\">\n    <path d=\"M 42.828125 391.118125 \nL 42.828125 22.318125 \n\" style=\"fill:none;stroke:#000000;stroke-linecap:square;stroke-linejoin:miter;stroke-width:0.8;\"/>\n   </g>\n   <g id=\"patch_4\">\n    <path d=\"M 426.315625 391.118125 \nL 426.315625 22.318125 \n\" style=\"fill:none;stroke:#000000;stroke-linecap:square;stroke-linejoin:miter;stroke-width:0.8;\"/>\n   </g>\n   <g id=\"patch_5\">\n    <path d=\"M 42.828125 391.118125 \nL 426.315625 391.118125 \n\" style=\"fill:none;stroke:#000000;stroke-linecap:square;stroke-linejoin:miter;stroke-width:0.8;\"/>\n   </g>\n   <g id=\"patch_6\">\n    <path d=\"M 42.828125 22.318125 \nL 426.315625 22.318125 \n\" style=\"fill:none;stroke:#000000;stroke-linecap:square;stroke-linejoin:miter;stroke-width:0.8;\"/>\n   </g>\n   <g id=\"text_15\">\n    <!-- accuracy -->\n    <defs>\n     <path d=\"M 34.28125 27.484375 \nQ 23.390625 27.484375 19.1875 25 \nQ 14.984375 22.515625 14.984375 16.5 \nQ 14.984375 11.71875 18.140625 8.90625 \nQ 21.296875 6.109375 26.703125 6.109375 \nQ 34.1875 6.109375 38.703125 11.40625 \nQ 43.21875 16.703125 43.21875 25.484375 \nL 43.21875 27.484375 \nz\nM 52.203125 31.203125 \nL 52.203125 0 \nL 43.21875 0 \nL 43.21875 8.296875 \nQ 40.140625 3.328125 35.546875 0.953125 \nQ 30.953125 -1.421875 24.3125 -1.421875 \nQ 15.921875 -1.421875 10.953125 3.296875 \nQ 6 8.015625 6 15.921875 \nQ 6 25.140625 12.171875 29.828125 \nQ 18.359375 34.515625 30.609375 34.515625 \nL 43.21875 34.515625 \nL 43.21875 35.40625 \nQ 43.21875 41.609375 39.140625 45 \nQ 35.0625 48.390625 27.6875 48.390625 \nQ 23 48.390625 18.546875 47.265625 \nQ 14.109375 46.140625 10.015625 43.890625 \nL 10.015625 52.203125 \nQ 14.9375 54.109375 19.578125 55.046875 \nQ 24.21875 56 28.609375 56 \nQ 40.484375 56 46.34375 49.84375 \nQ 52.203125 43.703125 52.203125 31.203125 \nz\n\" id=\"DejaVuSans-97\"/>\n     <path d=\"M 8.5 21.578125 \nL 8.5 54.6875 \nL 17.484375 54.6875 \nL 17.484375 21.921875 \nQ 17.484375 14.15625 20.5 10.265625 \nQ 23.53125 6.390625 29.59375 6.390625 \nQ 36.859375 6.390625 41.078125 11.03125 \nQ 45.3125 15.671875 45.3125 23.6875 \nL 45.3125 54.6875 \nL 54.296875 54.6875 \nL 54.296875 0 \nL 45.3125 0 \nL 45.3125 8.40625 \nQ 42.046875 3.421875 37.71875 1 \nQ 33.40625 -1.421875 27.6875 -1.421875 \nQ 18.265625 -1.421875 13.375 4.4375 \nQ 8.5 10.296875 8.5 21.578125 \nz\nM 31.109375 56 \nz\n\" id=\"DejaVuSans-117\"/>\n     <path d=\"M 41.109375 46.296875 \nQ 39.59375 47.171875 37.8125 47.578125 \nQ 36.03125 48 33.890625 48 \nQ 26.265625 48 22.1875 43.046875 \nQ 18.109375 38.09375 18.109375 28.8125 \nL 18.109375 0 \nL 9.078125 0 \nL 9.078125 54.6875 \nL 18.109375 54.6875 \nL 18.109375 46.1875 \nQ 20.953125 51.171875 25.484375 53.578125 \nQ 30.03125 56 36.53125 56 \nQ 37.453125 56 38.578125 55.875 \nQ 39.703125 55.765625 41.0625 55.515625 \nz\n\" id=\"DejaVuSans-114\"/>\n     <path d=\"M 32.171875 -5.078125 \nQ 28.375 -14.84375 24.75 -17.8125 \nQ 21.140625 -20.796875 15.09375 -20.796875 \nL 7.90625 -20.796875 \nL 7.90625 -13.28125 \nL 13.1875 -13.28125 \nQ 16.890625 -13.28125 18.9375 -11.515625 \nQ 21 -9.765625 23.484375 -3.21875 \nL 25.09375 0.875 \nL 2.984375 54.6875 \nL 12.5 54.6875 \nL 29.59375 11.921875 \nL 46.6875 54.6875 \nL 56.203125 54.6875 \nz\n\" id=\"DejaVuSans-121\"/>\n    </defs>\n    <g transform=\"translate(207.500625 16.318125)scale(0.12 -0.12)\">\n     <use xlink:href=\"#DejaVuSans-97\"/>\n     <use x=\"61.279297\" xlink:href=\"#DejaVuSans-99\"/>\n     <use x=\"116.259766\" xlink:href=\"#DejaVuSans-99\"/>\n     <use x=\"171.240234\" xlink:href=\"#DejaVuSans-117\"/>\n     <use x=\"234.619141\" xlink:href=\"#DejaVuSans-114\"/>\n     <use x=\"275.732422\" xlink:href=\"#DejaVuSans-97\"/>\n     <use x=\"337.011719\" xlink:href=\"#DejaVuSans-99\"/>\n     <use x=\"391.992188\" xlink:href=\"#DejaVuSans-121\"/>\n    </g>\n   </g>\n   <g id=\"legend_1\">\n    <g id=\"patch_7\">\n     <path d=\"M 338.08125 222.89625 \nL 419.315625 222.89625 \nQ 421.315625 222.89625 421.315625 220.89625 \nL 421.315625 192.54 \nQ 421.315625 190.54 419.315625 190.54 \nL 338.08125 190.54 \nQ 336.08125 190.54 336.08125 192.54 \nL 336.08125 220.89625 \nQ 336.08125 222.89625 338.08125 222.89625 \nz\n\" style=\"fill:#ffffff;opacity:0.8;stroke:#cccccc;stroke-linejoin:miter;\"/>\n    </g>\n    <g id=\"line2d_16\">\n     <path d=\"M 340.08125 198.638437 \nL 360.08125 198.638437 \n\" style=\"fill:none;stroke:#1f77b4;stroke-linecap:square;stroke-width:1.5;\"/>\n    </g>\n    <g id=\"line2d_17\"/>\n    <g id=\"text_16\">\n     <!-- training -->\n     <defs>\n      <path d=\"M 18.3125 70.21875 \nL 18.3125 54.6875 \nL 36.8125 54.6875 \nL 36.8125 47.703125 \nL 18.3125 47.703125 \nL 18.3125 18.015625 \nQ 18.3125 11.328125 20.140625 9.421875 \nQ 21.96875 7.515625 27.59375 7.515625 \nL 36.8125 7.515625 \nL 36.8125 0 \nL 27.59375 0 \nQ 17.1875 0 13.234375 3.875 \nQ 9.28125 7.765625 9.28125 18.015625 \nL 9.28125 47.703125 \nL 2.6875 47.703125 \nL 2.6875 54.6875 \nL 9.28125 54.6875 \nL 9.28125 70.21875 \nz\n\" id=\"DejaVuSans-116\"/>\n      <path d=\"M 9.421875 54.6875 \nL 18.40625 54.6875 \nL 18.40625 0 \nL 9.421875 0 \nz\nM 9.421875 75.984375 \nL 18.40625 75.984375 \nL 18.40625 64.59375 \nL 9.421875 64.59375 \nz\n\" id=\"DejaVuSans-105\"/>\n      <path d=\"M 54.890625 33.015625 \nL 54.890625 0 \nL 45.90625 0 \nL 45.90625 32.71875 \nQ 45.90625 40.484375 42.875 44.328125 \nQ 39.84375 48.1875 33.796875 48.1875 \nQ 26.515625 48.1875 22.3125 43.546875 \nQ 18.109375 38.921875 18.109375 30.90625 \nL 18.109375 0 \nL 9.078125 0 \nL 9.078125 54.6875 \nL 18.109375 54.6875 \nL 18.109375 46.1875 \nQ 21.34375 51.125 25.703125 53.5625 \nQ 30.078125 56 35.796875 56 \nQ 45.21875 56 50.046875 50.171875 \nQ 54.890625 44.34375 54.890625 33.015625 \nz\n\" id=\"DejaVuSans-110\"/>\n      <path d=\"M 45.40625 27.984375 \nQ 45.40625 37.75 41.375 43.109375 \nQ 37.359375 48.484375 30.078125 48.484375 \nQ 22.859375 48.484375 18.828125 43.109375 \nQ 14.796875 37.75 14.796875 27.984375 \nQ 14.796875 18.265625 18.828125 12.890625 \nQ 22.859375 7.515625 30.078125 7.515625 \nQ 37.359375 7.515625 41.375 12.890625 \nQ 45.40625 18.265625 45.40625 27.984375 \nz\nM 54.390625 6.78125 \nQ 54.390625 -7.171875 48.1875 -13.984375 \nQ 42 -20.796875 29.203125 -20.796875 \nQ 24.46875 -20.796875 20.265625 -20.09375 \nQ 16.0625 -19.390625 12.109375 -17.921875 \nL 12.109375 -9.1875 \nQ 16.0625 -11.328125 19.921875 -12.34375 \nQ 23.78125 -13.375 27.78125 -13.375 \nQ 36.625 -13.375 41.015625 -8.765625 \nQ 45.40625 -4.15625 45.40625 5.171875 \nL 45.40625 9.625 \nQ 42.625 4.78125 38.28125 2.390625 \nQ 33.9375 0 27.875 0 \nQ 17.828125 0 11.671875 7.65625 \nQ 5.515625 15.328125 5.515625 27.984375 \nQ 5.515625 40.671875 11.671875 48.328125 \nQ 17.828125 56 27.875 56 \nQ 33.9375 56 38.28125 53.609375 \nQ 42.625 51.21875 45.40625 46.390625 \nL 45.40625 54.6875 \nL 54.390625 54.6875 \nz\n\" id=\"DejaVuSans-103\"/>\n     </defs>\n     <g transform=\"translate(368.08125 202.138437)scale(0.1 -0.1)\">\n      <use xlink:href=\"#DejaVuSans-116\"/>\n      <use x=\"39.208984\" xlink:href=\"#DejaVuSans-114\"/>\n      <use x=\"80.322266\" xlink:href=\"#DejaVuSans-97\"/>\n      <use x=\"141.601562\" xlink:href=\"#DejaVuSans-105\"/>\n      <use x=\"169.384766\" xlink:href=\"#DejaVuSans-110\"/>\n      <use x=\"232.763672\" xlink:href=\"#DejaVuSans-105\"/>\n      <use x=\"260.546875\" xlink:href=\"#DejaVuSans-110\"/>\n      <use x=\"323.925781\" xlink:href=\"#DejaVuSans-103\"/>\n     </g>\n    </g>\n    <g id=\"line2d_18\">\n     <path d=\"M 340.08125 213.316562 \nL 360.08125 213.316562 \n\" style=\"fill:none;stroke:#ff7f0e;stroke-linecap:square;stroke-width:1.5;\"/>\n    </g>\n    <g id=\"line2d_19\"/>\n    <g id=\"text_17\">\n     <!-- validation -->\n     <defs>\n      <path d=\"M 2.984375 54.6875 \nL 12.5 54.6875 \nL 29.59375 8.796875 \nL 46.6875 54.6875 \nL 56.203125 54.6875 \nL 35.6875 0 \nL 23.484375 0 \nz\n\" id=\"DejaVuSans-118\"/>\n      <path d=\"M 9.421875 75.984375 \nL 18.40625 75.984375 \nL 18.40625 0 \nL 9.421875 0 \nz\n\" id=\"DejaVuSans-108\"/>\n      <path d=\"M 45.40625 46.390625 \nL 45.40625 75.984375 \nL 54.390625 75.984375 \nL 54.390625 0 \nL 45.40625 0 \nL 45.40625 8.203125 \nQ 42.578125 3.328125 38.25 0.953125 \nQ 33.9375 -1.421875 27.875 -1.421875 \nQ 17.96875 -1.421875 11.734375 6.484375 \nQ 5.515625 14.40625 5.515625 27.296875 \nQ 5.515625 40.1875 11.734375 48.09375 \nQ 17.96875 56 27.875 56 \nQ 33.9375 56 38.25 53.625 \nQ 42.578125 51.265625 45.40625 46.390625 \nz\nM 14.796875 27.296875 \nQ 14.796875 17.390625 18.875 11.75 \nQ 22.953125 6.109375 30.078125 6.109375 \nQ 37.203125 6.109375 41.296875 11.75 \nQ 45.40625 17.390625 45.40625 27.296875 \nQ 45.40625 37.203125 41.296875 42.84375 \nQ 37.203125 48.484375 30.078125 48.484375 \nQ 22.953125 48.484375 18.875 42.84375 \nQ 14.796875 37.203125 14.796875 27.296875 \nz\n\" id=\"DejaVuSans-100\"/>\n     </defs>\n     <g transform=\"translate(368.08125 216.816562)scale(0.1 -0.1)\">\n      <use xlink:href=\"#DejaVuSans-118\"/>\n      <use x=\"59.179688\" xlink:href=\"#DejaVuSans-97\"/>\n      <use x=\"120.458984\" xlink:href=\"#DejaVuSans-108\"/>\n      <use x=\"148.242188\" xlink:href=\"#DejaVuSans-105\"/>\n      <use x=\"176.025391\" xlink:href=\"#DejaVuSans-100\"/>\n      <use x=\"239.501953\" xlink:href=\"#DejaVuSans-97\"/>\n      <use x=\"300.78125\" xlink:href=\"#DejaVuSans-116\"/>\n      <use x=\"339.990234\" xlink:href=\"#DejaVuSans-105\"/>\n      <use x=\"367.773438\" xlink:href=\"#DejaVuSans-111\"/>\n      <use x=\"428.955078\" xlink:href=\"#DejaVuSans-110\"/>\n     </g>\n    </g>\n   </g>\n  </g>\n  <g id=\"axes_2\">\n   <g id=\"patch_8\">\n    <path d=\"M 466.365625 391.118125 \nL 849.853125 391.118125 \nL 849.853125 22.318125 \nL 466.365625 22.318125 \nz\n\" style=\"fill:#ffffff;\"/>\n   </g>\n   <g id=\"matplotlib.axis_3\">\n    <g id=\"xtick_9\">\n     <g id=\"line2d_20\">\n      <g>\n       <use style=\"stroke:#000000;stroke-width:0.8;\" x=\"483.796875\" xlink:href=\"#m2eafbc264e\" y=\"391.118125\"/>\n      </g>\n     </g>\n     <g id=\"text_18\">\n      <!-- 0 -->\n      <g transform=\"translate(480.615625 405.716562)scale(0.1 -0.1)\">\n       <use xlink:href=\"#DejaVuSans-48\"/>\n      </g>\n     </g>\n    </g>\n    <g id=\"xtick_10\">\n     <g id=\"line2d_21\">\n      <g>\n       <use style=\"stroke:#000000;stroke-width:0.8;\" x=\"534.322237\" xlink:href=\"#m2eafbc264e\" y=\"391.118125\"/>\n      </g>\n     </g>\n     <g id=\"text_19\">\n      <!-- 10 -->\n      <g transform=\"translate(527.959737 405.716562)scale(0.1 -0.1)\">\n       <use xlink:href=\"#DejaVuSans-49\"/>\n       <use x=\"63.623047\" xlink:href=\"#DejaVuSans-48\"/>\n      </g>\n     </g>\n    </g>\n    <g id=\"xtick_11\">\n     <g id=\"line2d_22\">\n      <g>\n       <use style=\"stroke:#000000;stroke-width:0.8;\" x=\"584.8476\" xlink:href=\"#m2eafbc264e\" y=\"391.118125\"/>\n      </g>\n     </g>\n     <g id=\"text_20\">\n      <!-- 20 -->\n      <g transform=\"translate(578.4851 405.716562)scale(0.1 -0.1)\">\n       <use xlink:href=\"#DejaVuSans-50\"/>\n       <use x=\"63.623047\" xlink:href=\"#DejaVuSans-48\"/>\n      </g>\n     </g>\n    </g>\n    <g id=\"xtick_12\">\n     <g id=\"line2d_23\">\n      <g>\n       <use style=\"stroke:#000000;stroke-width:0.8;\" x=\"635.372962\" xlink:href=\"#m2eafbc264e\" y=\"391.118125\"/>\n      </g>\n     </g>\n     <g id=\"text_21\">\n      <!-- 30 -->\n      <g transform=\"translate(629.010462 405.716562)scale(0.1 -0.1)\">\n       <use xlink:href=\"#DejaVuSans-51\"/>\n       <use x=\"63.623047\" xlink:href=\"#DejaVuSans-48\"/>\n      </g>\n     </g>\n    </g>\n    <g id=\"xtick_13\">\n     <g id=\"line2d_24\">\n      <g>\n       <use style=\"stroke:#000000;stroke-width:0.8;\" x=\"685.898324\" xlink:href=\"#m2eafbc264e\" y=\"391.118125\"/>\n      </g>\n     </g>\n     <g id=\"text_22\">\n      <!-- 40 -->\n      <g transform=\"translate(679.535824 405.716562)scale(0.1 -0.1)\">\n       <use xlink:href=\"#DejaVuSans-52\"/>\n       <use x=\"63.623047\" xlink:href=\"#DejaVuSans-48\"/>\n      </g>\n     </g>\n    </g>\n    <g id=\"xtick_14\">\n     <g id=\"line2d_25\">\n      <g>\n       <use style=\"stroke:#000000;stroke-width:0.8;\" x=\"736.423687\" xlink:href=\"#m2eafbc264e\" y=\"391.118125\"/>\n      </g>\n     </g>\n     <g id=\"text_23\">\n      <!-- 50 -->\n      <g transform=\"translate(730.061187 405.716562)scale(0.1 -0.1)\">\n       <use xlink:href=\"#DejaVuSans-53\"/>\n       <use x=\"63.623047\" xlink:href=\"#DejaVuSans-48\"/>\n      </g>\n     </g>\n    </g>\n    <g id=\"xtick_15\">\n     <g id=\"line2d_26\">\n      <g>\n       <use style=\"stroke:#000000;stroke-width:0.8;\" x=\"786.949049\" xlink:href=\"#m2eafbc264e\" y=\"391.118125\"/>\n      </g>\n     </g>\n     <g id=\"text_24\">\n      <!-- 60 -->\n      <g transform=\"translate(780.586549 405.716562)scale(0.1 -0.1)\">\n       <use xlink:href=\"#DejaVuSans-54\"/>\n       <use x=\"63.623047\" xlink:href=\"#DejaVuSans-48\"/>\n      </g>\n     </g>\n    </g>\n    <g id=\"xtick_16\">\n     <g id=\"line2d_27\">\n      <g>\n       <use style=\"stroke:#000000;stroke-width:0.8;\" x=\"837.474411\" xlink:href=\"#m2eafbc264e\" y=\"391.118125\"/>\n      </g>\n     </g>\n     <g id=\"text_25\">\n      <!-- 70 -->\n      <g transform=\"translate(831.111911 405.716562)scale(0.1 -0.1)\">\n       <use xlink:href=\"#DejaVuSans-55\"/>\n       <use x=\"63.623047\" xlink:href=\"#DejaVuSans-48\"/>\n      </g>\n     </g>\n    </g>\n    <g id=\"text_26\">\n     <!-- epoch -->\n     <g transform=\"translate(642.88125 419.394687)scale(0.1 -0.1)\">\n      <use xlink:href=\"#DejaVuSans-101\"/>\n      <use x=\"61.523438\" xlink:href=\"#DejaVuSans-112\"/>\n      <use x=\"125\" xlink:href=\"#DejaVuSans-111\"/>\n      <use x=\"186.181641\" xlink:href=\"#DejaVuSans-99\"/>\n      <use x=\"241.162109\" xlink:href=\"#DejaVuSans-104\"/>\n     </g>\n    </g>\n   </g>\n   <g id=\"matplotlib.axis_4\">\n    <g id=\"ytick_6\">\n     <g id=\"line2d_28\">\n      <g>\n       <use style=\"stroke:#000000;stroke-width:0.8;\" x=\"466.365625\" xlink:href=\"#mf58bd8b99c\" y=\"367.863156\"/>\n      </g>\n     </g>\n     <g id=\"text_27\">\n      <!-- 0.64 -->\n      <g transform=\"translate(437.1 371.662374)scale(0.1 -0.1)\">\n       <use xlink:href=\"#DejaVuSans-48\"/>\n       <use x=\"63.623047\" xlink:href=\"#DejaVuSans-46\"/>\n       <use x=\"95.410156\" xlink:href=\"#DejaVuSans-54\"/>\n       <use x=\"159.033203\" xlink:href=\"#DejaVuSans-52\"/>\n      </g>\n     </g>\n    </g>\n    <g id=\"ytick_7\">\n     <g id=\"line2d_29\">\n      <g>\n       <use style=\"stroke:#000000;stroke-width:0.8;\" x=\"466.365625\" xlink:href=\"#mf58bd8b99c\" y=\"315.290991\"/>\n      </g>\n     </g>\n     <g id=\"text_28\">\n      <!-- 0.66 -->\n      <g transform=\"translate(437.1 319.09021)scale(0.1 -0.1)\">\n       <use xlink:href=\"#DejaVuSans-48\"/>\n       <use x=\"63.623047\" xlink:href=\"#DejaVuSans-46\"/>\n       <use x=\"95.410156\" xlink:href=\"#DejaVuSans-54\"/>\n       <use x=\"159.033203\" xlink:href=\"#DejaVuSans-54\"/>\n      </g>\n     </g>\n    </g>\n    <g id=\"ytick_8\">\n     <g id=\"line2d_30\">\n      <g>\n       <use style=\"stroke:#000000;stroke-width:0.8;\" x=\"466.365625\" xlink:href=\"#mf58bd8b99c\" y=\"262.718827\"/>\n      </g>\n     </g>\n     <g id=\"text_29\">\n      <!-- 0.68 -->\n      <g transform=\"translate(437.1 266.518045)scale(0.1 -0.1)\">\n       <use xlink:href=\"#DejaVuSans-48\"/>\n       <use x=\"63.623047\" xlink:href=\"#DejaVuSans-46\"/>\n       <use x=\"95.410156\" xlink:href=\"#DejaVuSans-54\"/>\n       <use x=\"159.033203\" xlink:href=\"#DejaVuSans-56\"/>\n      </g>\n     </g>\n    </g>\n    <g id=\"ytick_9\">\n     <g id=\"line2d_31\">\n      <g>\n       <use style=\"stroke:#000000;stroke-width:0.8;\" x=\"466.365625\" xlink:href=\"#mf58bd8b99c\" y=\"210.146662\"/>\n      </g>\n     </g>\n     <g id=\"text_30\">\n      <!-- 0.70 -->\n      <g transform=\"translate(437.1 213.945881)scale(0.1 -0.1)\">\n       <use xlink:href=\"#DejaVuSans-48\"/>\n       <use x=\"63.623047\" xlink:href=\"#DejaVuSans-46\"/>\n       <use x=\"95.410156\" xlink:href=\"#DejaVuSans-55\"/>\n       <use x=\"159.033203\" xlink:href=\"#DejaVuSans-48\"/>\n      </g>\n     </g>\n    </g>\n    <g id=\"ytick_10\">\n     <g id=\"line2d_32\">\n      <g>\n       <use style=\"stroke:#000000;stroke-width:0.8;\" x=\"466.365625\" xlink:href=\"#mf58bd8b99c\" y=\"157.574498\"/>\n      </g>\n     </g>\n     <g id=\"text_31\">\n      <!-- 0.72 -->\n      <g transform=\"translate(437.1 161.373716)scale(0.1 -0.1)\">\n       <use xlink:href=\"#DejaVuSans-48\"/>\n       <use x=\"63.623047\" xlink:href=\"#DejaVuSans-46\"/>\n       <use x=\"95.410156\" xlink:href=\"#DejaVuSans-55\"/>\n       <use x=\"159.033203\" xlink:href=\"#DejaVuSans-50\"/>\n      </g>\n     </g>\n    </g>\n    <g id=\"ytick_11\">\n     <g id=\"line2d_33\">\n      <g>\n       <use style=\"stroke:#000000;stroke-width:0.8;\" x=\"466.365625\" xlink:href=\"#mf58bd8b99c\" y=\"105.002333\"/>\n      </g>\n     </g>\n     <g id=\"text_32\">\n      <!-- 0.74 -->\n      <g transform=\"translate(437.1 108.801552)scale(0.1 -0.1)\">\n       <use xlink:href=\"#DejaVuSans-48\"/>\n       <use x=\"63.623047\" xlink:href=\"#DejaVuSans-46\"/>\n       <use x=\"95.410156\" xlink:href=\"#DejaVuSans-55\"/>\n       <use x=\"159.033203\" xlink:href=\"#DejaVuSans-52\"/>\n      </g>\n     </g>\n    </g>\n    <g id=\"ytick_12\">\n     <g id=\"line2d_34\">\n      <g>\n       <use style=\"stroke:#000000;stroke-width:0.8;\" x=\"466.365625\" xlink:href=\"#mf58bd8b99c\" y=\"52.430169\"/>\n      </g>\n     </g>\n     <g id=\"text_33\">\n      <!-- 0.76 -->\n      <g transform=\"translate(437.1 56.229388)scale(0.1 -0.1)\">\n       <use xlink:href=\"#DejaVuSans-48\"/>\n       <use x=\"63.623047\" xlink:href=\"#DejaVuSans-46\"/>\n       <use x=\"95.410156\" xlink:href=\"#DejaVuSans-55\"/>\n       <use x=\"159.033203\" xlink:href=\"#DejaVuSans-54\"/>\n      </g>\n     </g>\n    </g>\n   </g>\n   <g id=\"line2d_35\">\n    <path clip-path=\"url(#pfead1385c1)\" d=\"M 483.796875 39.081761 \nL 488.849411 203.448427 \nL 493.901947 266.824692 \nL 498.954484 301.041125 \nL 504.00702 309.750188 \nL 509.059556 316.559068 \nL 514.112092 308.111343 \nL 519.164629 320.414582 \nL 524.217165 332.064476 \nL 529.269701 342.22672 \nL 534.322237 343.338032 \nL 539.374774 348.179202 \nL 544.42731 351.629862 \nL 549.479846 352.508352 \nL 554.532382 354.078728 \nL 559.584918 355.630929 \nL 564.637455 356.443458 \nL 569.689991 358.036709 \nL 574.742527 356.013065 \nL 579.795063 357.028647 \nL 584.8476 362.472555 \nL 589.900136 363.625387 \nL 594.952672 364.400939 \nL 600.005208 365.736926 \nL 605.057745 367.323283 \nL 610.110281 366.444167 \nL 615.162817 367.593238 \nL 620.215353 366.606328 \nL 625.267889 369.238036 \nL 630.320426 370.37896 \nL 635.372962 370.947542 \nL 640.425498 370.504928 \nL 645.478034 371.6634 \nL 650.530571 371.857993 \nL 655.583107 372.143929 \nL 660.635643 372.294496 \nL 665.688179 372.654227 \nL 670.740716 372.901777 \nL 675.793252 373.157318 \nL 680.845788 373.3411 \nL 685.898324 373.600244 \nL 690.950861 373.767732 \nL 696.003397 373.874743 \nL 701.055933 373.899655 \nL 706.108469 373.930833 \nL 711.161005 373.962169 \nL 716.213542 373.990214 \nL 721.266078 374.008859 \nL 726.318614 374.020923 \nL 731.37115 374.033144 \nL 736.423687 374.051475 \nL 741.476223 374.082027 \nL 746.528759 374.115869 \nL 751.581295 374.150181 \nL 756.633832 374.17807 \nL 761.686368 374.201102 \nL 766.738904 374.219433 \nL 771.79144 374.242308 \nL 776.843976 374.256565 \nL 781.896513 374.280067 \nL 786.949049 374.292914 \nL 792.001585 374.302942 \nL 797.054121 374.313283 \nL 802.106658 374.320176 \nL 807.159194 374.326757 \nL 812.21173 374.333337 \nL 817.264266 374.338508 \nL 822.316803 374.344618 \nL 827.369339 374.350102 \nL 832.421875 374.354489 \n\" style=\"fill:none;stroke:#1f77b4;stroke-linecap:square;stroke-width:1.5;\"/>\n   </g>\n   <g id=\"line2d_36\">\n    <path clip-path=\"url(#pfead1385c1)\" d=\"M 483.796875 155.020113 \nL 488.849411 228.698534 \nL 493.901947 289.526287 \nL 498.954484 303.537621 \nL 504.00702 307.504219 \nL 509.059556 323.744757 \nL 514.112092 319.386152 \nL 519.164629 320.005184 \nL 524.217165 337.0559 \nL 529.269701 337.774736 \nL 534.322237 341.512428 \nL 539.374774 344.413151 \nL 544.42731 349.763053 \nL 549.479846 343.840809 \nL 554.532382 341.299661 \nL 559.584918 343.116177 \nL 564.637455 348.357971 \nL 569.689991 344.042923 \nL 574.742527 345.523679 \nL 579.795063 351.179415 \nL 584.8476 345.960496 \nL 589.900136 348.220722 \nL 594.952672 347.526955 \nL 600.005208 350.601119 \nL 605.057745 350.85102 \nL 610.110281 348.605991 \nL 615.162817 350.133438 \nL 620.215353 348.466235 \nL 625.267889 350.106333 \nL 630.320426 349.478997 \nL 635.372962 349.834654 \nL 640.425498 348.914489 \nL 645.478034 348.604581 \nL 650.530571 348.408578 \nL 655.583107 349.188987 \nL 660.635643 350.192662 \nL 665.688179 349.085894 \nL 670.740716 350.60911 \nL 675.793252 350.877498 \nL 680.845788 351.135389 \nL 685.898324 351.030728 \nL 690.950861 351.026811 \nL 696.003397 351.030728 \nL 701.055933 351.022738 \nL 706.108469 350.990306 \nL 711.161005 350.975108 \nL 716.213542 350.95145 \nL 721.266078 350.963357 \nL 726.318614 350.955837 \nL 731.37115 350.95662 \nL 736.423687 350.957717 \nL 741.476223 350.957717 \nL 746.528759 350.96132 \nL 751.581295 350.970408 \nL 756.633832 350.973855 \nL 761.686368 350.985919 \nL 766.738904 350.983569 \nL 771.79144 350.988582 \nL 776.843976 350.991089 \nL 781.896513 350.994379 \nL 786.949049 350.997356 \nL 792.001585 351.000803 \nL 797.054121 351.003623 \nL 802.106658 351.00613 \nL 807.159194 351.00848 \nL 812.21173 351.00989 \nL 817.264266 351.011614 \nL 822.316803 351.013964 \nL 827.369339 351.015374 \nL 832.421875 351.016627 \n\" style=\"fill:none;stroke:#ff7f0e;stroke-linecap:square;stroke-width:1.5;\"/>\n   </g>\n   <g id=\"patch_9\">\n    <path d=\"M 466.365625 391.118125 \nL 466.365625 22.318125 \n\" style=\"fill:none;stroke:#000000;stroke-linecap:square;stroke-linejoin:miter;stroke-width:0.8;\"/>\n   </g>\n   <g id=\"patch_10\">\n    <path d=\"M 849.853125 391.118125 \nL 849.853125 22.318125 \n\" style=\"fill:none;stroke:#000000;stroke-linecap:square;stroke-linejoin:miter;stroke-width:0.8;\"/>\n   </g>\n   <g id=\"patch_11\">\n    <path d=\"M 466.365625 391.118125 \nL 849.853125 391.118125 \n\" style=\"fill:none;stroke:#000000;stroke-linecap:square;stroke-linejoin:miter;stroke-width:0.8;\"/>\n   </g>\n   <g id=\"patch_12\">\n    <path d=\"M 466.365625 22.318125 \nL 849.853125 22.318125 \n\" style=\"fill:none;stroke:#000000;stroke-linecap:square;stroke-linejoin:miter;stroke-width:0.8;\"/>\n   </g>\n   <g id=\"text_34\">\n    <!-- Loss -->\n    <defs>\n     <path d=\"M 9.8125 72.90625 \nL 19.671875 72.90625 \nL 19.671875 8.296875 \nL 55.171875 8.296875 \nL 55.171875 0 \nL 9.8125 0 \nz\n\" id=\"DejaVuSans-76\"/>\n     <path d=\"M 44.28125 53.078125 \nL 44.28125 44.578125 \nQ 40.484375 46.53125 36.375 47.5 \nQ 32.28125 48.484375 27.875 48.484375 \nQ 21.1875 48.484375 17.84375 46.4375 \nQ 14.5 44.390625 14.5 40.28125 \nQ 14.5 37.15625 16.890625 35.375 \nQ 19.28125 33.59375 26.515625 31.984375 \nL 29.59375 31.296875 \nQ 39.15625 29.25 43.1875 25.515625 \nQ 47.21875 21.78125 47.21875 15.09375 \nQ 47.21875 7.46875 41.1875 3.015625 \nQ 35.15625 -1.421875 24.609375 -1.421875 \nQ 20.21875 -1.421875 15.453125 -0.5625 \nQ 10.6875 0.296875 5.421875 2 \nL 5.421875 11.28125 \nQ 10.40625 8.6875 15.234375 7.390625 \nQ 20.0625 6.109375 24.8125 6.109375 \nQ 31.15625 6.109375 34.5625 8.28125 \nQ 37.984375 10.453125 37.984375 14.40625 \nQ 37.984375 18.0625 35.515625 20.015625 \nQ 33.0625 21.96875 24.703125 23.78125 \nL 21.578125 24.515625 \nQ 13.234375 26.265625 9.515625 29.90625 \nQ 5.8125 33.546875 5.8125 39.890625 \nQ 5.8125 47.609375 11.28125 51.796875 \nQ 16.75 56 26.8125 56 \nQ 31.78125 56 36.171875 55.265625 \nQ 40.578125 54.546875 44.28125 53.078125 \nz\n\" id=\"DejaVuSans-115\"/>\n    </defs>\n    <g transform=\"translate(644.94875 16.318125)scale(0.12 -0.12)\">\n     <use xlink:href=\"#DejaVuSans-76\"/>\n     <use x=\"53.962891\" xlink:href=\"#DejaVuSans-111\"/>\n     <use x=\"115.144531\" xlink:href=\"#DejaVuSans-115\"/>\n     <use x=\"167.244141\" xlink:href=\"#DejaVuSans-115\"/>\n    </g>\n   </g>\n   <g id=\"legend_2\">\n    <g id=\"patch_13\">\n     <path d=\"M 761.61875 222.89625 \nL 842.853125 222.89625 \nQ 844.853125 222.89625 844.853125 220.89625 \nL 844.853125 192.54 \nQ 844.853125 190.54 842.853125 190.54 \nL 761.61875 190.54 \nQ 759.61875 190.54 759.61875 192.54 \nL 759.61875 220.89625 \nQ 759.61875 222.89625 761.61875 222.89625 \nz\n\" style=\"fill:#ffffff;opacity:0.8;stroke:#cccccc;stroke-linejoin:miter;\"/>\n    </g>\n    <g id=\"line2d_37\">\n     <path d=\"M 763.61875 198.638437 \nL 783.61875 198.638437 \n\" style=\"fill:none;stroke:#1f77b4;stroke-linecap:square;stroke-width:1.5;\"/>\n    </g>\n    <g id=\"line2d_38\"/>\n    <g id=\"text_35\">\n     <!-- training -->\n     <g transform=\"translate(791.61875 202.138437)scale(0.1 -0.1)\">\n      <use xlink:href=\"#DejaVuSans-116\"/>\n      <use x=\"39.208984\" xlink:href=\"#DejaVuSans-114\"/>\n      <use x=\"80.322266\" xlink:href=\"#DejaVuSans-97\"/>\n      <use x=\"141.601562\" xlink:href=\"#DejaVuSans-105\"/>\n      <use x=\"169.384766\" xlink:href=\"#DejaVuSans-110\"/>\n      <use x=\"232.763672\" xlink:href=\"#DejaVuSans-105\"/>\n      <use x=\"260.546875\" xlink:href=\"#DejaVuSans-110\"/>\n      <use x=\"323.925781\" xlink:href=\"#DejaVuSans-103\"/>\n     </g>\n    </g>\n    <g id=\"line2d_39\">\n     <path d=\"M 763.61875 213.316562 \nL 783.61875 213.316562 \n\" style=\"fill:none;stroke:#ff7f0e;stroke-linecap:square;stroke-width:1.5;\"/>\n    </g>\n    <g id=\"line2d_40\"/>\n    <g id=\"text_36\">\n     <!-- validation -->\n     <g transform=\"translate(791.61875 216.816562)scale(0.1 -0.1)\">\n      <use xlink:href=\"#DejaVuSans-118\"/>\n      <use x=\"59.179688\" xlink:href=\"#DejaVuSans-97\"/>\n      <use x=\"120.458984\" xlink:href=\"#DejaVuSans-108\"/>\n      <use x=\"148.242188\" xlink:href=\"#DejaVuSans-105\"/>\n      <use x=\"176.025391\" xlink:href=\"#DejaVuSans-100\"/>\n      <use x=\"239.501953\" xlink:href=\"#DejaVuSans-97\"/>\n      <use x=\"300.78125\" xlink:href=\"#DejaVuSans-116\"/>\n      <use x=\"339.990234\" xlink:href=\"#DejaVuSans-105\"/>\n      <use x=\"367.773438\" xlink:href=\"#DejaVuSans-111\"/>\n      <use x=\"428.955078\" xlink:href=\"#DejaVuSans-110\"/>\n     </g>\n    </g>\n   </g>\n  </g>\n  <g id=\"axes_3\">\n   <g id=\"patch_14\">\n    <path d=\"M 42.828125 817.718125 \nL 426.315625 817.718125 \nL 426.315625 448.918125 \nL 42.828125 448.918125 \nz\n\" style=\"fill:#ffffff;\"/>\n   </g>\n   <g id=\"matplotlib.axis_5\">\n    <g id=\"xtick_17\">\n     <g id=\"line2d_41\">\n      <g>\n       <use style=\"stroke:#000000;stroke-width:0.8;\" x=\"60.259375\" xlink:href=\"#m2eafbc264e\" y=\"817.718125\"/>\n      </g>\n     </g>\n     <g id=\"text_37\">\n      <!-- 0 -->\n      <g transform=\"translate(57.078125 832.316562)scale(0.1 -0.1)\">\n       <use xlink:href=\"#DejaVuSans-48\"/>\n      </g>\n     </g>\n    </g>\n    <g id=\"xtick_18\">\n     <g id=\"line2d_42\">\n      <g>\n       <use style=\"stroke:#000000;stroke-width:0.8;\" x=\"110.784737\" xlink:href=\"#m2eafbc264e\" y=\"817.718125\"/>\n      </g>\n     </g>\n     <g id=\"text_38\">\n      <!-- 10 -->\n      <g transform=\"translate(104.422237 832.316562)scale(0.1 -0.1)\">\n       <use xlink:href=\"#DejaVuSans-49\"/>\n       <use x=\"63.623047\" xlink:href=\"#DejaVuSans-48\"/>\n      </g>\n     </g>\n    </g>\n    <g id=\"xtick_19\">\n     <g id=\"line2d_43\">\n      <g>\n       <use style=\"stroke:#000000;stroke-width:0.8;\" x=\"161.3101\" xlink:href=\"#m2eafbc264e\" y=\"817.718125\"/>\n      </g>\n     </g>\n     <g id=\"text_39\">\n      <!-- 20 -->\n      <g transform=\"translate(154.9476 832.316562)scale(0.1 -0.1)\">\n       <use xlink:href=\"#DejaVuSans-50\"/>\n       <use x=\"63.623047\" xlink:href=\"#DejaVuSans-48\"/>\n      </g>\n     </g>\n    </g>\n    <g id=\"xtick_20\">\n     <g id=\"line2d_44\">\n      <g>\n       <use style=\"stroke:#000000;stroke-width:0.8;\" x=\"211.835462\" xlink:href=\"#m2eafbc264e\" y=\"817.718125\"/>\n      </g>\n     </g>\n     <g id=\"text_40\">\n      <!-- 30 -->\n      <g transform=\"translate(205.472962 832.316562)scale(0.1 -0.1)\">\n       <use xlink:href=\"#DejaVuSans-51\"/>\n       <use x=\"63.623047\" xlink:href=\"#DejaVuSans-48\"/>\n      </g>\n     </g>\n    </g>\n    <g id=\"xtick_21\">\n     <g id=\"line2d_45\">\n      <g>\n       <use style=\"stroke:#000000;stroke-width:0.8;\" x=\"262.360824\" xlink:href=\"#m2eafbc264e\" y=\"817.718125\"/>\n      </g>\n     </g>\n     <g id=\"text_41\">\n      <!-- 40 -->\n      <g transform=\"translate(255.998324 832.316562)scale(0.1 -0.1)\">\n       <use xlink:href=\"#DejaVuSans-52\"/>\n       <use x=\"63.623047\" xlink:href=\"#DejaVuSans-48\"/>\n      </g>\n     </g>\n    </g>\n    <g id=\"xtick_22\">\n     <g id=\"line2d_46\">\n      <g>\n       <use style=\"stroke:#000000;stroke-width:0.8;\" x=\"312.886187\" xlink:href=\"#m2eafbc264e\" y=\"817.718125\"/>\n      </g>\n     </g>\n     <g id=\"text_42\">\n      <!-- 50 -->\n      <g transform=\"translate(306.523687 832.316562)scale(0.1 -0.1)\">\n       <use xlink:href=\"#DejaVuSans-53\"/>\n       <use x=\"63.623047\" xlink:href=\"#DejaVuSans-48\"/>\n      </g>\n     </g>\n    </g>\n    <g id=\"xtick_23\">\n     <g id=\"line2d_47\">\n      <g>\n       <use style=\"stroke:#000000;stroke-width:0.8;\" x=\"363.411549\" xlink:href=\"#m2eafbc264e\" y=\"817.718125\"/>\n      </g>\n     </g>\n     <g id=\"text_43\">\n      <!-- 60 -->\n      <g transform=\"translate(357.049049 832.316562)scale(0.1 -0.1)\">\n       <use xlink:href=\"#DejaVuSans-54\"/>\n       <use x=\"63.623047\" xlink:href=\"#DejaVuSans-48\"/>\n      </g>\n     </g>\n    </g>\n    <g id=\"xtick_24\">\n     <g id=\"line2d_48\">\n      <g>\n       <use style=\"stroke:#000000;stroke-width:0.8;\" x=\"413.936911\" xlink:href=\"#m2eafbc264e\" y=\"817.718125\"/>\n      </g>\n     </g>\n     <g id=\"text_44\">\n      <!-- 70 -->\n      <g transform=\"translate(407.574411 832.316562)scale(0.1 -0.1)\">\n       <use xlink:href=\"#DejaVuSans-55\"/>\n       <use x=\"63.623047\" xlink:href=\"#DejaVuSans-48\"/>\n      </g>\n     </g>\n    </g>\n    <g id=\"text_45\">\n     <!-- epoch -->\n     <g transform=\"translate(219.34375 845.994687)scale(0.1 -0.1)\">\n      <use xlink:href=\"#DejaVuSans-101\"/>\n      <use x=\"61.523438\" xlink:href=\"#DejaVuSans-112\"/>\n      <use x=\"125\" xlink:href=\"#DejaVuSans-111\"/>\n      <use x=\"186.181641\" xlink:href=\"#DejaVuSans-99\"/>\n      <use x=\"241.162109\" xlink:href=\"#DejaVuSans-104\"/>\n     </g>\n    </g>\n   </g>\n   <g id=\"matplotlib.axis_6\">\n    <g id=\"ytick_13\">\n     <g id=\"line2d_49\">\n      <g>\n       <use style=\"stroke:#000000;stroke-width:0.8;\" x=\"42.828125\" xlink:href=\"#mf58bd8b99c\" y=\"801.292712\"/>\n      </g>\n     </g>\n     <g id=\"text_46\">\n      <!-- 0.000 -->\n      <g transform=\"translate(7.2 805.091931)scale(0.1 -0.1)\">\n       <use xlink:href=\"#DejaVuSans-48\"/>\n       <use x=\"63.623047\" xlink:href=\"#DejaVuSans-46\"/>\n       <use x=\"95.410156\" xlink:href=\"#DejaVuSans-48\"/>\n       <use x=\"159.033203\" xlink:href=\"#DejaVuSans-48\"/>\n       <use x=\"222.65625\" xlink:href=\"#DejaVuSans-48\"/>\n      </g>\n     </g>\n    </g>\n    <g id=\"ytick_14\">\n     <g id=\"line2d_50\">\n      <g>\n       <use style=\"stroke:#000000;stroke-width:0.8;\" x=\"42.828125\" xlink:href=\"#mf58bd8b99c\" y=\"734.170521\"/>\n      </g>\n     </g>\n     <g id=\"text_47\">\n      <!-- 0.002 -->\n      <g transform=\"translate(7.2 737.969739)scale(0.1 -0.1)\">\n       <use xlink:href=\"#DejaVuSans-48\"/>\n       <use x=\"63.623047\" xlink:href=\"#DejaVuSans-46\"/>\n       <use x=\"95.410156\" xlink:href=\"#DejaVuSans-48\"/>\n       <use x=\"159.033203\" xlink:href=\"#DejaVuSans-48\"/>\n       <use x=\"222.65625\" xlink:href=\"#DejaVuSans-50\"/>\n      </g>\n     </g>\n    </g>\n    <g id=\"ytick_15\">\n     <g id=\"line2d_51\">\n      <g>\n       <use style=\"stroke:#000000;stroke-width:0.8;\" x=\"42.828125\" xlink:href=\"#mf58bd8b99c\" y=\"667.048329\"/>\n      </g>\n     </g>\n     <g id=\"text_48\">\n      <!-- 0.004 -->\n      <g transform=\"translate(7.2 670.847548)scale(0.1 -0.1)\">\n       <use xlink:href=\"#DejaVuSans-48\"/>\n       <use x=\"63.623047\" xlink:href=\"#DejaVuSans-46\"/>\n       <use x=\"95.410156\" xlink:href=\"#DejaVuSans-48\"/>\n       <use x=\"159.033203\" xlink:href=\"#DejaVuSans-48\"/>\n       <use x=\"222.65625\" xlink:href=\"#DejaVuSans-52\"/>\n      </g>\n     </g>\n    </g>\n    <g id=\"ytick_16\">\n     <g id=\"line2d_52\">\n      <g>\n       <use style=\"stroke:#000000;stroke-width:0.8;\" x=\"42.828125\" xlink:href=\"#mf58bd8b99c\" y=\"599.926137\"/>\n      </g>\n     </g>\n     <g id=\"text_49\">\n      <!-- 0.006 -->\n      <g transform=\"translate(7.2 603.725356)scale(0.1 -0.1)\">\n       <use xlink:href=\"#DejaVuSans-48\"/>\n       <use x=\"63.623047\" xlink:href=\"#DejaVuSans-46\"/>\n       <use x=\"95.410156\" xlink:href=\"#DejaVuSans-48\"/>\n       <use x=\"159.033203\" xlink:href=\"#DejaVuSans-48\"/>\n       <use x=\"222.65625\" xlink:href=\"#DejaVuSans-54\"/>\n      </g>\n     </g>\n    </g>\n    <g id=\"ytick_17\">\n     <g id=\"line2d_53\">\n      <g>\n       <use style=\"stroke:#000000;stroke-width:0.8;\" x=\"42.828125\" xlink:href=\"#mf58bd8b99c\" y=\"532.803946\"/>\n      </g>\n     </g>\n     <g id=\"text_50\">\n      <!-- 0.008 -->\n      <g transform=\"translate(7.2 536.603164)scale(0.1 -0.1)\">\n       <use xlink:href=\"#DejaVuSans-48\"/>\n       <use x=\"63.623047\" xlink:href=\"#DejaVuSans-46\"/>\n       <use x=\"95.410156\" xlink:href=\"#DejaVuSans-48\"/>\n       <use x=\"159.033203\" xlink:href=\"#DejaVuSans-48\"/>\n       <use x=\"222.65625\" xlink:href=\"#DejaVuSans-56\"/>\n      </g>\n     </g>\n    </g>\n    <g id=\"ytick_18\">\n     <g id=\"line2d_54\">\n      <g>\n       <use style=\"stroke:#000000;stroke-width:0.8;\" x=\"42.828125\" xlink:href=\"#mf58bd8b99c\" y=\"465.681754\"/>\n      </g>\n     </g>\n     <g id=\"text_51\">\n      <!-- 0.010 -->\n      <g transform=\"translate(7.2 469.480973)scale(0.1 -0.1)\">\n       <use xlink:href=\"#DejaVuSans-48\"/>\n       <use x=\"63.623047\" xlink:href=\"#DejaVuSans-46\"/>\n       <use x=\"95.410156\" xlink:href=\"#DejaVuSans-48\"/>\n       <use x=\"159.033203\" xlink:href=\"#DejaVuSans-49\"/>\n       <use x=\"222.65625\" xlink:href=\"#DejaVuSans-48\"/>\n      </g>\n     </g>\n    </g>\n   </g>\n   <g id=\"line2d_55\">\n    <path clip-path=\"url(#p03edded7e0)\" d=\"M 60.259375 465.681761 \nL 65.311911 497.619353 \nL 70.364447 526.517685 \nL 75.416984 552.666002 \nL 80.46952 576.325965 \nL 85.522056 597.734372 \nL 90.574592 617.105515 \nL 95.627129 634.633246 \nL 100.679665 650.492989 \nL 105.732201 664.843479 \nL 110.784737 677.828338 \nL 115.837274 689.57753 \nL 120.88981 700.208633 \nL 125.942346 709.828059 \nL 130.994882 718.532069 \nL 136.047418 726.407789 \nL 141.099955 733.534032 \nL 146.152491 739.982121 \nL 151.205027 745.816596 \nL 156.257563 751.095843 \nL 161.3101 755.87271 \nL 166.362636 760.194994 \nL 171.415172 764.105958 \nL 176.467708 767.644746 \nL 181.520245 770.846773 \nL 186.572781 773.744088 \nL 191.625317 776.365685 \nL 196.677853 778.737806 \nL 201.730389 780.884189 \nL 206.782926 782.826317 \nL 211.835462 784.583627 \nL 216.887998 786.173707 \nL 221.940534 787.61247 \nL 226.993071 788.914317 \nL 232.045607 790.092278 \nL 237.098143 791.15814 \nL 242.150679 792.122571 \nL 247.203216 792.995226 \nL 252.255752 793.784836 \nL 257.308288 794.499305 \nL 262.360824 795.145783 \nL 267.413361 795.730741 \nL 272.465897 796.260033 \nL 277.518433 796.738955 \nL 282.570969 797.172303 \nL 287.623505 797.564411 \nL 292.676042 797.919206 \nL 297.728578 798.240238 \nL 302.781114 798.530719 \nL 307.83365 798.793558 \nL 312.886187 799.031384 \nL 317.938723 799.246578 \nL 322.991259 799.441293 \nL 328.043795 799.617479 \nL 333.096332 799.776898 \nL 338.148868 799.921147 \nL 343.201404 800.051669 \nL 348.25394 800.16977 \nL 353.306476 800.276632 \nL 358.359013 800.373325 \nL 363.411549 800.460816 \nL 368.464085 800.539981 \nL 373.516621 800.611613 \nL 378.569158 800.676428 \nL 383.621694 800.735076 \nL 388.67423 800.788142 \nL 393.726766 800.836158 \nL 398.779303 800.879605 \nL 403.831839 800.918917 \nL 408.884375 800.954489 \n\" style=\"fill:none;stroke:#1f77b4;stroke-linecap:square;stroke-width:1.5;\"/>\n   </g>\n   <g id=\"patch_15\">\n    <path d=\"M 42.828125 817.718125 \nL 42.828125 448.918125 \n\" style=\"fill:none;stroke:#000000;stroke-linecap:square;stroke-linejoin:miter;stroke-width:0.8;\"/>\n   </g>\n   <g id=\"patch_16\">\n    <path d=\"M 426.315625 817.718125 \nL 426.315625 448.918125 \n\" style=\"fill:none;stroke:#000000;stroke-linecap:square;stroke-linejoin:miter;stroke-width:0.8;\"/>\n   </g>\n   <g id=\"patch_17\">\n    <path d=\"M 42.828125 817.718125 \nL 426.315625 817.718125 \n\" style=\"fill:none;stroke:#000000;stroke-linecap:square;stroke-linejoin:miter;stroke-width:0.8;\"/>\n   </g>\n   <g id=\"patch_18\">\n    <path d=\"M 42.828125 448.918125 \nL 426.315625 448.918125 \n\" style=\"fill:none;stroke:#000000;stroke-linecap:square;stroke-linejoin:miter;stroke-width:0.8;\"/>\n   </g>\n   <g id=\"text_52\">\n    <!-- lr -->\n    <g transform=\"translate(230.438438 442.918125)scale(0.12 -0.12)\">\n     <use xlink:href=\"#DejaVuSans-108\"/>\n     <use x=\"27.783203\" xlink:href=\"#DejaVuSans-114\"/>\n    </g>\n   </g>\n   <g id=\"legend_3\">\n    <g id=\"patch_19\">\n     <path d=\"M 380.426562 642.157187 \nL 419.315625 642.157187 \nQ 421.315625 642.157187 421.315625 640.157187 \nL 421.315625 626.479062 \nQ 421.315625 624.479062 419.315625 624.479062 \nL 380.426562 624.479062 \nQ 378.426562 624.479062 378.426562 626.479062 \nL 378.426562 640.157187 \nQ 378.426562 642.157187 380.426562 642.157187 \nz\n\" style=\"fill:#ffffff;opacity:0.8;stroke:#cccccc;stroke-linejoin:miter;\"/>\n    </g>\n    <g id=\"line2d_56\">\n     <path d=\"M 382.426562 632.5775 \nL 402.426562 632.5775 \n\" style=\"fill:none;stroke:#1f77b4;stroke-linecap:square;stroke-width:1.5;\"/>\n    </g>\n    <g id=\"line2d_57\"/>\n    <g id=\"text_53\">\n     <!-- lr -->\n     <g transform=\"translate(410.426562 636.0775)scale(0.1 -0.1)\">\n      <use xlink:href=\"#DejaVuSans-108\"/>\n      <use x=\"27.783203\" xlink:href=\"#DejaVuSans-114\"/>\n     </g>\n    </g>\n   </g>\n  </g>\n </g>\n <defs>\n  <clipPath id=\"p42c8fc824b\">\n   <rect height=\"368.8\" width=\"383.4875\" x=\"42.828125\" y=\"22.318125\"/>\n  </clipPath>\n  <clipPath id=\"pfead1385c1\">\n   <rect height=\"368.8\" width=\"383.4875\" x=\"466.365625\" y=\"22.318125\"/>\n  </clipPath>\n  <clipPath id=\"p03edded7e0\">\n   <rect height=\"368.8\" width=\"383.4875\" x=\"42.828125\" y=\"448.918125\"/>\n  </clipPath>\n </defs>\n</svg>\n"
          },
          "metadata": {
            "needs_background": "light"
          }
        },
        {
          "output_type": "stream",
          "name": "stdout",
          "text": [
            "accuracy\n",
            "\ttraining         \t (min:    0.746, max:    0.796, cur:    0.796)\n",
            "\tvalidation       \t (min:    0.768, max:    0.793, cur:    0.793)\n",
            "Loss\n",
            "\ttraining         \t (min:    0.638, max:    0.765, cur:    0.638)\n",
            "\tvalidation       \t (min:    0.646, max:    0.721, cur:    0.646)\n",
            "lr\n",
            "\tlr               \t (min:    0.000, max:    0.010, cur:    0.000)\n",
            "\n",
            "Epoch 00070: val_accuracy did not improve from 0.79342\n",
            "Epoch 00070: early stopping\n"
          ]
        }
      ]
    },
    {
      "cell_type": "code",
      "metadata": {
        "id": "XNB5VU5Wkkif"
      },
      "source": [
        "# load the saved model\n",
        "saved_model = load_model('best_model.h5')"
      ],
      "execution_count": 141,
      "outputs": []
    },
    {
      "cell_type": "code",
      "metadata": {
        "colab": {
          "base_uri": "https://localhost:8080/"
        },
        "id": "gakWl4nWoa9b",
        "outputId": "f11fb4b7-8d87-435d-cd81-447ffabfea14"
      },
      "source": [
        "# evaluate the model\n",
        "_, train_acc = saved_model.evaluate(X_train, y_train, verbose=0)\n",
        "_, test_acc = saved_model.evaluate(X_test, y_test, verbose=0)\n",
        "print('Train: %.3f, Test: %.3f' % (train_acc, test_acc))"
      ],
      "execution_count": 142,
      "outputs": [
        {
          "output_type": "stream",
          "name": "stdout",
          "text": [
            "Train: 0.793, Test: 0.789\n"
          ]
        }
      ]
    },
    {
      "cell_type": "code",
      "metadata": {
        "id": "m875thtfWEmy"
      },
      "source": [
        "from matplotlib import pyplot\n",
        "\n",
        "# plot diagnostic learning curves\n",
        "def summarize_diagnostics(history):\n",
        "\tfor i in range(len(history)):\n",
        "\t\t# plot loss\n",
        "\t\tpyplot.subplot(2, 1, 1)\n",
        "\t\tpyplot.title('Cross Entropy Loss')\n",
        "\t\tpyplot.plot(history[i].history['loss'], color='blue', label='train')\n",
        "\t\tpyplot.plot(history[i].history['val_loss'], color='orange', label='test')\n",
        "\t"
      ],
      "execution_count": 143,
      "outputs": []
    },
    {
      "cell_type": "code",
      "metadata": {
        "id": "7Si_NtrsWNOy"
      },
      "source": [
        "pyplot.show()"
      ],
      "execution_count": 144,
      "outputs": []
    },
    {
      "cell_type": "code",
      "metadata": {
        "id": "7InqREpMutK5"
      },
      "source": [
        "%matplotlib inline\n",
        "%config InlineBackend.figure_format = 'svg'\n",
        "\n",
        "def plot_lr(history):\n",
        "    learning_rate = history.history['lr']\n",
        "    epochs = range(1, len(learning_rate) + 1)\n",
        "    plt.plot(epochs, learning_rate)\n",
        "    plt.title('Learning rate')\n",
        "    plt.xlabel('Epochs')\n",
        "    plt.ylabel('Learning rate')\n",
        "    plt.show()"
      ],
      "execution_count": 145,
      "outputs": []
    },
    {
      "cell_type": "code",
      "metadata": {
        "id": "Nlkf-nTFuwzc"
      },
      "source": [
        "\n",
        "\n",
        "def plot_metric(history, metric):\n",
        "    train_metrics = history.history[metric]\n",
        "    val_metrics = history.history['val_'+metric]\n",
        "    epochs = range(1, len(train_metrics) + 1)\n",
        "    plt.plot(epochs, train_metrics)\n",
        "    plt.plot(epochs, val_metrics)\n",
        "    plt.title('Training and validation '+ metric)\n",
        "    plt.xlabel(\"Epochs\")\n",
        "    plt.ylabel(metric)\n",
        "    plt.legend([\"train_\"+metric, 'val_'+metric])\n",
        "    plt.show()\n",
        "\n"
      ],
      "execution_count": 146,
      "outputs": []
    },
    {
      "cell_type": "code",
      "metadata": {
        "colab": {
          "base_uri": "https://localhost:8080/",
          "height": 390
        },
        "id": "p6ypZMuruy5y",
        "outputId": "62c7377d-38a9-41fc-b4c9-b9431f562027"
      },
      "source": [
        "plot_metric(history_constant, 'accuracy')"
      ],
      "execution_count": 147,
      "outputs": [
        {
          "output_type": "display_data",
          "data": {
            "text/plain": [
              "<Figure size 432x288 with 1 Axes>"
            ],
            "image/svg+xml": "<?xml version=\"1.0\" encoding=\"utf-8\" standalone=\"no\"?>\n<!DOCTYPE svg PUBLIC \"-//W3C//DTD SVG 1.1//EN\"\n  \"http://www.w3.org/Graphics/SVG/1.1/DTD/svg11.dtd\">\n<!-- Created with matplotlib (https://matplotlib.org/) -->\n<svg height=\"277.314375pt\" version=\"1.1\" viewBox=\"0 0 392.14375 277.314375\" width=\"392.14375pt\" xmlns=\"http://www.w3.org/2000/svg\" xmlns:xlink=\"http://www.w3.org/1999/xlink\">\n <defs>\n  <style type=\"text/css\">\n*{stroke-linecap:butt;stroke-linejoin:round;}\n  </style>\n </defs>\n <g id=\"figure_1\">\n  <g id=\"patch_1\">\n   <path d=\"M 0 277.314375 \nL 392.14375 277.314375 \nL 392.14375 0 \nL 0 0 \nz\n\" style=\"fill:none;\"/>\n  </g>\n  <g id=\"axes_1\">\n   <g id=\"patch_2\">\n    <path d=\"M 50.14375 239.758125 \nL 384.94375 239.758125 \nL 384.94375 22.318125 \nL 50.14375 22.318125 \nz\n\" style=\"fill:#ffffff;\"/>\n   </g>\n   <g id=\"matplotlib.axis_1\">\n    <g id=\"xtick_1\">\n     <g id=\"line2d_1\">\n      <defs>\n       <path d=\"M 0 0 \nL 0 3.5 \n\" id=\"m20c69d5044\" style=\"stroke:#000000;stroke-width:0.8;\"/>\n      </defs>\n      <g>\n       <use style=\"stroke:#000000;stroke-width:0.8;\" x=\"62.287552\" xlink:href=\"#m20c69d5044\" y=\"239.758125\"/>\n      </g>\n     </g>\n     <g id=\"text_1\">\n      <!-- 0 -->\n      <defs>\n       <path d=\"M 31.78125 66.40625 \nQ 24.171875 66.40625 20.328125 58.90625 \nQ 16.5 51.421875 16.5 36.375 \nQ 16.5 21.390625 20.328125 13.890625 \nQ 24.171875 6.390625 31.78125 6.390625 \nQ 39.453125 6.390625 43.28125 13.890625 \nQ 47.125 21.390625 47.125 36.375 \nQ 47.125 51.421875 43.28125 58.90625 \nQ 39.453125 66.40625 31.78125 66.40625 \nz\nM 31.78125 74.21875 \nQ 44.046875 74.21875 50.515625 64.515625 \nQ 56.984375 54.828125 56.984375 36.375 \nQ 56.984375 17.96875 50.515625 8.265625 \nQ 44.046875 -1.421875 31.78125 -1.421875 \nQ 19.53125 -1.421875 13.0625 8.265625 \nQ 6.59375 17.96875 6.59375 36.375 \nQ 6.59375 54.828125 13.0625 64.515625 \nQ 19.53125 74.21875 31.78125 74.21875 \nz\n\" id=\"DejaVuSans-48\"/>\n      </defs>\n      <g transform=\"translate(59.106302 254.356562)scale(0.1 -0.1)\">\n       <use xlink:href=\"#DejaVuSans-48\"/>\n      </g>\n     </g>\n    </g>\n    <g id=\"xtick_2\">\n     <g id=\"line2d_2\">\n      <g>\n       <use style=\"stroke:#000000;stroke-width:0.8;\" x=\"123.775155\" xlink:href=\"#m20c69d5044\" y=\"239.758125\"/>\n      </g>\n     </g>\n     <g id=\"text_2\">\n      <!-- 20 -->\n      <defs>\n       <path d=\"M 19.1875 8.296875 \nL 53.609375 8.296875 \nL 53.609375 0 \nL 7.328125 0 \nL 7.328125 8.296875 \nQ 12.9375 14.109375 22.625 23.890625 \nQ 32.328125 33.6875 34.8125 36.53125 \nQ 39.546875 41.84375 41.421875 45.53125 \nQ 43.3125 49.21875 43.3125 52.78125 \nQ 43.3125 58.59375 39.234375 62.25 \nQ 35.15625 65.921875 28.609375 65.921875 \nQ 23.96875 65.921875 18.8125 64.3125 \nQ 13.671875 62.703125 7.8125 59.421875 \nL 7.8125 69.390625 \nQ 13.765625 71.78125 18.9375 73 \nQ 24.125 74.21875 28.421875 74.21875 \nQ 39.75 74.21875 46.484375 68.546875 \nQ 53.21875 62.890625 53.21875 53.421875 \nQ 53.21875 48.921875 51.53125 44.890625 \nQ 49.859375 40.875 45.40625 35.40625 \nQ 44.1875 33.984375 37.640625 27.21875 \nQ 31.109375 20.453125 19.1875 8.296875 \nz\n\" id=\"DejaVuSans-50\"/>\n      </defs>\n      <g transform=\"translate(117.412655 254.356562)scale(0.1 -0.1)\">\n       <use xlink:href=\"#DejaVuSans-50\"/>\n       <use x=\"63.623047\" xlink:href=\"#DejaVuSans-48\"/>\n      </g>\n     </g>\n    </g>\n    <g id=\"xtick_3\">\n     <g id=\"line2d_3\">\n      <g>\n       <use style=\"stroke:#000000;stroke-width:0.8;\" x=\"185.262758\" xlink:href=\"#m20c69d5044\" y=\"239.758125\"/>\n      </g>\n     </g>\n     <g id=\"text_3\">\n      <!-- 40 -->\n      <defs>\n       <path d=\"M 37.796875 64.3125 \nL 12.890625 25.390625 \nL 37.796875 25.390625 \nz\nM 35.203125 72.90625 \nL 47.609375 72.90625 \nL 47.609375 25.390625 \nL 58.015625 25.390625 \nL 58.015625 17.1875 \nL 47.609375 17.1875 \nL 47.609375 0 \nL 37.796875 0 \nL 37.796875 17.1875 \nL 4.890625 17.1875 \nL 4.890625 26.703125 \nz\n\" id=\"DejaVuSans-52\"/>\n      </defs>\n      <g transform=\"translate(178.900258 254.356562)scale(0.1 -0.1)\">\n       <use xlink:href=\"#DejaVuSans-52\"/>\n       <use x=\"63.623047\" xlink:href=\"#DejaVuSans-48\"/>\n      </g>\n     </g>\n    </g>\n    <g id=\"xtick_4\">\n     <g id=\"line2d_4\">\n      <g>\n       <use style=\"stroke:#000000;stroke-width:0.8;\" x=\"246.750362\" xlink:href=\"#m20c69d5044\" y=\"239.758125\"/>\n      </g>\n     </g>\n     <g id=\"text_4\">\n      <!-- 60 -->\n      <defs>\n       <path d=\"M 33.015625 40.375 \nQ 26.375 40.375 22.484375 35.828125 \nQ 18.609375 31.296875 18.609375 23.390625 \nQ 18.609375 15.53125 22.484375 10.953125 \nQ 26.375 6.390625 33.015625 6.390625 \nQ 39.65625 6.390625 43.53125 10.953125 \nQ 47.40625 15.53125 47.40625 23.390625 \nQ 47.40625 31.296875 43.53125 35.828125 \nQ 39.65625 40.375 33.015625 40.375 \nz\nM 52.59375 71.296875 \nL 52.59375 62.3125 \nQ 48.875 64.0625 45.09375 64.984375 \nQ 41.3125 65.921875 37.59375 65.921875 \nQ 27.828125 65.921875 22.671875 59.328125 \nQ 17.53125 52.734375 16.796875 39.40625 \nQ 19.671875 43.65625 24.015625 45.921875 \nQ 28.375 48.1875 33.59375 48.1875 \nQ 44.578125 48.1875 50.953125 41.515625 \nQ 57.328125 34.859375 57.328125 23.390625 \nQ 57.328125 12.15625 50.6875 5.359375 \nQ 44.046875 -1.421875 33.015625 -1.421875 \nQ 20.359375 -1.421875 13.671875 8.265625 \nQ 6.984375 17.96875 6.984375 36.375 \nQ 6.984375 53.65625 15.1875 63.9375 \nQ 23.390625 74.21875 37.203125 74.21875 \nQ 40.921875 74.21875 44.703125 73.484375 \nQ 48.484375 72.75 52.59375 71.296875 \nz\n\" id=\"DejaVuSans-54\"/>\n      </defs>\n      <g transform=\"translate(240.387862 254.356562)scale(0.1 -0.1)\">\n       <use xlink:href=\"#DejaVuSans-54\"/>\n       <use x=\"63.623047\" xlink:href=\"#DejaVuSans-48\"/>\n      </g>\n     </g>\n    </g>\n    <g id=\"xtick_5\">\n     <g id=\"line2d_5\">\n      <g>\n       <use style=\"stroke:#000000;stroke-width:0.8;\" x=\"308.237965\" xlink:href=\"#m20c69d5044\" y=\"239.758125\"/>\n      </g>\n     </g>\n     <g id=\"text_5\">\n      <!-- 80 -->\n      <defs>\n       <path d=\"M 31.78125 34.625 \nQ 24.75 34.625 20.71875 30.859375 \nQ 16.703125 27.09375 16.703125 20.515625 \nQ 16.703125 13.921875 20.71875 10.15625 \nQ 24.75 6.390625 31.78125 6.390625 \nQ 38.8125 6.390625 42.859375 10.171875 \nQ 46.921875 13.96875 46.921875 20.515625 \nQ 46.921875 27.09375 42.890625 30.859375 \nQ 38.875 34.625 31.78125 34.625 \nz\nM 21.921875 38.8125 \nQ 15.578125 40.375 12.03125 44.71875 \nQ 8.5 49.078125 8.5 55.328125 \nQ 8.5 64.0625 14.71875 69.140625 \nQ 20.953125 74.21875 31.78125 74.21875 \nQ 42.671875 74.21875 48.875 69.140625 \nQ 55.078125 64.0625 55.078125 55.328125 \nQ 55.078125 49.078125 51.53125 44.71875 \nQ 48 40.375 41.703125 38.8125 \nQ 48.828125 37.15625 52.796875 32.3125 \nQ 56.78125 27.484375 56.78125 20.515625 \nQ 56.78125 9.90625 50.3125 4.234375 \nQ 43.84375 -1.421875 31.78125 -1.421875 \nQ 19.734375 -1.421875 13.25 4.234375 \nQ 6.78125 9.90625 6.78125 20.515625 \nQ 6.78125 27.484375 10.78125 32.3125 \nQ 14.796875 37.15625 21.921875 38.8125 \nz\nM 18.3125 54.390625 \nQ 18.3125 48.734375 21.84375 45.5625 \nQ 25.390625 42.390625 31.78125 42.390625 \nQ 38.140625 42.390625 41.71875 45.5625 \nQ 45.3125 48.734375 45.3125 54.390625 \nQ 45.3125 60.0625 41.71875 63.234375 \nQ 38.140625 66.40625 31.78125 66.40625 \nQ 25.390625 66.40625 21.84375 63.234375 \nQ 18.3125 60.0625 18.3125 54.390625 \nz\n\" id=\"DejaVuSans-56\"/>\n      </defs>\n      <g transform=\"translate(301.875465 254.356562)scale(0.1 -0.1)\">\n       <use xlink:href=\"#DejaVuSans-56\"/>\n       <use x=\"63.623047\" xlink:href=\"#DejaVuSans-48\"/>\n      </g>\n     </g>\n    </g>\n    <g id=\"xtick_6\">\n     <g id=\"line2d_6\">\n      <g>\n       <use style=\"stroke:#000000;stroke-width:0.8;\" x=\"369.725568\" xlink:href=\"#m20c69d5044\" y=\"239.758125\"/>\n      </g>\n     </g>\n     <g id=\"text_6\">\n      <!-- 100 -->\n      <defs>\n       <path d=\"M 12.40625 8.296875 \nL 28.515625 8.296875 \nL 28.515625 63.921875 \nL 10.984375 60.40625 \nL 10.984375 69.390625 \nL 28.421875 72.90625 \nL 38.28125 72.90625 \nL 38.28125 8.296875 \nL 54.390625 8.296875 \nL 54.390625 0 \nL 12.40625 0 \nz\n\" id=\"DejaVuSans-49\"/>\n      </defs>\n      <g transform=\"translate(360.181818 254.356562)scale(0.1 -0.1)\">\n       <use xlink:href=\"#DejaVuSans-49\"/>\n       <use x=\"63.623047\" xlink:href=\"#DejaVuSans-48\"/>\n       <use x=\"127.246094\" xlink:href=\"#DejaVuSans-48\"/>\n      </g>\n     </g>\n    </g>\n    <g id=\"text_7\">\n     <!-- Epochs -->\n     <defs>\n      <path d=\"M 9.8125 72.90625 \nL 55.90625 72.90625 \nL 55.90625 64.59375 \nL 19.671875 64.59375 \nL 19.671875 43.015625 \nL 54.390625 43.015625 \nL 54.390625 34.71875 \nL 19.671875 34.71875 \nL 19.671875 8.296875 \nL 56.78125 8.296875 \nL 56.78125 0 \nL 9.8125 0 \nz\n\" id=\"DejaVuSans-69\"/>\n      <path d=\"M 18.109375 8.203125 \nL 18.109375 -20.796875 \nL 9.078125 -20.796875 \nL 9.078125 54.6875 \nL 18.109375 54.6875 \nL 18.109375 46.390625 \nQ 20.953125 51.265625 25.265625 53.625 \nQ 29.59375 56 35.59375 56 \nQ 45.5625 56 51.78125 48.09375 \nQ 58.015625 40.1875 58.015625 27.296875 \nQ 58.015625 14.40625 51.78125 6.484375 \nQ 45.5625 -1.421875 35.59375 -1.421875 \nQ 29.59375 -1.421875 25.265625 0.953125 \nQ 20.953125 3.328125 18.109375 8.203125 \nz\nM 48.6875 27.296875 \nQ 48.6875 37.203125 44.609375 42.84375 \nQ 40.53125 48.484375 33.40625 48.484375 \nQ 26.265625 48.484375 22.1875 42.84375 \nQ 18.109375 37.203125 18.109375 27.296875 \nQ 18.109375 17.390625 22.1875 11.75 \nQ 26.265625 6.109375 33.40625 6.109375 \nQ 40.53125 6.109375 44.609375 11.75 \nQ 48.6875 17.390625 48.6875 27.296875 \nz\n\" id=\"DejaVuSans-112\"/>\n      <path d=\"M 30.609375 48.390625 \nQ 23.390625 48.390625 19.1875 42.75 \nQ 14.984375 37.109375 14.984375 27.296875 \nQ 14.984375 17.484375 19.15625 11.84375 \nQ 23.34375 6.203125 30.609375 6.203125 \nQ 37.796875 6.203125 41.984375 11.859375 \nQ 46.1875 17.53125 46.1875 27.296875 \nQ 46.1875 37.015625 41.984375 42.703125 \nQ 37.796875 48.390625 30.609375 48.390625 \nz\nM 30.609375 56 \nQ 42.328125 56 49.015625 48.375 \nQ 55.71875 40.765625 55.71875 27.296875 \nQ 55.71875 13.875 49.015625 6.21875 \nQ 42.328125 -1.421875 30.609375 -1.421875 \nQ 18.84375 -1.421875 12.171875 6.21875 \nQ 5.515625 13.875 5.515625 27.296875 \nQ 5.515625 40.765625 12.171875 48.375 \nQ 18.84375 56 30.609375 56 \nz\n\" id=\"DejaVuSans-111\"/>\n      <path d=\"M 48.78125 52.59375 \nL 48.78125 44.1875 \nQ 44.96875 46.296875 41.140625 47.34375 \nQ 37.3125 48.390625 33.40625 48.390625 \nQ 24.65625 48.390625 19.8125 42.84375 \nQ 14.984375 37.3125 14.984375 27.296875 \nQ 14.984375 17.28125 19.8125 11.734375 \nQ 24.65625 6.203125 33.40625 6.203125 \nQ 37.3125 6.203125 41.140625 7.25 \nQ 44.96875 8.296875 48.78125 10.40625 \nL 48.78125 2.09375 \nQ 45.015625 0.34375 40.984375 -0.53125 \nQ 36.96875 -1.421875 32.421875 -1.421875 \nQ 20.0625 -1.421875 12.78125 6.34375 \nQ 5.515625 14.109375 5.515625 27.296875 \nQ 5.515625 40.671875 12.859375 48.328125 \nQ 20.21875 56 33.015625 56 \nQ 37.15625 56 41.109375 55.140625 \nQ 45.0625 54.296875 48.78125 52.59375 \nz\n\" id=\"DejaVuSans-99\"/>\n      <path d=\"M 54.890625 33.015625 \nL 54.890625 0 \nL 45.90625 0 \nL 45.90625 32.71875 \nQ 45.90625 40.484375 42.875 44.328125 \nQ 39.84375 48.1875 33.796875 48.1875 \nQ 26.515625 48.1875 22.3125 43.546875 \nQ 18.109375 38.921875 18.109375 30.90625 \nL 18.109375 0 \nL 9.078125 0 \nL 9.078125 75.984375 \nL 18.109375 75.984375 \nL 18.109375 46.1875 \nQ 21.34375 51.125 25.703125 53.5625 \nQ 30.078125 56 35.796875 56 \nQ 45.21875 56 50.046875 50.171875 \nQ 54.890625 44.34375 54.890625 33.015625 \nz\n\" id=\"DejaVuSans-104\"/>\n      <path d=\"M 44.28125 53.078125 \nL 44.28125 44.578125 \nQ 40.484375 46.53125 36.375 47.5 \nQ 32.28125 48.484375 27.875 48.484375 \nQ 21.1875 48.484375 17.84375 46.4375 \nQ 14.5 44.390625 14.5 40.28125 \nQ 14.5 37.15625 16.890625 35.375 \nQ 19.28125 33.59375 26.515625 31.984375 \nL 29.59375 31.296875 \nQ 39.15625 29.25 43.1875 25.515625 \nQ 47.21875 21.78125 47.21875 15.09375 \nQ 47.21875 7.46875 41.1875 3.015625 \nQ 35.15625 -1.421875 24.609375 -1.421875 \nQ 20.21875 -1.421875 15.453125 -0.5625 \nQ 10.6875 0.296875 5.421875 2 \nL 5.421875 11.28125 \nQ 10.40625 8.6875 15.234375 7.390625 \nQ 20.0625 6.109375 24.8125 6.109375 \nQ 31.15625 6.109375 34.5625 8.28125 \nQ 37.984375 10.453125 37.984375 14.40625 \nQ 37.984375 18.0625 35.515625 20.015625 \nQ 33.0625 21.96875 24.703125 23.78125 \nL 21.578125 24.515625 \nQ 13.234375 26.265625 9.515625 29.90625 \nQ 5.8125 33.546875 5.8125 39.890625 \nQ 5.8125 47.609375 11.28125 51.796875 \nQ 16.75 56 26.8125 56 \nQ 31.78125 56 36.171875 55.265625 \nQ 40.578125 54.546875 44.28125 53.078125 \nz\n\" id=\"DejaVuSans-115\"/>\n     </defs>\n     <g transform=\"translate(199.628125 268.034687)scale(0.1 -0.1)\">\n      <use xlink:href=\"#DejaVuSans-69\"/>\n      <use x=\"63.183594\" xlink:href=\"#DejaVuSans-112\"/>\n      <use x=\"126.660156\" xlink:href=\"#DejaVuSans-111\"/>\n      <use x=\"187.841797\" xlink:href=\"#DejaVuSans-99\"/>\n      <use x=\"242.822266\" xlink:href=\"#DejaVuSans-104\"/>\n      <use x=\"306.201172\" xlink:href=\"#DejaVuSans-115\"/>\n     </g>\n    </g>\n   </g>\n   <g id=\"matplotlib.axis_2\">\n    <g id=\"ytick_1\">\n     <g id=\"line2d_7\">\n      <defs>\n       <path d=\"M 0 0 \nL -3.5 0 \n\" id=\"m10c89646f5\" style=\"stroke:#000000;stroke-width:0.8;\"/>\n      </defs>\n      <g>\n       <use style=\"stroke:#000000;stroke-width:0.8;\" x=\"50.14375\" xlink:href=\"#m10c89646f5\" y=\"238.908804\"/>\n      </g>\n     </g>\n     <g id=\"text_8\">\n      <!-- 0.45 -->\n      <defs>\n       <path d=\"M 10.6875 12.40625 \nL 21 12.40625 \nL 21 0 \nL 10.6875 0 \nz\n\" id=\"DejaVuSans-46\"/>\n       <path d=\"M 10.796875 72.90625 \nL 49.515625 72.90625 \nL 49.515625 64.59375 \nL 19.828125 64.59375 \nL 19.828125 46.734375 \nQ 21.96875 47.46875 24.109375 47.828125 \nQ 26.265625 48.1875 28.421875 48.1875 \nQ 40.625 48.1875 47.75 41.5 \nQ 54.890625 34.8125 54.890625 23.390625 \nQ 54.890625 11.625 47.5625 5.09375 \nQ 40.234375 -1.421875 26.90625 -1.421875 \nQ 22.3125 -1.421875 17.546875 -0.640625 \nQ 12.796875 0.140625 7.71875 1.703125 \nL 7.71875 11.625 \nQ 12.109375 9.234375 16.796875 8.0625 \nQ 21.484375 6.890625 26.703125 6.890625 \nQ 35.15625 6.890625 40.078125 11.328125 \nQ 45.015625 15.765625 45.015625 23.390625 \nQ 45.015625 31 40.078125 35.4375 \nQ 35.15625 39.890625 26.703125 39.890625 \nQ 22.75 39.890625 18.8125 39.015625 \nQ 14.890625 38.140625 10.796875 36.28125 \nz\n\" id=\"DejaVuSans-53\"/>\n      </defs>\n      <g transform=\"translate(20.878125 242.708023)scale(0.1 -0.1)\">\n       <use xlink:href=\"#DejaVuSans-48\"/>\n       <use x=\"63.623047\" xlink:href=\"#DejaVuSans-46\"/>\n       <use x=\"95.410156\" xlink:href=\"#DejaVuSans-52\"/>\n       <use x=\"159.033203\" xlink:href=\"#DejaVuSans-53\"/>\n      </g>\n     </g>\n    </g>\n    <g id=\"ytick_2\">\n     <g id=\"line2d_8\">\n      <g>\n       <use style=\"stroke:#000000;stroke-width:0.8;\" x=\"50.14375\" xlink:href=\"#m10c89646f5\" y=\"208.710549\"/>\n      </g>\n     </g>\n     <g id=\"text_9\">\n      <!-- 0.50 -->\n      <g transform=\"translate(20.878125 212.509768)scale(0.1 -0.1)\">\n       <use xlink:href=\"#DejaVuSans-48\"/>\n       <use x=\"63.623047\" xlink:href=\"#DejaVuSans-46\"/>\n       <use x=\"95.410156\" xlink:href=\"#DejaVuSans-53\"/>\n       <use x=\"159.033203\" xlink:href=\"#DejaVuSans-48\"/>\n      </g>\n     </g>\n    </g>\n    <g id=\"ytick_3\">\n     <g id=\"line2d_9\">\n      <g>\n       <use style=\"stroke:#000000;stroke-width:0.8;\" x=\"50.14375\" xlink:href=\"#m10c89646f5\" y=\"178.512294\"/>\n      </g>\n     </g>\n     <g id=\"text_10\">\n      <!-- 0.55 -->\n      <g transform=\"translate(20.878125 182.311513)scale(0.1 -0.1)\">\n       <use xlink:href=\"#DejaVuSans-48\"/>\n       <use x=\"63.623047\" xlink:href=\"#DejaVuSans-46\"/>\n       <use x=\"95.410156\" xlink:href=\"#DejaVuSans-53\"/>\n       <use x=\"159.033203\" xlink:href=\"#DejaVuSans-53\"/>\n      </g>\n     </g>\n    </g>\n    <g id=\"ytick_4\">\n     <g id=\"line2d_10\">\n      <g>\n       <use style=\"stroke:#000000;stroke-width:0.8;\" x=\"50.14375\" xlink:href=\"#m10c89646f5\" y=\"148.314039\"/>\n      </g>\n     </g>\n     <g id=\"text_11\">\n      <!-- 0.60 -->\n      <g transform=\"translate(20.878125 152.113257)scale(0.1 -0.1)\">\n       <use xlink:href=\"#DejaVuSans-48\"/>\n       <use x=\"63.623047\" xlink:href=\"#DejaVuSans-46\"/>\n       <use x=\"95.410156\" xlink:href=\"#DejaVuSans-54\"/>\n       <use x=\"159.033203\" xlink:href=\"#DejaVuSans-48\"/>\n      </g>\n     </g>\n    </g>\n    <g id=\"ytick_5\">\n     <g id=\"line2d_11\">\n      <g>\n       <use style=\"stroke:#000000;stroke-width:0.8;\" x=\"50.14375\" xlink:href=\"#m10c89646f5\" y=\"118.115784\"/>\n      </g>\n     </g>\n     <g id=\"text_12\">\n      <!-- 0.65 -->\n      <g transform=\"translate(20.878125 121.915002)scale(0.1 -0.1)\">\n       <use xlink:href=\"#DejaVuSans-48\"/>\n       <use x=\"63.623047\" xlink:href=\"#DejaVuSans-46\"/>\n       <use x=\"95.410156\" xlink:href=\"#DejaVuSans-54\"/>\n       <use x=\"159.033203\" xlink:href=\"#DejaVuSans-53\"/>\n      </g>\n     </g>\n    </g>\n    <g id=\"ytick_6\">\n     <g id=\"line2d_12\">\n      <g>\n       <use style=\"stroke:#000000;stroke-width:0.8;\" x=\"50.14375\" xlink:href=\"#m10c89646f5\" y=\"87.917528\"/>\n      </g>\n     </g>\n     <g id=\"text_13\">\n      <!-- 0.70 -->\n      <defs>\n       <path d=\"M 8.203125 72.90625 \nL 55.078125 72.90625 \nL 55.078125 68.703125 \nL 28.609375 0 \nL 18.3125 0 \nL 43.21875 64.59375 \nL 8.203125 64.59375 \nz\n\" id=\"DejaVuSans-55\"/>\n      </defs>\n      <g transform=\"translate(20.878125 91.716747)scale(0.1 -0.1)\">\n       <use xlink:href=\"#DejaVuSans-48\"/>\n       <use x=\"63.623047\" xlink:href=\"#DejaVuSans-46\"/>\n       <use x=\"95.410156\" xlink:href=\"#DejaVuSans-55\"/>\n       <use x=\"159.033203\" xlink:href=\"#DejaVuSans-48\"/>\n      </g>\n     </g>\n    </g>\n    <g id=\"ytick_7\">\n     <g id=\"line2d_13\">\n      <g>\n       <use style=\"stroke:#000000;stroke-width:0.8;\" x=\"50.14375\" xlink:href=\"#m10c89646f5\" y=\"57.719273\"/>\n      </g>\n     </g>\n     <g id=\"text_14\">\n      <!-- 0.75 -->\n      <g transform=\"translate(20.878125 61.518492)scale(0.1 -0.1)\">\n       <use xlink:href=\"#DejaVuSans-48\"/>\n       <use x=\"63.623047\" xlink:href=\"#DejaVuSans-46\"/>\n       <use x=\"95.410156\" xlink:href=\"#DejaVuSans-55\"/>\n       <use x=\"159.033203\" xlink:href=\"#DejaVuSans-53\"/>\n      </g>\n     </g>\n    </g>\n    <g id=\"ytick_8\">\n     <g id=\"line2d_14\">\n      <g>\n       <use style=\"stroke:#000000;stroke-width:0.8;\" x=\"50.14375\" xlink:href=\"#m10c89646f5\" y=\"27.521018\"/>\n      </g>\n     </g>\n     <g id=\"text_15\">\n      <!-- 0.80 -->\n      <g transform=\"translate(20.878125 31.320237)scale(0.1 -0.1)\">\n       <use xlink:href=\"#DejaVuSans-48\"/>\n       <use x=\"63.623047\" xlink:href=\"#DejaVuSans-46\"/>\n       <use x=\"95.410156\" xlink:href=\"#DejaVuSans-56\"/>\n       <use x=\"159.033203\" xlink:href=\"#DejaVuSans-48\"/>\n      </g>\n     </g>\n    </g>\n    <g id=\"text_16\">\n     <!-- accuracy -->\n     <defs>\n      <path d=\"M 34.28125 27.484375 \nQ 23.390625 27.484375 19.1875 25 \nQ 14.984375 22.515625 14.984375 16.5 \nQ 14.984375 11.71875 18.140625 8.90625 \nQ 21.296875 6.109375 26.703125 6.109375 \nQ 34.1875 6.109375 38.703125 11.40625 \nQ 43.21875 16.703125 43.21875 25.484375 \nL 43.21875 27.484375 \nz\nM 52.203125 31.203125 \nL 52.203125 0 \nL 43.21875 0 \nL 43.21875 8.296875 \nQ 40.140625 3.328125 35.546875 0.953125 \nQ 30.953125 -1.421875 24.3125 -1.421875 \nQ 15.921875 -1.421875 10.953125 3.296875 \nQ 6 8.015625 6 15.921875 \nQ 6 25.140625 12.171875 29.828125 \nQ 18.359375 34.515625 30.609375 34.515625 \nL 43.21875 34.515625 \nL 43.21875 35.40625 \nQ 43.21875 41.609375 39.140625 45 \nQ 35.0625 48.390625 27.6875 48.390625 \nQ 23 48.390625 18.546875 47.265625 \nQ 14.109375 46.140625 10.015625 43.890625 \nL 10.015625 52.203125 \nQ 14.9375 54.109375 19.578125 55.046875 \nQ 24.21875 56 28.609375 56 \nQ 40.484375 56 46.34375 49.84375 \nQ 52.203125 43.703125 52.203125 31.203125 \nz\n\" id=\"DejaVuSans-97\"/>\n      <path d=\"M 8.5 21.578125 \nL 8.5 54.6875 \nL 17.484375 54.6875 \nL 17.484375 21.921875 \nQ 17.484375 14.15625 20.5 10.265625 \nQ 23.53125 6.390625 29.59375 6.390625 \nQ 36.859375 6.390625 41.078125 11.03125 \nQ 45.3125 15.671875 45.3125 23.6875 \nL 45.3125 54.6875 \nL 54.296875 54.6875 \nL 54.296875 0 \nL 45.3125 0 \nL 45.3125 8.40625 \nQ 42.046875 3.421875 37.71875 1 \nQ 33.40625 -1.421875 27.6875 -1.421875 \nQ 18.265625 -1.421875 13.375 4.4375 \nQ 8.5 10.296875 8.5 21.578125 \nz\nM 31.109375 56 \nz\n\" id=\"DejaVuSans-117\"/>\n      <path d=\"M 41.109375 46.296875 \nQ 39.59375 47.171875 37.8125 47.578125 \nQ 36.03125 48 33.890625 48 \nQ 26.265625 48 22.1875 43.046875 \nQ 18.109375 38.09375 18.109375 28.8125 \nL 18.109375 0 \nL 9.078125 0 \nL 9.078125 54.6875 \nL 18.109375 54.6875 \nL 18.109375 46.1875 \nQ 20.953125 51.171875 25.484375 53.578125 \nQ 30.03125 56 36.53125 56 \nQ 37.453125 56 38.578125 55.875 \nQ 39.703125 55.765625 41.0625 55.515625 \nz\n\" id=\"DejaVuSans-114\"/>\n      <path d=\"M 32.171875 -5.078125 \nQ 28.375 -14.84375 24.75 -17.8125 \nQ 21.140625 -20.796875 15.09375 -20.796875 \nL 7.90625 -20.796875 \nL 7.90625 -13.28125 \nL 13.1875 -13.28125 \nQ 16.890625 -13.28125 18.9375 -11.515625 \nQ 21 -9.765625 23.484375 -3.21875 \nL 25.09375 0.875 \nL 2.984375 54.6875 \nL 12.5 54.6875 \nL 29.59375 11.921875 \nL 46.6875 54.6875 \nL 56.203125 54.6875 \nz\n\" id=\"DejaVuSans-121\"/>\n     </defs>\n     <g transform=\"translate(14.798438 153.5975)rotate(-90)scale(0.1 -0.1)\">\n      <use xlink:href=\"#DejaVuSans-97\"/>\n      <use x=\"61.279297\" xlink:href=\"#DejaVuSans-99\"/>\n      <use x=\"116.259766\" xlink:href=\"#DejaVuSans-99\"/>\n      <use x=\"171.240234\" xlink:href=\"#DejaVuSans-117\"/>\n      <use x=\"234.619141\" xlink:href=\"#DejaVuSans-114\"/>\n      <use x=\"275.732422\" xlink:href=\"#DejaVuSans-97\"/>\n      <use x=\"337.011719\" xlink:href=\"#DejaVuSans-99\"/>\n      <use x=\"391.992188\" xlink:href=\"#DejaVuSans-121\"/>\n     </g>\n    </g>\n   </g>\n   <g id=\"line2d_15\">\n    <path clip-path=\"url(#pfc9c3b352b)\" d=\"M 65.361932 229.874489 \nL 68.436312 131.86858 \nL 71.510692 125.816335 \nL 74.585072 92.623413 \nL 77.659452 90.320801 \nL 80.733833 84.53279 \nL 83.808213 92.887647 \nL 86.882593 82.079198 \nL 89.956973 75.813046 \nL 93.031353 77.650117 \nL 96.105733 76.97067 \nL 99.180114 67.017811 \nL 102.254494 80.053383 \nL 105.328874 69.823727 \nL 108.403254 85.438744 \nL 111.477634 80.858683 \nL 114.552014 69.282696 \nL 117.626395 58.134487 \nL 120.700775 67.735022 \nL 123.775155 71.635635 \nL 126.849535 66.489344 \nL 129.923915 80.66994 \nL 132.998295 61.519233 \nL 136.072676 64.551619 \nL 139.147056 62.752311 \nL 142.221436 61.95961 \nL 145.295816 56.901409 \nL 148.370196 59.128531 \nL 151.444576 60.072212 \nL 154.518957 61.707976 \nL 157.593337 56.460996 \nL 160.667717 59.468255 \nL 163.742097 55.177591 \nL 166.816477 57.958344 \nL 169.890857 51.805445 \nL 172.965238 50.584931 \nL 176.039618 64.690036 \nL 179.113998 78.669324 \nL 182.188378 71.421728 \nL 185.262758 58.071597 \nL 188.337138 53.868987 \nL 191.411519 59.103368 \nL 194.485899 55.026611 \nL 197.560279 59.770252 \nL 200.634659 53.73057 \nL 203.709039 53.038559 \nL 206.783419 53.59219 \nL 209.8578 58.046433 \nL 212.93218 56.649739 \nL 216.00656 49.502833 \nL 219.08094 51.113398 \nL 222.15532 53.013396 \nL 225.2297 46.193613 \nL 228.304081 47.741252 \nL 231.378461 52.598146 \nL 234.452841 41.827459 \nL 237.527221 42.632724 \nL 240.601601 52.472329 \nL 243.675981 46.5711 \nL 246.750362 42.519471 \nL 249.824742 40.179132 \nL 252.899122 42.544634 \nL 255.973502 44.432032 \nL 259.047882 41.538027 \nL 262.122262 55.076938 \nL 265.196643 48.798222 \nL 268.271023 54.120657 \nL 271.345403 58.788807 \nL 274.419783 41.751933 \nL 277.494163 50.056464 \nL 280.568543 52.384239 \nL 283.642924 48.559152 \nL 286.717304 39.197687 \nL 289.791684 40.393038 \nL 292.866064 45.03599 \nL 295.940444 46.948551 \nL 299.014824 42.230074 \nL 302.089205 38.883127 \nL 305.163585 51.390231 \nL 308.237965 44.721429 \nL 311.312345 49.377016 \nL 314.386725 41.009559 \nL 317.461105 45.979707 \nL 320.535486 44.230725 \nL 323.609866 41.500299 \nL 326.684246 45.904216 \nL 329.758626 47.175058 \nL 332.833006 44.859846 \nL 335.907386 46.558501 \nL 338.981767 48.98693 \nL 342.056147 49.666413 \nL 345.130527 46.545937 \nL 348.204907 42.607561 \nL 351.279287 43.148627 \nL 354.353667 42.154584 \nL 357.428048 35.800378 \nL 360.502428 33.774563 \nL 363.576808 50.735911 \nL 366.651188 58.323231 \nL 369.725568 43.349935 \n\" style=\"fill:none;stroke:#1f77b4;stroke-linecap:square;stroke-width:1.5;\"/>\n   </g>\n   <g id=\"line2d_16\">\n    <path clip-path=\"url(#pfc9c3b352b)\" d=\"M 65.361932 128.2322 \nL 68.436312 130.597739 \nL 71.510692 76.744163 \nL 74.585072 79.160028 \nL 77.659452 85.753304 \nL 80.733833 76.542856 \nL 83.808213 83.790416 \nL 86.882593 70.905861 \nL 89.956973 112.629783 \nL 93.031353 86.155954 \nL 96.105733 61.39338 \nL 99.180114 64.010589 \nL 102.254494 102.966322 \nL 105.328874 63.054308 \nL 108.403254 59.682162 \nL 111.477634 82.783808 \nL 114.552014 57.21597 \nL 117.626395 55.353735 \nL 120.700775 83.891106 \nL 123.775155 58.02127 \nL 126.849535 96.07105 \nL 129.923915 60.890076 \nL 132.998295 65.92315 \nL 136.072676 65.319157 \nL 139.147056 95.718762 \nL 142.221436 53.390847 \nL 145.295816 54.598797 \nL 148.370196 57.7696 \nL 151.444576 62.500677 \nL 154.518957 59.833142 \nL 157.593337 56.410669 \nL 160.667717 55.555078 \nL 163.742097 61.2424 \nL 166.816477 42.670487 \nL 169.890857 69.446276 \nL 172.965238 45.84129 \nL 176.039618 61.997373 \nL 179.113998 83.035478 \nL 182.188378 56.460996 \nL 185.262758 44.633375 \nL 188.337138 57.719273 \nL 191.411519 57.316623 \nL 194.485899 50.723347 \nL 197.560279 69.496603 \nL 200.634659 49.616086 \nL 203.709039 43.928728 \nL 206.783419 55.102101 \nL 209.8578 47.502182 \nL 212.93218 49.918047 \nL 216.00656 44.885009 \nL 219.08094 48.055848 \nL 222.15532 43.526078 \nL 225.2297 46.294267 \nL 228.304081 58.071597 \nL 231.378461 42.21751 \nL 234.452841 41.81486 \nL 237.527221 38.392387 \nL 240.601601 57.517966 \nL 243.675981 42.167183 \nL 246.750362 36.832149 \nL 249.824742 40.002952 \nL 252.899122 51.176324 \nL 255.973502 34.567264 \nL 259.047882 42.36849 \nL 262.122262 59.782815 \nL 265.196643 45.237333 \nL 268.271023 51.931262 \nL 271.345403 56.863646 \nL 274.419783 39.449321 \nL 277.494163 56.813319 \nL 280.568543 40.707599 \nL 283.642924 47.854505 \nL 286.717304 35.171257 \nL 289.791684 44.432032 \nL 292.866064 48.055848 \nL 295.940444 37.285126 \nL 299.014824 44.381705 \nL 302.089205 34.919587 \nL 305.163585 59.078204 \nL 308.237965 40.556582 \nL 311.312345 52.484893 \nL 314.386725 36.731495 \nL 317.461105 46.445247 \nL 320.535486 34.46661 \nL 323.609866 45.187006 \nL 326.684246 40.908906 \nL 329.758626 50.169717 \nL 332.833006 38.040064 \nL 335.907386 38.593694 \nL 338.981767 53.642516 \nL 342.056147 59.984158 \nL 345.130527 40.757925 \nL 348.204907 42.418817 \nL 351.279287 45.790963 \nL 354.353667 32.201761 \nL 357.428048 34.16465 \nL 360.502428 32.302415 \nL 363.576808 87.514885 \nL 366.651188 38.392387 \nL 369.725568 68.993299 \n\" style=\"fill:none;stroke:#ff7f0e;stroke-linecap:square;stroke-width:1.5;\"/>\n   </g>\n   <g id=\"patch_3\">\n    <path d=\"M 50.14375 239.758125 \nL 50.14375 22.318125 \n\" style=\"fill:none;stroke:#000000;stroke-linecap:square;stroke-linejoin:miter;stroke-width:0.8;\"/>\n   </g>\n   <g id=\"patch_4\">\n    <path d=\"M 384.94375 239.758125 \nL 384.94375 22.318125 \n\" style=\"fill:none;stroke:#000000;stroke-linecap:square;stroke-linejoin:miter;stroke-width:0.8;\"/>\n   </g>\n   <g id=\"patch_5\">\n    <path d=\"M 50.14375 239.758125 \nL 384.94375 239.758125 \n\" style=\"fill:none;stroke:#000000;stroke-linecap:square;stroke-linejoin:miter;stroke-width:0.8;\"/>\n   </g>\n   <g id=\"patch_6\">\n    <path d=\"M 50.14375 22.318125 \nL 384.94375 22.318125 \n\" style=\"fill:none;stroke:#000000;stroke-linecap:square;stroke-linejoin:miter;stroke-width:0.8;\"/>\n   </g>\n   <g id=\"text_17\">\n    <!-- Training and validation accuracy -->\n    <defs>\n     <path d=\"M -0.296875 72.90625 \nL 61.375 72.90625 \nL 61.375 64.59375 \nL 35.5 64.59375 \nL 35.5 0 \nL 25.59375 0 \nL 25.59375 64.59375 \nL -0.296875 64.59375 \nz\n\" id=\"DejaVuSans-84\"/>\n     <path d=\"M 9.421875 54.6875 \nL 18.40625 54.6875 \nL 18.40625 0 \nL 9.421875 0 \nz\nM 9.421875 75.984375 \nL 18.40625 75.984375 \nL 18.40625 64.59375 \nL 9.421875 64.59375 \nz\n\" id=\"DejaVuSans-105\"/>\n     <path d=\"M 54.890625 33.015625 \nL 54.890625 0 \nL 45.90625 0 \nL 45.90625 32.71875 \nQ 45.90625 40.484375 42.875 44.328125 \nQ 39.84375 48.1875 33.796875 48.1875 \nQ 26.515625 48.1875 22.3125 43.546875 \nQ 18.109375 38.921875 18.109375 30.90625 \nL 18.109375 0 \nL 9.078125 0 \nL 9.078125 54.6875 \nL 18.109375 54.6875 \nL 18.109375 46.1875 \nQ 21.34375 51.125 25.703125 53.5625 \nQ 30.078125 56 35.796875 56 \nQ 45.21875 56 50.046875 50.171875 \nQ 54.890625 44.34375 54.890625 33.015625 \nz\n\" id=\"DejaVuSans-110\"/>\n     <path d=\"M 45.40625 27.984375 \nQ 45.40625 37.75 41.375 43.109375 \nQ 37.359375 48.484375 30.078125 48.484375 \nQ 22.859375 48.484375 18.828125 43.109375 \nQ 14.796875 37.75 14.796875 27.984375 \nQ 14.796875 18.265625 18.828125 12.890625 \nQ 22.859375 7.515625 30.078125 7.515625 \nQ 37.359375 7.515625 41.375 12.890625 \nQ 45.40625 18.265625 45.40625 27.984375 \nz\nM 54.390625 6.78125 \nQ 54.390625 -7.171875 48.1875 -13.984375 \nQ 42 -20.796875 29.203125 -20.796875 \nQ 24.46875 -20.796875 20.265625 -20.09375 \nQ 16.0625 -19.390625 12.109375 -17.921875 \nL 12.109375 -9.1875 \nQ 16.0625 -11.328125 19.921875 -12.34375 \nQ 23.78125 -13.375 27.78125 -13.375 \nQ 36.625 -13.375 41.015625 -8.765625 \nQ 45.40625 -4.15625 45.40625 5.171875 \nL 45.40625 9.625 \nQ 42.625 4.78125 38.28125 2.390625 \nQ 33.9375 0 27.875 0 \nQ 17.828125 0 11.671875 7.65625 \nQ 5.515625 15.328125 5.515625 27.984375 \nQ 5.515625 40.671875 11.671875 48.328125 \nQ 17.828125 56 27.875 56 \nQ 33.9375 56 38.28125 53.609375 \nQ 42.625 51.21875 45.40625 46.390625 \nL 45.40625 54.6875 \nL 54.390625 54.6875 \nz\n\" id=\"DejaVuSans-103\"/>\n     <path id=\"DejaVuSans-32\"/>\n     <path d=\"M 45.40625 46.390625 \nL 45.40625 75.984375 \nL 54.390625 75.984375 \nL 54.390625 0 \nL 45.40625 0 \nL 45.40625 8.203125 \nQ 42.578125 3.328125 38.25 0.953125 \nQ 33.9375 -1.421875 27.875 -1.421875 \nQ 17.96875 -1.421875 11.734375 6.484375 \nQ 5.515625 14.40625 5.515625 27.296875 \nQ 5.515625 40.1875 11.734375 48.09375 \nQ 17.96875 56 27.875 56 \nQ 33.9375 56 38.25 53.625 \nQ 42.578125 51.265625 45.40625 46.390625 \nz\nM 14.796875 27.296875 \nQ 14.796875 17.390625 18.875 11.75 \nQ 22.953125 6.109375 30.078125 6.109375 \nQ 37.203125 6.109375 41.296875 11.75 \nQ 45.40625 17.390625 45.40625 27.296875 \nQ 45.40625 37.203125 41.296875 42.84375 \nQ 37.203125 48.484375 30.078125 48.484375 \nQ 22.953125 48.484375 18.875 42.84375 \nQ 14.796875 37.203125 14.796875 27.296875 \nz\n\" id=\"DejaVuSans-100\"/>\n     <path d=\"M 2.984375 54.6875 \nL 12.5 54.6875 \nL 29.59375 8.796875 \nL 46.6875 54.6875 \nL 56.203125 54.6875 \nL 35.6875 0 \nL 23.484375 0 \nz\n\" id=\"DejaVuSans-118\"/>\n     <path d=\"M 9.421875 75.984375 \nL 18.40625 75.984375 \nL 18.40625 0 \nL 9.421875 0 \nz\n\" id=\"DejaVuSans-108\"/>\n     <path d=\"M 18.3125 70.21875 \nL 18.3125 54.6875 \nL 36.8125 54.6875 \nL 36.8125 47.703125 \nL 18.3125 47.703125 \nL 18.3125 18.015625 \nQ 18.3125 11.328125 20.140625 9.421875 \nQ 21.96875 7.515625 27.59375 7.515625 \nL 36.8125 7.515625 \nL 36.8125 0 \nL 27.59375 0 \nQ 17.1875 0 13.234375 3.875 \nQ 9.28125 7.765625 9.28125 18.015625 \nL 9.28125 47.703125 \nL 2.6875 47.703125 \nL 2.6875 54.6875 \nL 9.28125 54.6875 \nL 9.28125 70.21875 \nz\n\" id=\"DejaVuSans-116\"/>\n    </defs>\n    <g transform=\"translate(120.251875 16.318125)scale(0.12 -0.12)\">\n     <use xlink:href=\"#DejaVuSans-84\"/>\n     <use x=\"46.333984\" xlink:href=\"#DejaVuSans-114\"/>\n     <use x=\"87.447266\" xlink:href=\"#DejaVuSans-97\"/>\n     <use x=\"148.726562\" xlink:href=\"#DejaVuSans-105\"/>\n     <use x=\"176.509766\" xlink:href=\"#DejaVuSans-110\"/>\n     <use x=\"239.888672\" xlink:href=\"#DejaVuSans-105\"/>\n     <use x=\"267.671875\" xlink:href=\"#DejaVuSans-110\"/>\n     <use x=\"331.050781\" xlink:href=\"#DejaVuSans-103\"/>\n     <use x=\"394.527344\" xlink:href=\"#DejaVuSans-32\"/>\n     <use x=\"426.314453\" xlink:href=\"#DejaVuSans-97\"/>\n     <use x=\"487.59375\" xlink:href=\"#DejaVuSans-110\"/>\n     <use x=\"550.972656\" xlink:href=\"#DejaVuSans-100\"/>\n     <use x=\"614.449219\" xlink:href=\"#DejaVuSans-32\"/>\n     <use x=\"646.236328\" xlink:href=\"#DejaVuSans-118\"/>\n     <use x=\"705.416016\" xlink:href=\"#DejaVuSans-97\"/>\n     <use x=\"766.695312\" xlink:href=\"#DejaVuSans-108\"/>\n     <use x=\"794.478516\" xlink:href=\"#DejaVuSans-105\"/>\n     <use x=\"822.261719\" xlink:href=\"#DejaVuSans-100\"/>\n     <use x=\"885.738281\" xlink:href=\"#DejaVuSans-97\"/>\n     <use x=\"947.017578\" xlink:href=\"#DejaVuSans-116\"/>\n     <use x=\"986.226562\" xlink:href=\"#DejaVuSans-105\"/>\n     <use x=\"1014.009766\" xlink:href=\"#DejaVuSans-111\"/>\n     <use x=\"1075.191406\" xlink:href=\"#DejaVuSans-110\"/>\n     <use x=\"1138.570312\" xlink:href=\"#DejaVuSans-32\"/>\n     <use x=\"1170.357422\" xlink:href=\"#DejaVuSans-97\"/>\n     <use x=\"1231.636719\" xlink:href=\"#DejaVuSans-99\"/>\n     <use x=\"1286.617188\" xlink:href=\"#DejaVuSans-99\"/>\n     <use x=\"1341.597656\" xlink:href=\"#DejaVuSans-117\"/>\n     <use x=\"1404.976562\" xlink:href=\"#DejaVuSans-114\"/>\n     <use x=\"1446.089844\" xlink:href=\"#DejaVuSans-97\"/>\n     <use x=\"1507.369141\" xlink:href=\"#DejaVuSans-99\"/>\n     <use x=\"1562.349609\" xlink:href=\"#DejaVuSans-121\"/>\n    </g>\n   </g>\n   <g id=\"legend_1\">\n    <g id=\"patch_7\">\n     <path d=\"M 272.55 234.758125 \nL 377.94375 234.758125 \nQ 379.94375 234.758125 379.94375 232.758125 \nL 379.94375 203.845625 \nQ 379.94375 201.845625 377.94375 201.845625 \nL 272.55 201.845625 \nQ 270.55 201.845625 270.55 203.845625 \nL 270.55 232.758125 \nQ 270.55 234.758125 272.55 234.758125 \nz\n\" style=\"fill:#ffffff;opacity:0.8;stroke:#cccccc;stroke-linejoin:miter;\"/>\n    </g>\n    <g id=\"line2d_17\">\n     <path d=\"M 274.55 209.944062 \nL 294.55 209.944062 \n\" style=\"fill:none;stroke:#1f77b4;stroke-linecap:square;stroke-width:1.5;\"/>\n    </g>\n    <g id=\"line2d_18\"/>\n    <g id=\"text_18\">\n     <!-- train_accuracy -->\n     <defs>\n      <path d=\"M 50.984375 -16.609375 \nL 50.984375 -23.578125 \nL -0.984375 -23.578125 \nL -0.984375 -16.609375 \nz\n\" id=\"DejaVuSans-95\"/>\n     </defs>\n     <g transform=\"translate(302.55 213.444062)scale(0.1 -0.1)\">\n      <use xlink:href=\"#DejaVuSans-116\"/>\n      <use x=\"39.208984\" xlink:href=\"#DejaVuSans-114\"/>\n      <use x=\"80.322266\" xlink:href=\"#DejaVuSans-97\"/>\n      <use x=\"141.601562\" xlink:href=\"#DejaVuSans-105\"/>\n      <use x=\"169.384766\" xlink:href=\"#DejaVuSans-110\"/>\n      <use x=\"232.763672\" xlink:href=\"#DejaVuSans-95\"/>\n      <use x=\"282.763672\" xlink:href=\"#DejaVuSans-97\"/>\n      <use x=\"344.042969\" xlink:href=\"#DejaVuSans-99\"/>\n      <use x=\"399.023438\" xlink:href=\"#DejaVuSans-99\"/>\n      <use x=\"454.003906\" xlink:href=\"#DejaVuSans-117\"/>\n      <use x=\"517.382812\" xlink:href=\"#DejaVuSans-114\"/>\n      <use x=\"558.496094\" xlink:href=\"#DejaVuSans-97\"/>\n      <use x=\"619.775391\" xlink:href=\"#DejaVuSans-99\"/>\n      <use x=\"674.755859\" xlink:href=\"#DejaVuSans-121\"/>\n     </g>\n    </g>\n    <g id=\"line2d_19\">\n     <path d=\"M 274.55 224.900312 \nL 294.55 224.900312 \n\" style=\"fill:none;stroke:#ff7f0e;stroke-linecap:square;stroke-width:1.5;\"/>\n    </g>\n    <g id=\"line2d_20\"/>\n    <g id=\"text_19\">\n     <!-- val_accuracy -->\n     <g transform=\"translate(302.55 228.400312)scale(0.1 -0.1)\">\n      <use xlink:href=\"#DejaVuSans-118\"/>\n      <use x=\"59.179688\" xlink:href=\"#DejaVuSans-97\"/>\n      <use x=\"120.458984\" xlink:href=\"#DejaVuSans-108\"/>\n      <use x=\"148.242188\" xlink:href=\"#DejaVuSans-95\"/>\n      <use x=\"198.242188\" xlink:href=\"#DejaVuSans-97\"/>\n      <use x=\"259.521484\" xlink:href=\"#DejaVuSans-99\"/>\n      <use x=\"314.501953\" xlink:href=\"#DejaVuSans-99\"/>\n      <use x=\"369.482422\" xlink:href=\"#DejaVuSans-117\"/>\n      <use x=\"432.861328\" xlink:href=\"#DejaVuSans-114\"/>\n      <use x=\"473.974609\" xlink:href=\"#DejaVuSans-97\"/>\n      <use x=\"535.253906\" xlink:href=\"#DejaVuSans-99\"/>\n      <use x=\"590.234375\" xlink:href=\"#DejaVuSans-121\"/>\n     </g>\n    </g>\n   </g>\n  </g>\n </g>\n <defs>\n  <clipPath id=\"pfc9c3b352b\">\n   <rect height=\"217.44\" width=\"334.8\" x=\"50.14375\" y=\"22.318125\"/>\n  </clipPath>\n </defs>\n</svg>\n"
          },
          "metadata": {
            "needs_background": "light"
          }
        }
      ]
    },
    {
      "cell_type": "markdown",
      "metadata": {
        "id": "J37So1Aeu9Q5"
      },
      "source": [
        "# Optimizer to enhance accuracy to 98%\n",
        "My code above is not working after reshaping & Normalisation. So I have demonstrated accuracy after reshape and normalization separately for the sake of assignment below.\n",
        "\n",
        "Reference:\n",
        "https://machinelearningmastery.com/how-to-normalize-center-and-standardize-images-with-the-imagedatagenerator-in-keras/\n",
        "\n"
      ]
    },
    {
      "cell_type": "code",
      "metadata": {
        "id": "iGVTjczju6JW",
        "colab": {
          "base_uri": "https://localhost:8080/"
        },
        "outputId": "5684ce53-bc26-4352-c53e-57930c50d9f3"
      },
      "source": [
        "\n",
        "# example of using ImageDataGenerator to normalize images\n",
        "from keras.datasets import mnist\n",
        "# from keras.utils import to_categorical\n",
        "import keras\n",
        "from keras.utils import np_utils\n",
        "from keras.models import Sequential\n",
        "from keras.layers import Conv2D\n",
        "from keras.layers import MaxPooling2D\n",
        "from keras.layers import Dense\n",
        "from keras.layers import Flatten\n",
        "from keras.preprocessing.image import ImageDataGenerator\n",
        "# load dataset\n",
        "(trainX, trainY), (testX, testY) = mnist.load_data()\n",
        "# reshape dataset to have a single channel\n",
        "width, height, channels = trainX.shape[1], trainX.shape[2], 1\n",
        "trainX = trainX.reshape((trainX.shape[0], width, height, channels))\n",
        "testX = testX.reshape((testX.shape[0], width, height, channels))\n",
        "# one hot encode target values\n",
        "trainY = keras.utils.np_utils.to_categorical(trainY)\n",
        "testY = keras.utils.np_utils.to_categorical(testY)\n",
        "# confirm scale of pixels\n",
        "print('Train min=%.3f, max=%.3f' % (trainX.min(), trainX.max()))\n",
        "print('Test min=%.3f, max=%.3f' % (testX.min(), testX.max()))\n",
        "# create generator (1.0/255.0 = 0.003921568627451)\n",
        "datagen = ImageDataGenerator(rescale=1.0/255.0)\n",
        "# prepare an iterators to scale images\n",
        "train_iterator = datagen.flow(trainX, trainY, batch_size=64)\n",
        "test_iterator = datagen.flow(testX, testY, batch_size=64)\n",
        "print('Batches train=%d, test=%d' % (len(train_iterator), len(test_iterator)))\n",
        "# confirm the scaling works\n",
        "batchX, batchy = train_iterator.next()\n",
        "print('Batch shape=%s, min=%.3f, max=%.3f' % (batchX.shape, batchX.min(), batchX.max()))\n",
        "# define model\n",
        "model = Sequential()\n",
        "model.add(Conv2D(32, (3, 3), activation='relu', input_shape=(width, height, channels)))\n",
        "model.add(MaxPooling2D((2, 2)))\n",
        "model.add(Conv2D(64, (3, 3), activation='relu'))\n",
        "model.add(MaxPooling2D((2, 2)))\n",
        "model.add(Flatten())\n",
        "model.add(Dense(64, activation='relu'))\n",
        "model.add(Dense(10, activation='softmax'))\n",
        "# compile model\n",
        "model.compile(optimizer='adam', loss='categorical_crossentropy', metrics=['accuracy'])\n",
        "# fit model with generator\n",
        "model.fit_generator(train_iterator, steps_per_epoch=len(train_iterator), epochs=5)\n",
        "# evaluate model\n",
        "_, acc = model.evaluate_generator(test_iterator, steps=len(test_iterator), verbose=0)\n",
        "print('Test Accuracy: %.3f' % (acc * 100))\n"
      ],
      "execution_count": 149,
      "outputs": [
        {
          "output_type": "stream",
          "name": "stdout",
          "text": [
            "Train min=0.000, max=255.000\n",
            "Test min=0.000, max=255.000\n",
            "Batches train=938, test=157\n",
            "Batch shape=(64, 28, 28, 1), min=0.000, max=1.000\n",
            "Epoch 1/5\n"
          ]
        },
        {
          "output_type": "stream",
          "name": "stderr",
          "text": [
            "/usr/local/lib/python3.7/dist-packages/keras/engine/training.py:1972: UserWarning: `Model.fit_generator` is deprecated and will be removed in a future version. Please use `Model.fit`, which supports generators.\n",
            "  warnings.warn('`Model.fit_generator` is deprecated and '\n"
          ]
        },
        {
          "output_type": "stream",
          "name": "stdout",
          "text": [
            "938/938 [==============================] - 48s 51ms/step - loss: 0.1749 - accuracy: 0.9485\n",
            "Epoch 2/5\n",
            "938/938 [==============================] - 48s 52ms/step - loss: 0.0532 - accuracy: 0.9840\n",
            "Epoch 3/5\n",
            "938/938 [==============================] - 48s 52ms/step - loss: 0.0365 - accuracy: 0.9886\n",
            "Epoch 4/5\n",
            "938/938 [==============================] - 48s 51ms/step - loss: 0.0276 - accuracy: 0.9915\n",
            "Epoch 5/5\n",
            "938/938 [==============================] - 48s 51ms/step - loss: 0.0225 - accuracy: 0.9929\n"
          ]
        },
        {
          "output_type": "stream",
          "name": "stderr",
          "text": [
            "/usr/local/lib/python3.7/dist-packages/keras/engine/training.py:2006: UserWarning: `Model.evaluate_generator` is deprecated and will be removed in a future version. Please use `Model.evaluate`, which supports generators.\n",
            "  warnings.warn('`Model.evaluate_generator` is deprecated and '\n"
          ]
        },
        {
          "output_type": "stream",
          "name": "stdout",
          "text": [
            "Test Accuracy: 98.860\n"
          ]
        }
      ]
    }
  ]
}