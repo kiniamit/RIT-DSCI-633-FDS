{
  "nbformat": 4,
  "nbformat_minor": 0,
  "metadata": {
    "colab": {
      "name": "Kini_Assignment4.ipynb",
      "provenance": [],
      "collapsed_sections": []
    },
    "kernelspec": {
      "name": "python3",
      "display_name": "Python 3"
    },
    "language_info": {
      "name": "python"
    }
  },
  "cells": [
    {
      "cell_type": "markdown",
      "metadata": {
        "id": "jy9jj1KR2S5A"
      },
      "source": [
        "# STEP 1: Setup"
      ]
    },
    {
      "cell_type": "code",
      "metadata": {
        "id": "iYxqwkk1uouR"
      },
      "source": [
        "\n",
        "# Python ≥3.5 is required\n",
        "import sys\n",
        "\n",
        "# Scikit-Learn ≥0.20 is required\n",
        "import sklearn\n",
        "\n",
        "# Common imports\n",
        "import numpy as np\n",
        "import os\n",
        "\n",
        "# data visualization\n",
        "import seaborn as sns\n",
        "\n",
        "# To plot pretty figures\n",
        "%matplotlib inline\n",
        "import matplotlib as mpl\n",
        "import matplotlib.pyplot as plt\n",
        "from sklearn.preprocessing import StandardScaler"
      ],
      "execution_count": 418,
      "outputs": []
    },
    {
      "cell_type": "code",
      "metadata": {
        "id": "_RNPMvBwuqqE"
      },
      "source": [
        "PROJECT_ROOT_DIR = \".\"\n",
        "CHAPTER_ID = \"Assignment_4\"\n",
        "IMAGES_PATH = os.path.join(PROJECT_ROOT_DIR, \"images\", CHAPTER_ID)\n",
        "os.makedirs(IMAGES_PATH, exist_ok=True)\n",
        "\n",
        "def save_fig(fig_id, tight_layout=True, fig_extension=\"png\", resolution=300):\n",
        "    path = os.path.join(IMAGES_PATH, fig_id + \".\" + fig_extension)\n",
        "    print(\"Saving figure\", fig_id)\n",
        "    if tight_layout:\n",
        "        plt.tight_layout()\n",
        "    plt.savefig(path, format=fig_extension, dpi=resolution)"
      ],
      "execution_count": 419,
      "outputs": []
    },
    {
      "cell_type": "markdown",
      "metadata": {
        "id": "CCqMSn05uvr1"
      },
      "source": [
        "# Get the data (Download iris dataset from sklearn)"
      ]
    },
    {
      "cell_type": "code",
      "metadata": {
        "colab": {
          "base_uri": "https://localhost:8080/"
        },
        "id": "xj8RrioXuzNc",
        "outputId": "abdeaa5f-3733-4aa3-fdc8-db14a0f9b4c4"
      },
      "source": [
        "import pandas as pd\n",
        "from zipfile import ZipFile\n",
        "from sklearn import datasets\n",
        "\n",
        "iris = datasets.load_iris()\n",
        "# Store features matrix in X\n",
        "X= iris.data\n",
        "#Store target vector in y\n",
        "y= iris.target\n",
        "\n",
        "# Names of features/columns in iris dataset\n",
        "print(iris.feature_names)\n",
        "\n"
      ],
      "execution_count": 420,
      "outputs": [
        {
          "output_type": "stream",
          "name": "stdout",
          "text": [
            "['sepal length (cm)', 'sepal width (cm)', 'petal length (cm)', 'petal width (cm)']\n"
          ]
        }
      ]
    },
    {
      "cell_type": "code",
      "metadata": {
        "colab": {
          "base_uri": "https://localhost:8080/"
        },
        "id": "91onX-S0u18l",
        "outputId": "bd2eb830-1630-483a-a5e9-00aff5b8af90"
      },
      "source": [
        "# Names of target/output in iris dataset\n",
        "print(iris.target_names)"
      ],
      "execution_count": 421,
      "outputs": [
        {
          "output_type": "stream",
          "name": "stdout",
          "text": [
            "['setosa' 'versicolor' 'virginica']\n"
          ]
        }
      ]
    },
    {
      "cell_type": "code",
      "metadata": {
        "colab": {
          "base_uri": "https://localhost:8080/"
        },
        "id": "DP6l-Mo3u6QM",
        "outputId": "d482f71b-df2a-4d1c-d106-36a0493fcb32"
      },
      "source": [
        "# size of feature matric\n",
        "print (iris.data.shape)"
      ],
      "execution_count": 422,
      "outputs": [
        {
          "output_type": "stream",
          "name": "stdout",
          "text": [
            "(150, 4)\n"
          ]
        }
      ]
    },
    {
      "cell_type": "code",
      "metadata": {
        "colab": {
          "base_uri": "https://localhost:8080/"
        },
        "id": "mSKwzFPZu8Vf",
        "outputId": "862d9989-4853-4c15-811b-ae47db6c9391"
      },
      "source": [
        "# size of target vector\n",
        "print (iris.target.shape)"
      ],
      "execution_count": 423,
      "outputs": [
        {
          "output_type": "stream",
          "name": "stdout",
          "text": [
            "(150,)\n"
          ]
        }
      ]
    },
    {
      "cell_type": "markdown",
      "metadata": {
        "id": "wHAZB_6tQVA3"
      },
      "source": [
        "# Data Manipulation and analysis"
      ]
    },
    {
      "cell_type": "code",
      "metadata": {
        "colab": {
          "base_uri": "https://localhost:8080/"
        },
        "id": "kdPciTTtu-W7",
        "outputId": "ed70144e-2791-442f-f56c-8aed5f5e62e3"
      },
      "source": [
        "# print features\n",
        "print(iris.data)"
      ],
      "execution_count": 425,
      "outputs": [
        {
          "output_type": "stream",
          "name": "stdout",
          "text": [
            "[[5.1 3.5 1.4 0.2]\n",
            " [4.9 3.  1.4 0.2]\n",
            " [4.7 3.2 1.3 0.2]\n",
            " [4.6 3.1 1.5 0.2]\n",
            " [5.  3.6 1.4 0.2]\n",
            " [5.4 3.9 1.7 0.4]\n",
            " [4.6 3.4 1.4 0.3]\n",
            " [5.  3.4 1.5 0.2]\n",
            " [4.4 2.9 1.4 0.2]\n",
            " [4.9 3.1 1.5 0.1]\n",
            " [5.4 3.7 1.5 0.2]\n",
            " [4.8 3.4 1.6 0.2]\n",
            " [4.8 3.  1.4 0.1]\n",
            " [4.3 3.  1.1 0.1]\n",
            " [5.8 4.  1.2 0.2]\n",
            " [5.7 4.4 1.5 0.4]\n",
            " [5.4 3.9 1.3 0.4]\n",
            " [5.1 3.5 1.4 0.3]\n",
            " [5.7 3.8 1.7 0.3]\n",
            " [5.1 3.8 1.5 0.3]\n",
            " [5.4 3.4 1.7 0.2]\n",
            " [5.1 3.7 1.5 0.4]\n",
            " [4.6 3.6 1.  0.2]\n",
            " [5.1 3.3 1.7 0.5]\n",
            " [4.8 3.4 1.9 0.2]\n",
            " [5.  3.  1.6 0.2]\n",
            " [5.  3.4 1.6 0.4]\n",
            " [5.2 3.5 1.5 0.2]\n",
            " [5.2 3.4 1.4 0.2]\n",
            " [4.7 3.2 1.6 0.2]\n",
            " [4.8 3.1 1.6 0.2]\n",
            " [5.4 3.4 1.5 0.4]\n",
            " [5.2 4.1 1.5 0.1]\n",
            " [5.5 4.2 1.4 0.2]\n",
            " [4.9 3.1 1.5 0.2]\n",
            " [5.  3.2 1.2 0.2]\n",
            " [5.5 3.5 1.3 0.2]\n",
            " [4.9 3.6 1.4 0.1]\n",
            " [4.4 3.  1.3 0.2]\n",
            " [5.1 3.4 1.5 0.2]\n",
            " [5.  3.5 1.3 0.3]\n",
            " [4.5 2.3 1.3 0.3]\n",
            " [4.4 3.2 1.3 0.2]\n",
            " [5.  3.5 1.6 0.6]\n",
            " [5.1 3.8 1.9 0.4]\n",
            " [4.8 3.  1.4 0.3]\n",
            " [5.1 3.8 1.6 0.2]\n",
            " [4.6 3.2 1.4 0.2]\n",
            " [5.3 3.7 1.5 0.2]\n",
            " [5.  3.3 1.4 0.2]\n",
            " [7.  3.2 4.7 1.4]\n",
            " [6.4 3.2 4.5 1.5]\n",
            " [6.9 3.1 4.9 1.5]\n",
            " [5.5 2.3 4.  1.3]\n",
            " [6.5 2.8 4.6 1.5]\n",
            " [5.7 2.8 4.5 1.3]\n",
            " [6.3 3.3 4.7 1.6]\n",
            " [4.9 2.4 3.3 1. ]\n",
            " [6.6 2.9 4.6 1.3]\n",
            " [5.2 2.7 3.9 1.4]\n",
            " [5.  2.  3.5 1. ]\n",
            " [5.9 3.  4.2 1.5]\n",
            " [6.  2.2 4.  1. ]\n",
            " [6.1 2.9 4.7 1.4]\n",
            " [5.6 2.9 3.6 1.3]\n",
            " [6.7 3.1 4.4 1.4]\n",
            " [5.6 3.  4.5 1.5]\n",
            " [5.8 2.7 4.1 1. ]\n",
            " [6.2 2.2 4.5 1.5]\n",
            " [5.6 2.5 3.9 1.1]\n",
            " [5.9 3.2 4.8 1.8]\n",
            " [6.1 2.8 4.  1.3]\n",
            " [6.3 2.5 4.9 1.5]\n",
            " [6.1 2.8 4.7 1.2]\n",
            " [6.4 2.9 4.3 1.3]\n",
            " [6.6 3.  4.4 1.4]\n",
            " [6.8 2.8 4.8 1.4]\n",
            " [6.7 3.  5.  1.7]\n",
            " [6.  2.9 4.5 1.5]\n",
            " [5.7 2.6 3.5 1. ]\n",
            " [5.5 2.4 3.8 1.1]\n",
            " [5.5 2.4 3.7 1. ]\n",
            " [5.8 2.7 3.9 1.2]\n",
            " [6.  2.7 5.1 1.6]\n",
            " [5.4 3.  4.5 1.5]\n",
            " [6.  3.4 4.5 1.6]\n",
            " [6.7 3.1 4.7 1.5]\n",
            " [6.3 2.3 4.4 1.3]\n",
            " [5.6 3.  4.1 1.3]\n",
            " [5.5 2.5 4.  1.3]\n",
            " [5.5 2.6 4.4 1.2]\n",
            " [6.1 3.  4.6 1.4]\n",
            " [5.8 2.6 4.  1.2]\n",
            " [5.  2.3 3.3 1. ]\n",
            " [5.6 2.7 4.2 1.3]\n",
            " [5.7 3.  4.2 1.2]\n",
            " [5.7 2.9 4.2 1.3]\n",
            " [6.2 2.9 4.3 1.3]\n",
            " [5.1 2.5 3.  1.1]\n",
            " [5.7 2.8 4.1 1.3]\n",
            " [6.3 3.3 6.  2.5]\n",
            " [5.8 2.7 5.1 1.9]\n",
            " [7.1 3.  5.9 2.1]\n",
            " [6.3 2.9 5.6 1.8]\n",
            " [6.5 3.  5.8 2.2]\n",
            " [7.6 3.  6.6 2.1]\n",
            " [4.9 2.5 4.5 1.7]\n",
            " [7.3 2.9 6.3 1.8]\n",
            " [6.7 2.5 5.8 1.8]\n",
            " [7.2 3.6 6.1 2.5]\n",
            " [6.5 3.2 5.1 2. ]\n",
            " [6.4 2.7 5.3 1.9]\n",
            " [6.8 3.  5.5 2.1]\n",
            " [5.7 2.5 5.  2. ]\n",
            " [5.8 2.8 5.1 2.4]\n",
            " [6.4 3.2 5.3 2.3]\n",
            " [6.5 3.  5.5 1.8]\n",
            " [7.7 3.8 6.7 2.2]\n",
            " [7.7 2.6 6.9 2.3]\n",
            " [6.  2.2 5.  1.5]\n",
            " [6.9 3.2 5.7 2.3]\n",
            " [5.6 2.8 4.9 2. ]\n",
            " [7.7 2.8 6.7 2. ]\n",
            " [6.3 2.7 4.9 1.8]\n",
            " [6.7 3.3 5.7 2.1]\n",
            " [7.2 3.2 6.  1.8]\n",
            " [6.2 2.8 4.8 1.8]\n",
            " [6.1 3.  4.9 1.8]\n",
            " [6.4 2.8 5.6 2.1]\n",
            " [7.2 3.  5.8 1.6]\n",
            " [7.4 2.8 6.1 1.9]\n",
            " [7.9 3.8 6.4 2. ]\n",
            " [6.4 2.8 5.6 2.2]\n",
            " [6.3 2.8 5.1 1.5]\n",
            " [6.1 2.6 5.6 1.4]\n",
            " [7.7 3.  6.1 2.3]\n",
            " [6.3 3.4 5.6 2.4]\n",
            " [6.4 3.1 5.5 1.8]\n",
            " [6.  3.  4.8 1.8]\n",
            " [6.9 3.1 5.4 2.1]\n",
            " [6.7 3.1 5.6 2.4]\n",
            " [6.9 3.1 5.1 2.3]\n",
            " [5.8 2.7 5.1 1.9]\n",
            " [6.8 3.2 5.9 2.3]\n",
            " [6.7 3.3 5.7 2.5]\n",
            " [6.7 3.  5.2 2.3]\n",
            " [6.3 2.5 5.  1.9]\n",
            " [6.5 3.  5.2 2. ]\n",
            " [6.2 3.4 5.4 2.3]\n",
            " [5.9 3.  5.1 1.8]]\n"
          ]
        }
      ]
    },
    {
      "cell_type": "code",
      "metadata": {
        "colab": {
          "base_uri": "https://localhost:8080/"
        },
        "id": "H6LNRLJwvAw8",
        "outputId": "aac1d329-a974-42ec-8b96-f09a2856a39c"
      },
      "source": [
        "# Print target vector iris species\n",
        "print(iris.target)"
      ],
      "execution_count": 426,
      "outputs": [
        {
          "output_type": "stream",
          "name": "stdout",
          "text": [
            "[0 0 0 0 0 0 0 0 0 0 0 0 0 0 0 0 0 0 0 0 0 0 0 0 0 0 0 0 0 0 0 0 0 0 0 0 0\n",
            " 0 0 0 0 0 0 0 0 0 0 0 0 0 1 1 1 1 1 1 1 1 1 1 1 1 1 1 1 1 1 1 1 1 1 1 1 1\n",
            " 1 1 1 1 1 1 1 1 1 1 1 1 1 1 1 1 1 1 1 1 1 1 1 1 1 1 2 2 2 2 2 2 2 2 2 2 2\n",
            " 2 2 2 2 2 2 2 2 2 2 2 2 2 2 2 2 2 2 2 2 2 2 2 2 2 2 2 2 2 2 2 2 2 2 2 2 2\n",
            " 2 2]\n"
          ]
        }
      ]
    },
    {
      "cell_type": "code",
      "metadata": {
        "id": "coLqwQHbvEHX"
      },
      "source": [
        "# Converting from numPy to dataframe\n",
        "import pandas as pd\n",
        "import numpy as np\n",
        "df = pd.DataFrame(data= np.c_[iris['data'], iris['target']],\n",
        "                  columns= iris['feature_names'] + ['Species'])"
      ],
      "execution_count": 427,
      "outputs": []
    },
    {
      "cell_type": "code",
      "metadata": {
        "colab": {
          "base_uri": "https://localhost:8080/",
          "height": 300
        },
        "id": "tuJTEWXDvGMT",
        "outputId": "025f52bc-081d-4052-f6e1-e11a91ff564c"
      },
      "source": [
        "df.describe()"
      ],
      "execution_count": 428,
      "outputs": [
        {
          "output_type": "execute_result",
          "data": {
            "text/html": [
              "<div>\n",
              "<style scoped>\n",
              "    .dataframe tbody tr th:only-of-type {\n",
              "        vertical-align: middle;\n",
              "    }\n",
              "\n",
              "    .dataframe tbody tr th {\n",
              "        vertical-align: top;\n",
              "    }\n",
              "\n",
              "    .dataframe thead th {\n",
              "        text-align: right;\n",
              "    }\n",
              "</style>\n",
              "<table border=\"1\" class=\"dataframe\">\n",
              "  <thead>\n",
              "    <tr style=\"text-align: right;\">\n",
              "      <th></th>\n",
              "      <th>sepal length (cm)</th>\n",
              "      <th>sepal width (cm)</th>\n",
              "      <th>petal length (cm)</th>\n",
              "      <th>petal width (cm)</th>\n",
              "      <th>Species</th>\n",
              "    </tr>\n",
              "  </thead>\n",
              "  <tbody>\n",
              "    <tr>\n",
              "      <th>count</th>\n",
              "      <td>150.000000</td>\n",
              "      <td>150.000000</td>\n",
              "      <td>150.000000</td>\n",
              "      <td>150.000000</td>\n",
              "      <td>150.000000</td>\n",
              "    </tr>\n",
              "    <tr>\n",
              "      <th>mean</th>\n",
              "      <td>5.843333</td>\n",
              "      <td>3.057333</td>\n",
              "      <td>3.758000</td>\n",
              "      <td>1.199333</td>\n",
              "      <td>1.000000</td>\n",
              "    </tr>\n",
              "    <tr>\n",
              "      <th>std</th>\n",
              "      <td>0.828066</td>\n",
              "      <td>0.435866</td>\n",
              "      <td>1.765298</td>\n",
              "      <td>0.762238</td>\n",
              "      <td>0.819232</td>\n",
              "    </tr>\n",
              "    <tr>\n",
              "      <th>min</th>\n",
              "      <td>4.300000</td>\n",
              "      <td>2.000000</td>\n",
              "      <td>1.000000</td>\n",
              "      <td>0.100000</td>\n",
              "      <td>0.000000</td>\n",
              "    </tr>\n",
              "    <tr>\n",
              "      <th>25%</th>\n",
              "      <td>5.100000</td>\n",
              "      <td>2.800000</td>\n",
              "      <td>1.600000</td>\n",
              "      <td>0.300000</td>\n",
              "      <td>0.000000</td>\n",
              "    </tr>\n",
              "    <tr>\n",
              "      <th>50%</th>\n",
              "      <td>5.800000</td>\n",
              "      <td>3.000000</td>\n",
              "      <td>4.350000</td>\n",
              "      <td>1.300000</td>\n",
              "      <td>1.000000</td>\n",
              "    </tr>\n",
              "    <tr>\n",
              "      <th>75%</th>\n",
              "      <td>6.400000</td>\n",
              "      <td>3.300000</td>\n",
              "      <td>5.100000</td>\n",
              "      <td>1.800000</td>\n",
              "      <td>2.000000</td>\n",
              "    </tr>\n",
              "    <tr>\n",
              "      <th>max</th>\n",
              "      <td>7.900000</td>\n",
              "      <td>4.400000</td>\n",
              "      <td>6.900000</td>\n",
              "      <td>2.500000</td>\n",
              "      <td>2.000000</td>\n",
              "    </tr>\n",
              "  </tbody>\n",
              "</table>\n",
              "</div>"
            ],
            "text/plain": [
              "       sepal length (cm)  sepal width (cm)  ...  petal width (cm)     Species\n",
              "count         150.000000        150.000000  ...        150.000000  150.000000\n",
              "mean            5.843333          3.057333  ...          1.199333    1.000000\n",
              "std             0.828066          0.435866  ...          0.762238    0.819232\n",
              "min             4.300000          2.000000  ...          0.100000    0.000000\n",
              "25%             5.100000          2.800000  ...          0.300000    0.000000\n",
              "50%             5.800000          3.000000  ...          1.300000    1.000000\n",
              "75%             6.400000          3.300000  ...          1.800000    2.000000\n",
              "max             7.900000          4.400000  ...          2.500000    2.000000\n",
              "\n",
              "[8 rows x 5 columns]"
            ]
          },
          "metadata": {},
          "execution_count": 428
        }
      ]
    },
    {
      "cell_type": "code",
      "metadata": {
        "colab": {
          "base_uri": "https://localhost:8080/",
          "height": 206
        },
        "id": "rwf5TeL_vI-7",
        "outputId": "9bf0b472-9de0-42e4-fddb-ceea5075c7c8"
      },
      "source": [
        "df.head(5)"
      ],
      "execution_count": 429,
      "outputs": [
        {
          "output_type": "execute_result",
          "data": {
            "text/html": [
              "<div>\n",
              "<style scoped>\n",
              "    .dataframe tbody tr th:only-of-type {\n",
              "        vertical-align: middle;\n",
              "    }\n",
              "\n",
              "    .dataframe tbody tr th {\n",
              "        vertical-align: top;\n",
              "    }\n",
              "\n",
              "    .dataframe thead th {\n",
              "        text-align: right;\n",
              "    }\n",
              "</style>\n",
              "<table border=\"1\" class=\"dataframe\">\n",
              "  <thead>\n",
              "    <tr style=\"text-align: right;\">\n",
              "      <th></th>\n",
              "      <th>sepal length (cm)</th>\n",
              "      <th>sepal width (cm)</th>\n",
              "      <th>petal length (cm)</th>\n",
              "      <th>petal width (cm)</th>\n",
              "      <th>Species</th>\n",
              "    </tr>\n",
              "  </thead>\n",
              "  <tbody>\n",
              "    <tr>\n",
              "      <th>0</th>\n",
              "      <td>5.1</td>\n",
              "      <td>3.5</td>\n",
              "      <td>1.4</td>\n",
              "      <td>0.2</td>\n",
              "      <td>0.0</td>\n",
              "    </tr>\n",
              "    <tr>\n",
              "      <th>1</th>\n",
              "      <td>4.9</td>\n",
              "      <td>3.0</td>\n",
              "      <td>1.4</td>\n",
              "      <td>0.2</td>\n",
              "      <td>0.0</td>\n",
              "    </tr>\n",
              "    <tr>\n",
              "      <th>2</th>\n",
              "      <td>4.7</td>\n",
              "      <td>3.2</td>\n",
              "      <td>1.3</td>\n",
              "      <td>0.2</td>\n",
              "      <td>0.0</td>\n",
              "    </tr>\n",
              "    <tr>\n",
              "      <th>3</th>\n",
              "      <td>4.6</td>\n",
              "      <td>3.1</td>\n",
              "      <td>1.5</td>\n",
              "      <td>0.2</td>\n",
              "      <td>0.0</td>\n",
              "    </tr>\n",
              "    <tr>\n",
              "      <th>4</th>\n",
              "      <td>5.0</td>\n",
              "      <td>3.6</td>\n",
              "      <td>1.4</td>\n",
              "      <td>0.2</td>\n",
              "      <td>0.0</td>\n",
              "    </tr>\n",
              "  </tbody>\n",
              "</table>\n",
              "</div>"
            ],
            "text/plain": [
              "   sepal length (cm)  sepal width (cm)  ...  petal width (cm)  Species\n",
              "0                5.1               3.5  ...               0.2      0.0\n",
              "1                4.9               3.0  ...               0.2      0.0\n",
              "2                4.7               3.2  ...               0.2      0.0\n",
              "3                4.6               3.1  ...               0.2      0.0\n",
              "4                5.0               3.6  ...               0.2      0.0\n",
              "\n",
              "[5 rows x 5 columns]"
            ]
          },
          "metadata": {},
          "execution_count": 429
        }
      ]
    },
    {
      "cell_type": "code",
      "metadata": {
        "colab": {
          "base_uri": "https://localhost:8080/",
          "height": 357
        },
        "id": "hYCqFUo8vTxe",
        "outputId": "fff38a5a-4503-4970-cbda-5d0b51efceae"
      },
      "source": [
        "sns.scatterplot(df['sepal length (cm)'],df['sepal width (cm)'],hue=df['Species'])\n",
        "\n",
        "# insights drawn:\n",
        "# 0 (Sentosa) has wider speal and smaller in speal length\n",
        "# 1 (versicolor) has medium sepal length and sepal width \n",
        "# 2 (virginica) has lower sepal width and higher sepal length"
      ],
      "execution_count": 430,
      "outputs": [
        {
          "output_type": "stream",
          "name": "stderr",
          "text": [
            "/usr/local/lib/python3.7/dist-packages/seaborn/_decorators.py:43: FutureWarning: Pass the following variables as keyword args: x, y. From version 0.12, the only valid positional argument will be `data`, and passing other arguments without an explicit keyword will result in an error or misinterpretation.\n",
            "  FutureWarning\n"
          ]
        },
        {
          "output_type": "execute_result",
          "data": {
            "text/plain": [
              "<matplotlib.axes._subplots.AxesSubplot at 0x7f34588bd550>"
            ]
          },
          "metadata": {},
          "execution_count": 430
        },
        {
          "output_type": "display_data",
          "data": {
            "image/png": "[encoded data removed]",
            "text/plain": [
              "<Figure size 432x288 with 1 Axes>"
            ]
          },
          "metadata": {
            "needs_background": "light"
          }
        }
      ]
    },
    {
      "cell_type": "code",
      "metadata": {
        "colab": {
          "base_uri": "https://localhost:8080/",
          "height": 354
        },
        "id": "wELhOjrNvWiz",
        "outputId": "7ec72f16-d1bc-4b78-d614-defc8d894c4a"
      },
      "source": [
        "sns.scatterplot(df['petal length (cm)'],df['petal width (cm)'],hue=df['Species'])\n",
        "\n",
        "# insights drawn:\n",
        "# 0 (Sentosa) has smallest petal length and petal width\n",
        "# 1 (versicolor) has medium petal length and petal width\n",
        "# 2 (virginica) has highest petal length and petal width"
      ],
      "execution_count": 431,
      "outputs": [
        {
          "output_type": "stream",
          "name": "stderr",
          "text": [
            "/usr/local/lib/python3.7/dist-packages/seaborn/_decorators.py:43: FutureWarning: Pass the following variables as keyword args: x, y. From version 0.12, the only valid positional argument will be `data`, and passing other arguments without an explicit keyword will result in an error or misinterpretation.\n",
            "  FutureWarning\n"
          ]
        },
        {
          "output_type": "execute_result",
          "data": {
            "text/plain": [
              "<matplotlib.axes._subplots.AxesSubplot at 0x7f34588a4c50>"
            ]
          },
          "metadata": {},
          "execution_count": 431
        },
        {
          "output_type": "display_data",
          "data": {
            "image/png": "[encoded data removed]",
            "text/plain": [
              "<Figure size 432x288 with 1 Axes>"
            ]
          },
          "metadata": {
            "needs_background": "light"
          }
        }
      ]
    },
    {
      "cell_type": "code",
      "metadata": {
        "colab": {
          "base_uri": "https://localhost:8080/",
          "height": 365
        },
        "id": "77_Sny5XvZQG",
        "outputId": "d3d4f5c1-6649-43c6-903b-488d2e6d71b8"
      },
      "source": [
        "sns.heatmap(df.corr())\n",
        "# The below heatmap shows that there is negative corelation between sepal width and Species \n",
        "# Thus sepal width is inverse relationed with the Species"
      ],
      "execution_count": 432,
      "outputs": [
        {
          "output_type": "execute_result",
          "data": {
            "text/plain": [
              "<matplotlib.axes._subplots.AxesSubplot at 0x7f34588465d0>"
            ]
          },
          "metadata": {},
          "execution_count": 432
        },
        {
          "output_type": "display_data",
          "data": {
            "image/png": "[encoded data removed]",
            "text/plain": [
              "<Figure size 432x288 with 2 Axes>"
            ]
          },
          "metadata": {
            "needs_background": "light"
          }
        }
      ]
    },
    {
      "cell_type": "markdown",
      "metadata": {
        "id": "JvhXmLsyQgq5"
      },
      "source": [
        "# Divide dataset into Train/Test "
      ]
    },
    {
      "cell_type": "code",
      "metadata": {
        "id": "jqaNlHaqvb_e"
      },
      "source": [
        "X = df.iloc[:,:-1]\n",
        "y = df.iloc[:, -1].values\n",
        "\n",
        "from sklearn.model_selection import train_test_split\n",
        "X_train, X_test, y_train, y_test = train_test_split(X, y, test_size = 0.20, random_state = 0)\n"
      ],
      "execution_count": 433,
      "outputs": []
    },
    {
      "cell_type": "markdown",
      "metadata": {
        "id": "koadnUxEQkct"
      },
      "source": [
        "# Prepare data for ML, data cleaning, Standardization"
      ]
    },
    {
      "cell_type": "code",
      "metadata": {
        "id": "xP7ZlL4uvhnM"
      },
      "source": [
        "# Values of Sepal length vary between 4.3 to 7.9\n",
        "# Values of Sepal Width vary between 2 to 4.4\n",
        "# Values of Petal length vary between 1 to 6.9\n",
        "# Values of Petal Width vary between 0.1 to 2.5\n",
        "# Feature Scaling to get all values on same scale\n",
        " \n",
        "sc = StandardScaler()\n",
        "sc.fit(X_train)\n",
        "X_train_std = sc.transform(X_train)\n",
        "X_test_std = sc.transform(X_test)"
      ],
      "execution_count": 434,
      "outputs": []
    },
    {
      "cell_type": "markdown",
      "metadata": {
        "id": "ScbH5jBI072b"
      },
      "source": [
        "# Train on Linear Support vector Machine"
      ]
    },
    {
      "cell_type": "code",
      "metadata": {
        "colab": {
          "base_uri": "https://localhost:8080/"
        },
        "id": "t-DTbSPzvkLr",
        "outputId": "22fb429c-3790-482b-a41a-4d9f1fec7f21"
      },
      "source": [
        "# X_train_std\n",
        "#Create the SVM model\n",
        "from sklearn.svm import SVC\n",
        "classifier = SVC(kernel = 'linear', random_state = 0)\n",
        "#Fit the model for the data\n",
        "classifier.fit(X_train_std, y_train)"
      ],
      "execution_count": 435,
      "outputs": [
        {
          "output_type": "execute_result",
          "data": {
            "text/plain": [
              "SVC(C=1.0, break_ties=False, cache_size=200, class_weight=None, coef0=0.0,\n",
              "    decision_function_shape='ovr', degree=3, gamma='scale', kernel='linear',\n",
              "    max_iter=-1, probability=False, random_state=0, shrinking=True, tol=0.001,\n",
              "    verbose=False)"
            ]
          },
          "metadata": {},
          "execution_count": 435
        }
      ]
    },
    {
      "cell_type": "code",
      "metadata": {
        "id": "Fbp5xESr4Mpe"
      },
      "source": [
        "#Make the prediction\n",
        "y_pred = classifier.predict(X_test_std)"
      ],
      "execution_count": 436,
      "outputs": []
    },
    {
      "cell_type": "code",
      "metadata": {
        "colab": {
          "base_uri": "https://localhost:8080/"
        },
        "id": "EnI55A16vo4r",
        "outputId": "c40e51ae-4b2c-4ed8-ea50-adcadf0f444f"
      },
      "source": [
        "from sklearn.metrics import confusion_matrix\n",
        "cm = confusion_matrix(y_test, y_pred)\n",
        "print(cm)\n"
      ],
      "execution_count": 437,
      "outputs": [
        {
          "output_type": "stream",
          "name": "stdout",
          "text": [
            "[[11  0  0]\n",
            " [ 0 13  0]\n",
            " [ 0  0  6]]\n"
          ]
        }
      ]
    },
    {
      "cell_type": "code",
      "metadata": {
        "colab": {
          "base_uri": "https://localhost:8080/"
        },
        "id": "IAuut3k6v8v1",
        "outputId": "5360d9ce-e733-46ba-921a-fd5569f31edf"
      },
      "source": [
        "\n",
        "from sklearn.model_selection import cross_val_score\n",
        "accuracies = cross_val_score(estimator = classifier, X = X_test, y = y_test, cv = 10)\n",
        "print(\"Accuracy: {:.2f} %\".format(accuracies.mean()*100))\n",
        "print(\"Standard Deviation: {:.2f} %\".format(accuracies.std()*100))"
      ],
      "execution_count": 438,
      "outputs": [
        {
          "output_type": "stream",
          "name": "stdout",
          "text": [
            "Accuracy: 96.67 %\n",
            "Standard Deviation: 10.00 %\n"
          ]
        },
        {
          "output_type": "stream",
          "name": "stderr",
          "text": [
            "/usr/local/lib/python3.7/dist-packages/sklearn/model_selection/_split.py:667: UserWarning: The least populated class in y has only 6 members, which is less than n_splits=10.\n",
            "  % (min_groups, self.n_splits)), UserWarning)\n"
          ]
        }
      ]
    },
    {
      "cell_type": "markdown",
      "metadata": {
        "id": "fjthiMXaQyfs"
      },
      "source": [
        "# Compute Error using RMSE"
      ]
    },
    {
      "cell_type": "code",
      "metadata": {
        "id": "c83zC3ARwLij"
      },
      "source": [
        "import math\n",
        "\n",
        "MSE = np.square(np.subtract(y_test,y_pred)).mean()"
      ],
      "execution_count": 439,
      "outputs": []
    },
    {
      "cell_type": "code",
      "metadata": {
        "colab": {
          "base_uri": "https://localhost:8080/"
        },
        "id": "WqkaXmGqwXPd",
        "outputId": "5db27916-3acc-4027-d5e9-cc895eefaab9"
      },
      "source": [
        "RMSE = math.sqrt(MSE)\n",
        "print(\"Root Mean Square Error:\\n\")\n",
        "print(RMSE)"
      ],
      "execution_count": 440,
      "outputs": [
        {
          "output_type": "stream",
          "name": "stdout",
          "text": [
            "Root Mean Square Error:\n",
            "\n",
            "0.0\n"
          ]
        }
      ]
    },
    {
      "cell_type": "code",
      "metadata": {
        "colab": {
          "base_uri": "https://localhost:8080/"
        },
        "id": "Yw2u_HkPwhgt",
        "outputId": "256608fb-2b31-4d88-eb0f-dab6d1087776"
      },
      "source": [
        "from sklearn.metrics import mean_squared_error\n",
        "mean_squared_error(y_test, y_pred,squared = False)"
      ],
      "execution_count": 442,
      "outputs": [
        {
          "output_type": "execute_result",
          "data": {
            "text/plain": [
              "0.0"
            ]
          },
          "metadata": {},
          "execution_count": 442
        }
      ]
    },
    {
      "cell_type": "markdown",
      "metadata": {
        "id": "3YIzgyauQ35R"
      },
      "source": [
        "# Compute with RBF kernel functions"
      ]
    },
    {
      "cell_type": "code",
      "metadata": {
        "colab": {
          "base_uri": "https://localhost:8080/"
        },
        "id": "B7ZWzXGvwkel",
        "outputId": "b4b0e4ae-52aa-48ce-f0ca-7eb53cea78f6"
      },
      "source": [
        "# SVM modelwith RBF\n",
        "from sklearn.svm import SVC\n",
        "classifier = SVC(kernel = 'rbf', random_state = 0)\n",
        "#Fit the model for the data\n",
        "\n",
        "classifier.fit(X_train_std, y_train)\n",
        "\n"
      ],
      "execution_count": 443,
      "outputs": [
        {
          "output_type": "execute_result",
          "data": {
            "text/plain": [
              "SVC(C=1.0, break_ties=False, cache_size=200, class_weight=None, coef0=0.0,\n",
              "    decision_function_shape='ovr', degree=3, gamma='scale', kernel='rbf',\n",
              "    max_iter=-1, probability=False, random_state=0, shrinking=True, tol=0.001,\n",
              "    verbose=False)"
            ]
          },
          "metadata": {},
          "execution_count": 443
        }
      ]
    },
    {
      "cell_type": "code",
      "metadata": {
        "id": "OwsLbewt5czM"
      },
      "source": [
        "#Make the prediction\n",
        "y_pred = classifier.predict(X_test_std)"
      ],
      "execution_count": 444,
      "outputs": []
    },
    {
      "cell_type": "code",
      "metadata": {
        "colab": {
          "base_uri": "https://localhost:8080/"
        },
        "id": "lwiPSOcGwnCD",
        "outputId": "5fecd17a-7710-4005-9774-f94bb312a1fc"
      },
      "source": [
        "from sklearn.metrics import confusion_matrix\n",
        "cm = confusion_matrix(y_test, y_pred)\n",
        "print(cm)\n"
      ],
      "execution_count": 445,
      "outputs": [
        {
          "output_type": "stream",
          "name": "stdout",
          "text": [
            "[[11  0  0]\n",
            " [ 0 13  0]\n",
            " [ 0  0  6]]\n"
          ]
        }
      ]
    },
    {
      "cell_type": "code",
      "metadata": {
        "colab": {
          "base_uri": "https://localhost:8080/"
        },
        "id": "E0i_Vnit5uSs",
        "outputId": "5c770075-10cc-4d1e-8194-7b6b3426c64b"
      },
      "source": [
        "\n",
        "from sklearn.model_selection import cross_val_score\n",
        "accuracies = cross_val_score(estimator = classifier, X = X_test_std, y = y_test, cv = 10)\n",
        "print(\"Accuracy: {:.2f} %\".format(accuracies.mean()*100))\n",
        "print(\"Standard Deviation: {:.2f} %\".format(accuracies.std()*100))"
      ],
      "execution_count": 446,
      "outputs": [
        {
          "output_type": "stream",
          "name": "stdout",
          "text": [
            "Accuracy: 90.00 %\n",
            "Standard Deviation: 15.28 %\n"
          ]
        },
        {
          "output_type": "stream",
          "name": "stderr",
          "text": [
            "/usr/local/lib/python3.7/dist-packages/sklearn/model_selection/_split.py:667: UserWarning: The least populated class in y has only 6 members, which is less than n_splits=10.\n",
            "  % (min_groups, self.n_splits)), UserWarning)\n"
          ]
        }
      ]
    },
    {
      "cell_type": "code",
      "metadata": {
        "colab": {
          "base_uri": "https://localhost:8080/"
        },
        "id": "Mg5DQ2O8xJov",
        "outputId": "b737c0e3-4c17-430c-be89-00a6895b0136"
      },
      "source": [
        "from sklearn.metrics import classification_report, confusion_matrix\n",
        "print(confusion_matrix(y_test, y_pred))\n",
        "print(classification_report(y_test, y_pred))"
      ],
      "execution_count": 447,
      "outputs": [
        {
          "output_type": "stream",
          "name": "stdout",
          "text": [
            "[[11  0  0]\n",
            " [ 0 13  0]\n",
            " [ 0  0  6]]\n",
            "              precision    recall  f1-score   support\n",
            "\n",
            "         0.0       1.00      1.00      1.00        11\n",
            "         1.0       1.00      1.00      1.00        13\n",
            "         2.0       1.00      1.00      1.00         6\n",
            "\n",
            "    accuracy                           1.00        30\n",
            "   macro avg       1.00      1.00      1.00        30\n",
            "weighted avg       1.00      1.00      1.00        30\n",
            "\n"
          ]
        }
      ]
    },
    {
      "cell_type": "markdown",
      "metadata": {
        "id": "kZDSoBUIOEo7"
      },
      "source": [
        "# Tune SVM hyperparameters by using GridSearchCV with cross validation. "
      ]
    },
    {
      "cell_type": "code",
      "metadata": {
        "id": "e9Zum5npOIsB"
      },
      "source": [
        "from sklearn.model_selection import GridSearchCV"
      ],
      "execution_count": 448,
      "outputs": []
    },
    {
      "cell_type": "code",
      "metadata": {
        "id": "o7wQokvxOMq4"
      },
      "source": [
        "param_grid = {'C': [0.1,1, 10, 100], 'gamma': [1,0.1,0.01,0.001],'kernel': ['rbf', 'poly', 'sigmoid']}"
      ],
      "execution_count": 449,
      "outputs": []
    },
    {
      "cell_type": "code",
      "metadata": {
        "colab": {
          "base_uri": "https://localhost:8080/"
        },
        "id": "MeMqA3KUON7X",
        "outputId": "7d1bff0b-536d-421e-d7ab-38b07fdba613"
      },
      "source": [
        "grid = GridSearchCV(SVC(),param_grid,refit=True,verbose=2)\n",
        "grid.fit(X_train_std,y_train)"
      ],
      "execution_count": 450,
      "outputs": [
        {
          "output_type": "stream",
          "name": "stdout",
          "text": [
            "Fitting 5 folds for each of 48 candidates, totalling 240 fits\n",
            "[CV] C=0.1, gamma=1, kernel=rbf ......................................\n",
            "[CV] ....................... C=0.1, gamma=1, kernel=rbf, total=   0.0s\n",
            "[CV] C=0.1, gamma=1, kernel=rbf ......................................\n",
            "[CV] ....................... C=0.1, gamma=1, kernel=rbf, total=   0.0s\n",
            "[CV] C=0.1, gamma=1, kernel=rbf ......................................\n",
            "[CV] ....................... C=0.1, gamma=1, kernel=rbf, total=   0.0s\n",
            "[CV] C=0.1, gamma=1, kernel=rbf ......................................\n",
            "[CV] ....................... C=0.1, gamma=1, kernel=rbf, total=   0.0s\n",
            "[CV] C=0.1, gamma=1, kernel=rbf ......................................\n",
            "[CV] ....................... C=0.1, gamma=1, kernel=rbf, total=   0.0s\n",
            "[CV] C=0.1, gamma=1, kernel=poly .....................................\n",
            "[CV] ...................... C=0.1, gamma=1, kernel=poly, total=   0.0s\n",
            "[CV] C=0.1, gamma=1, kernel=poly .....................................\n",
            "[CV] ...................... C=0.1, gamma=1, kernel=poly, total=   0.0s\n",
            "[CV] C=0.1, gamma=1, kernel=poly .....................................\n",
            "[CV] ...................... C=0.1, gamma=1, kernel=poly, total=   0.0s\n",
            "[CV] C=0.1, gamma=1, kernel=poly .....................................\n",
            "[CV] ...................... C=0.1, gamma=1, kernel=poly, total=   0.0s\n",
            "[CV] C=0.1, gamma=1, kernel=poly .....................................\n",
            "[CV] ...................... C=0.1, gamma=1, kernel=poly, total=   0.0s\n",
            "[CV] C=0.1, gamma=1, kernel=sigmoid ..................................\n",
            "[CV] ................... C=0.1, gamma=1, kernel=sigmoid, total=   0.0s\n",
            "[CV] C=0.1, gamma=1, kernel=sigmoid ..................................\n",
            "[CV] ................... C=0.1, gamma=1, kernel=sigmoid, total=   0.0s\n",
            "[CV] C=0.1, gamma=1, kernel=sigmoid ..................................\n",
            "[CV] ................... C=0.1, gamma=1, kernel=sigmoid, total=   0.0s\n",
            "[CV] C=0.1, gamma=1, kernel=sigmoid ..................................\n",
            "[CV] ................... C=0.1, gamma=1, kernel=sigmoid, total=   0.0s\n",
            "[CV] C=0.1, gamma=1, kernel=sigmoid ..................................\n",
            "[CV] ................... C=0.1, gamma=1, kernel=sigmoid, total=   0.0s\n",
            "[CV] C=0.1, gamma=0.1, kernel=rbf ....................................\n",
            "[CV] ..................... C=0.1, gamma=0.1, kernel=rbf, total=   0.0s\n",
            "[CV] C=0.1, gamma=0.1, kernel=rbf ....................................\n",
            "[CV] ..................... C=0.1, gamma=0.1, kernel=rbf, total=   0.0s\n",
            "[CV] C=0.1, gamma=0.1, kernel=rbf ....................................\n",
            "[CV] ..................... C=0.1, gamma=0.1, kernel=rbf, total=   0.0s\n",
            "[CV] C=0.1, gamma=0.1, kernel=rbf ....................................\n",
            "[CV] ..................... C=0.1, gamma=0.1, kernel=rbf, total=   0.0s\n",
            "[CV] C=0.1, gamma=0.1, kernel=rbf ....................................\n",
            "[CV] ..................... C=0.1, gamma=0.1, kernel=rbf, total=   0.0s\n",
            "[CV] C=0.1, gamma=0.1, kernel=poly ...................................\n",
            "[CV] .................... C=0.1, gamma=0.1, kernel=poly, total=   0.0s\n",
            "[CV] C=0.1, gamma=0.1, kernel=poly ...................................\n",
            "[CV] .................... C=0.1, gamma=0.1, kernel=poly, total=   0.0s\n",
            "[CV] C=0.1, gamma=0.1, kernel=poly ...................................\n",
            "[CV] .................... C=0.1, gamma=0.1, kernel=poly, total=   0.0s\n",
            "[CV] C=0.1, gamma=0.1, kernel=poly ...................................\n",
            "[CV] .................... C=0.1, gamma=0.1, kernel=poly, total=   0.0s\n",
            "[CV] C=0.1, gamma=0.1, kernel=poly ...................................\n",
            "[CV] .................... C=0.1, gamma=0.1, kernel=poly, total=   0.0s\n",
            "[CV] C=0.1, gamma=0.1, kernel=sigmoid ................................\n",
            "[CV] ................. C=0.1, gamma=0.1, kernel=sigmoid, total=   0.0s\n",
            "[CV] C=0.1, gamma=0.1, kernel=sigmoid ................................\n",
            "[CV] ................. C=0.1, gamma=0.1, kernel=sigmoid, total=   0.0s\n",
            "[CV] C=0.1, gamma=0.1, kernel=sigmoid ................................\n",
            "[CV] ................. C=0.1, gamma=0.1, kernel=sigmoid, total=   0.0s\n",
            "[CV] C=0.1, gamma=0.1, kernel=sigmoid ................................\n",
            "[CV] ................. C=0.1, gamma=0.1, kernel=sigmoid, total=   0.0s\n",
            "[CV] C=0.1, gamma=0.1, kernel=sigmoid ................................\n",
            "[CV] ................. C=0.1, gamma=0.1, kernel=sigmoid, total=   0.0s\n",
            "[CV] C=0.1, gamma=0.01, kernel=rbf ...................................\n",
            "[CV] .................... C=0.1, gamma=0.01, kernel=rbf, total=   0.0s\n",
            "[CV] C=0.1, gamma=0.01, kernel=rbf ...................................\n",
            "[CV] .................... C=0.1, gamma=0.01, kernel=rbf, total=   0.0s\n",
            "[CV] C=0.1, gamma=0.01, kernel=rbf ...................................\n",
            "[CV] .................... C=0.1, gamma=0.01, kernel=rbf, total=   0.0s\n",
            "[CV] C=0.1, gamma=0.01, kernel=rbf ...................................\n",
            "[CV] .................... C=0.1, gamma=0.01, kernel=rbf, total=   0.0s\n",
            "[CV] C=0.1, gamma=0.01, kernel=rbf ...................................\n",
            "[CV] .................... C=0.1, gamma=0.01, kernel=rbf, total=   0.0s\n",
            "[CV] C=0.1, gamma=0.01, kernel=poly ..................................\n",
            "[CV] ................... C=0.1, gamma=0.01, kernel=poly, total=   0.0s\n",
            "[CV] C=0.1, gamma=0.01, kernel=poly ..................................\n",
            "[CV] ................... C=0.1, gamma=0.01, kernel=poly, total=   0.0s\n",
            "[CV] C=0.1, gamma=0.01, kernel=poly ..................................\n",
            "[CV] ................... C=0.1, gamma=0.01, kernel=poly, total=   0.0s\n",
            "[CV] C=0.1, gamma=0.01, kernel=poly ..................................\n",
            "[CV] ................... C=0.1, gamma=0.01, kernel=poly, total=   0.0s\n",
            "[CV] C=0.1, gamma=0.01, kernel=poly ..................................\n",
            "[CV] ................... C=0.1, gamma=0.01, kernel=poly, total=   0.0s\n",
            "[CV] C=0.1, gamma=0.01, kernel=sigmoid ...............................\n",
            "[CV] ................ C=0.1, gamma=0.01, kernel=sigmoid, total=   0.0s\n",
            "[CV] C=0.1, gamma=0.01, kernel=sigmoid ...............................\n",
            "[CV] ................ C=0.1, gamma=0.01, kernel=sigmoid, total=   0.0s\n",
            "[CV] C=0.1, gamma=0.01, kernel=sigmoid ...............................\n",
            "[CV] ................ C=0.1, gamma=0.01, kernel=sigmoid, total=   0.0s\n",
            "[CV] C=0.1, gamma=0.01, kernel=sigmoid ...............................\n",
            "[CV] ................ C=0.1, gamma=0.01, kernel=sigmoid, total=   0.0s\n",
            "[CV] C=0.1, gamma=0.01, kernel=sigmoid ...............................\n",
            "[CV] ................ C=0.1, gamma=0.01, kernel=sigmoid, total=   0.0s\n",
            "[CV] C=0.1, gamma=0.001, kernel=rbf ..................................\n",
            "[CV] ................... C=0.1, gamma=0.001, kernel=rbf, total=   0.0s\n",
            "[CV] C=0.1, gamma=0.001, kernel=rbf ..................................\n",
            "[CV] ................... C=0.1, gamma=0.001, kernel=rbf, total=   0.0s\n",
            "[CV] C=0.1, gamma=0.001, kernel=rbf ..................................\n",
            "[CV] ................... C=0.1, gamma=0.001, kernel=rbf, total=   0.0s\n",
            "[CV] C=0.1, gamma=0.001, kernel=rbf ..................................\n",
            "[CV] ................... C=0.1, gamma=0.001, kernel=rbf, total=   0.0s\n",
            "[CV] C=0.1, gamma=0.001, kernel=rbf ..................................\n",
            "[CV] ................... C=0.1, gamma=0.001, kernel=rbf, total=   0.0s\n",
            "[CV] C=0.1, gamma=0.001, kernel=poly .................................\n",
            "[CV] .................. C=0.1, gamma=0.001, kernel=poly, total=   0.0s\n",
            "[CV] C=0.1, gamma=0.001, kernel=poly .................................\n",
            "[CV] .................. C=0.1, gamma=0.001, kernel=poly, total=   0.0s\n",
            "[CV] C=0.1, gamma=0.001, kernel=poly .................................\n",
            "[CV] .................. C=0.1, gamma=0.001, kernel=poly, total=   0.0s\n",
            "[CV] C=0.1, gamma=0.001, kernel=poly .................................\n",
            "[CV] .................. C=0.1, gamma=0.001, kernel=poly, total=   0.0s\n",
            "[CV] C=0.1, gamma=0.001, kernel=poly .................................\n",
            "[CV] .................. C=0.1, gamma=0.001, kernel=poly, total=   0.0s\n",
            "[CV] C=0.1, gamma=0.001, kernel=sigmoid ..............................\n",
            "[CV] ............... C=0.1, gamma=0.001, kernel=sigmoid, total=   0.0s\n",
            "[CV] C=0.1, gamma=0.001, kernel=sigmoid ..............................\n",
            "[CV] ............... C=0.1, gamma=0.001, kernel=sigmoid, total=   0.0s\n",
            "[CV] C=0.1, gamma=0.001, kernel=sigmoid ..............................\n",
            "[CV] ............... C=0.1, gamma=0.001, kernel=sigmoid, total=   0.0s\n",
            "[CV] C=0.1, gamma=0.001, kernel=sigmoid ..............................\n",
            "[CV] ............... C=0.1, gamma=0.001, kernel=sigmoid, total=   0.0s\n",
            "[CV] C=0.1, gamma=0.001, kernel=sigmoid ..............................\n",
            "[CV] ............... C=0.1, gamma=0.001, kernel=sigmoid, total=   0.0s\n",
            "[CV] C=1, gamma=1, kernel=rbf ........................................\n",
            "[CV] ......................... C=1, gamma=1, kernel=rbf, total=   0.0s\n",
            "[CV] C=1, gamma=1, kernel=rbf ........................................\n",
            "[CV] ......................... C=1, gamma=1, kernel=rbf, total=   0.0s\n",
            "[CV] C=1, gamma=1, kernel=rbf ........................................\n",
            "[CV] ......................... C=1, gamma=1, kernel=rbf, total=   0.0s\n",
            "[CV] C=1, gamma=1, kernel=rbf ........................................\n"
          ]
        },
        {
          "output_type": "stream",
          "name": "stderr",
          "text": [
            "[Parallel(n_jobs=1)]: Using backend SequentialBackend with 1 concurrent workers.\n",
            "[Parallel(n_jobs=1)]: Done   1 out of   1 | elapsed:    0.0s remaining:    0.0s\n"
          ]
        },
        {
          "output_type": "stream",
          "name": "stdout",
          "text": [
            "[CV] ......................... C=1, gamma=1, kernel=rbf, total=   0.0s\n",
            "[CV] C=1, gamma=1, kernel=rbf ........................................\n",
            "[CV] ......................... C=1, gamma=1, kernel=rbf, total=   0.0s\n",
            "[CV] C=1, gamma=1, kernel=poly .......................................\n",
            "[CV] ........................ C=1, gamma=1, kernel=poly, total=   0.0s\n",
            "[CV] C=1, gamma=1, kernel=poly .......................................\n",
            "[CV] ........................ C=1, gamma=1, kernel=poly, total=   0.0s\n",
            "[CV] C=1, gamma=1, kernel=poly .......................................\n",
            "[CV] ........................ C=1, gamma=1, kernel=poly, total=   0.0s\n",
            "[CV] C=1, gamma=1, kernel=poly .......................................\n",
            "[CV] ........................ C=1, gamma=1, kernel=poly, total=   0.0s\n",
            "[CV] C=1, gamma=1, kernel=poly .......................................\n",
            "[CV] ........................ C=1, gamma=1, kernel=poly, total=   0.0s\n",
            "[CV] C=1, gamma=1, kernel=sigmoid ....................................\n",
            "[CV] ..................... C=1, gamma=1, kernel=sigmoid, total=   0.0s\n",
            "[CV] C=1, gamma=1, kernel=sigmoid ....................................\n",
            "[CV] ..................... C=1, gamma=1, kernel=sigmoid, total=   0.0s\n",
            "[CV] C=1, gamma=1, kernel=sigmoid ....................................\n",
            "[CV] ..................... C=1, gamma=1, kernel=sigmoid, total=   0.0s\n",
            "[CV] C=1, gamma=1, kernel=sigmoid ....................................\n",
            "[CV] ..................... C=1, gamma=1, kernel=sigmoid, total=   0.0s\n",
            "[CV] C=1, gamma=1, kernel=sigmoid ....................................\n",
            "[CV] ..................... C=1, gamma=1, kernel=sigmoid, total=   0.0s\n",
            "[CV] C=1, gamma=0.1, kernel=rbf ......................................\n",
            "[CV] ....................... C=1, gamma=0.1, kernel=rbf, total=   0.0s\n",
            "[CV] C=1, gamma=0.1, kernel=rbf ......................................\n",
            "[CV] ....................... C=1, gamma=0.1, kernel=rbf, total=   0.0s\n",
            "[CV] C=1, gamma=0.1, kernel=rbf ......................................\n",
            "[CV] ....................... C=1, gamma=0.1, kernel=rbf, total=   0.0s\n",
            "[CV] C=1, gamma=0.1, kernel=rbf ......................................\n",
            "[CV] ....................... C=1, gamma=0.1, kernel=rbf, total=   0.0s\n",
            "[CV] C=1, gamma=0.1, kernel=rbf ......................................\n",
            "[CV] ....................... C=1, gamma=0.1, kernel=rbf, total=   0.0s\n",
            "[CV] C=1, gamma=0.1, kernel=poly .....................................\n",
            "[CV] ...................... C=1, gamma=0.1, kernel=poly, total=   0.0s\n",
            "[CV] C=1, gamma=0.1, kernel=poly .....................................\n",
            "[CV] ...................... C=1, gamma=0.1, kernel=poly, total=   0.0s\n",
            "[CV] C=1, gamma=0.1, kernel=poly .....................................\n",
            "[CV] ...................... C=1, gamma=0.1, kernel=poly, total=   0.0s\n",
            "[CV] C=1, gamma=0.1, kernel=poly .....................................\n",
            "[CV] ...................... C=1, gamma=0.1, kernel=poly, total=   0.0s\n",
            "[CV] C=1, gamma=0.1, kernel=poly .....................................\n",
            "[CV] ...................... C=1, gamma=0.1, kernel=poly, total=   0.0s\n",
            "[CV] C=1, gamma=0.1, kernel=sigmoid ..................................\n",
            "[CV] ................... C=1, gamma=0.1, kernel=sigmoid, total=   0.0s\n",
            "[CV] C=1, gamma=0.1, kernel=sigmoid ..................................\n",
            "[CV] ................... C=1, gamma=0.1, kernel=sigmoid, total=   0.0s\n",
            "[CV] C=1, gamma=0.1, kernel=sigmoid ..................................\n",
            "[CV] ................... C=1, gamma=0.1, kernel=sigmoid, total=   0.0s\n",
            "[CV] C=1, gamma=0.1, kernel=sigmoid ..................................\n",
            "[CV] ................... C=1, gamma=0.1, kernel=sigmoid, total=   0.0s\n",
            "[CV] C=1, gamma=0.1, kernel=sigmoid ..................................\n",
            "[CV] ................... C=1, gamma=0.1, kernel=sigmoid, total=   0.0s\n",
            "[CV] C=1, gamma=0.01, kernel=rbf .....................................\n",
            "[CV] ...................... C=1, gamma=0.01, kernel=rbf, total=   0.0s\n",
            "[CV] C=1, gamma=0.01, kernel=rbf .....................................\n",
            "[CV] ...................... C=1, gamma=0.01, kernel=rbf, total=   0.0s\n",
            "[CV] C=1, gamma=0.01, kernel=rbf .....................................\n",
            "[CV] ...................... C=1, gamma=0.01, kernel=rbf, total=   0.0s\n",
            "[CV] C=1, gamma=0.01, kernel=rbf .....................................\n",
            "[CV] ...................... C=1, gamma=0.01, kernel=rbf, total=   0.0s\n",
            "[CV] C=1, gamma=0.01, kernel=rbf .....................................\n",
            "[CV] ...................... C=1, gamma=0.01, kernel=rbf, total=   0.0s\n",
            "[CV] C=1, gamma=0.01, kernel=poly ....................................\n",
            "[CV] ..................... C=1, gamma=0.01, kernel=poly, total=   0.0s\n",
            "[CV] C=1, gamma=0.01, kernel=poly ....................................\n",
            "[CV] ..................... C=1, gamma=0.01, kernel=poly, total=   0.0s\n",
            "[CV] C=1, gamma=0.01, kernel=poly ....................................\n",
            "[CV] ..................... C=1, gamma=0.01, kernel=poly, total=   0.0s\n",
            "[CV] C=1, gamma=0.01, kernel=poly ....................................\n",
            "[CV] ..................... C=1, gamma=0.01, kernel=poly, total=   0.0s\n",
            "[CV] C=1, gamma=0.01, kernel=poly ....................................\n",
            "[CV] ..................... C=1, gamma=0.01, kernel=poly, total=   0.0s\n",
            "[CV] C=1, gamma=0.01, kernel=sigmoid .................................\n",
            "[CV] .................. C=1, gamma=0.01, kernel=sigmoid, total=   0.0s\n",
            "[CV] C=1, gamma=0.01, kernel=sigmoid .................................\n",
            "[CV] .................. C=1, gamma=0.01, kernel=sigmoid, total=   0.0s\n",
            "[CV] C=1, gamma=0.01, kernel=sigmoid .................................\n",
            "[CV] .................. C=1, gamma=0.01, kernel=sigmoid, total=   0.0s\n",
            "[CV] C=1, gamma=0.01, kernel=sigmoid .................................\n",
            "[CV] .................. C=1, gamma=0.01, kernel=sigmoid, total=   0.0s\n",
            "[CV] C=1, gamma=0.01, kernel=sigmoid .................................\n",
            "[CV] .................. C=1, gamma=0.01, kernel=sigmoid, total=   0.0s\n",
            "[CV] C=1, gamma=0.001, kernel=rbf ....................................\n",
            "[CV] ..................... C=1, gamma=0.001, kernel=rbf, total=   0.0s\n",
            "[CV] C=1, gamma=0.001, kernel=rbf ....................................\n",
            "[CV] ..................... C=1, gamma=0.001, kernel=rbf, total=   0.0s\n",
            "[CV] C=1, gamma=0.001, kernel=rbf ....................................\n",
            "[CV] ..................... C=1, gamma=0.001, kernel=rbf, total=   0.0s\n",
            "[CV] C=1, gamma=0.001, kernel=rbf ....................................\n",
            "[CV] ..................... C=1, gamma=0.001, kernel=rbf, total=   0.0s\n",
            "[CV] C=1, gamma=0.001, kernel=rbf ....................................\n",
            "[CV] ..................... C=1, gamma=0.001, kernel=rbf, total=   0.0s\n",
            "[CV] C=1, gamma=0.001, kernel=poly ...................................\n",
            "[CV] .................... C=1, gamma=0.001, kernel=poly, total=   0.0s\n",
            "[CV] C=1, gamma=0.001, kernel=poly ...................................\n",
            "[CV] .................... C=1, gamma=0.001, kernel=poly, total=   0.0s\n",
            "[CV] C=1, gamma=0.001, kernel=poly ...................................\n",
            "[CV] .................... C=1, gamma=0.001, kernel=poly, total=   0.0s\n",
            "[CV] C=1, gamma=0.001, kernel=poly ...................................\n",
            "[CV] .................... C=1, gamma=0.001, kernel=poly, total=   0.0s\n",
            "[CV] C=1, gamma=0.001, kernel=poly ...................................\n",
            "[CV] .................... C=1, gamma=0.001, kernel=poly, total=   0.0s\n",
            "[CV] C=1, gamma=0.001, kernel=sigmoid ................................\n",
            "[CV] ................. C=1, gamma=0.001, kernel=sigmoid, total=   0.0s\n",
            "[CV] C=1, gamma=0.001, kernel=sigmoid ................................\n",
            "[CV] ................. C=1, gamma=0.001, kernel=sigmoid, total=   0.0s\n",
            "[CV] C=1, gamma=0.001, kernel=sigmoid ................................\n",
            "[CV] ................. C=1, gamma=0.001, kernel=sigmoid, total=   0.0s\n",
            "[CV] C=1, gamma=0.001, kernel=sigmoid ................................\n",
            "[CV] ................. C=1, gamma=0.001, kernel=sigmoid, total=   0.0s\n",
            "[CV] C=1, gamma=0.001, kernel=sigmoid ................................\n",
            "[CV] ................. C=1, gamma=0.001, kernel=sigmoid, total=   0.0s\n",
            "[CV] C=10, gamma=1, kernel=rbf .......................................\n",
            "[CV] ........................ C=10, gamma=1, kernel=rbf, total=   0.0s\n",
            "[CV] C=10, gamma=1, kernel=rbf .......................................\n",
            "[CV] ........................ C=10, gamma=1, kernel=rbf, total=   0.0s\n",
            "[CV] C=10, gamma=1, kernel=rbf .......................................\n",
            "[CV] ........................ C=10, gamma=1, kernel=rbf, total=   0.0s\n",
            "[CV] C=10, gamma=1, kernel=rbf .......................................\n",
            "[CV] ........................ C=10, gamma=1, kernel=rbf, total=   0.0s\n",
            "[CV] C=10, gamma=1, kernel=rbf .......................................\n",
            "[CV] ........................ C=10, gamma=1, kernel=rbf, total=   0.0s\n",
            "[CV] C=10, gamma=1, kernel=poly ......................................\n",
            "[CV] ....................... C=10, gamma=1, kernel=poly, total=   0.0s\n",
            "[CV] C=10, gamma=1, kernel=poly ......................................\n",
            "[CV] ....................... C=10, gamma=1, kernel=poly, total=   0.0s\n",
            "[CV] C=10, gamma=1, kernel=poly ......................................\n",
            "[CV] ....................... C=10, gamma=1, kernel=poly, total=   0.0s\n",
            "[CV] C=10, gamma=1, kernel=poly ......................................\n",
            "[CV] ....................... C=10, gamma=1, kernel=poly, total=   0.0s\n",
            "[CV] C=10, gamma=1, kernel=poly ......................................\n",
            "[CV] ....................... C=10, gamma=1, kernel=poly, total=   0.0s\n",
            "[CV] C=10, gamma=1, kernel=sigmoid ...................................\n",
            "[CV] .................... C=10, gamma=1, kernel=sigmoid, total=   0.0s\n",
            "[CV] C=10, gamma=1, kernel=sigmoid ...................................\n",
            "[CV] .................... C=10, gamma=1, kernel=sigmoid, total=   0.0s\n",
            "[CV] C=10, gamma=1, kernel=sigmoid ...................................\n",
            "[CV] .................... C=10, gamma=1, kernel=sigmoid, total=   0.0s\n",
            "[CV] C=10, gamma=1, kernel=sigmoid ...................................\n",
            "[CV] .................... C=10, gamma=1, kernel=sigmoid, total=   0.0s\n",
            "[CV] C=10, gamma=1, kernel=sigmoid ...................................\n",
            "[CV] .................... C=10, gamma=1, kernel=sigmoid, total=   0.0s\n",
            "[CV] C=10, gamma=0.1, kernel=rbf .....................................\n",
            "[CV] ...................... C=10, gamma=0.1, kernel=rbf, total=   0.0s\n",
            "[CV] C=10, gamma=0.1, kernel=rbf .....................................\n",
            "[CV] ...................... C=10, gamma=0.1, kernel=rbf, total=   0.0s\n",
            "[CV] C=10, gamma=0.1, kernel=rbf .....................................\n",
            "[CV] ...................... C=10, gamma=0.1, kernel=rbf, total=   0.0s\n",
            "[CV] C=10, gamma=0.1, kernel=rbf .....................................\n",
            "[CV] ...................... C=10, gamma=0.1, kernel=rbf, total=   0.0s\n",
            "[CV] C=10, gamma=0.1, kernel=rbf .....................................\n",
            "[CV] ...................... C=10, gamma=0.1, kernel=rbf, total=   0.0s\n",
            "[CV] C=10, gamma=0.1, kernel=poly ....................................\n",
            "[CV] ..................... C=10, gamma=0.1, kernel=poly, total=   0.0s\n",
            "[CV] C=10, gamma=0.1, kernel=poly ....................................\n",
            "[CV] ..................... C=10, gamma=0.1, kernel=poly, total=   0.0s\n",
            "[CV] C=10, gamma=0.1, kernel=poly ....................................\n",
            "[CV] ..................... C=10, gamma=0.1, kernel=poly, total=   0.0s\n",
            "[CV] C=10, gamma=0.1, kernel=poly ....................................\n",
            "[CV] ..................... C=10, gamma=0.1, kernel=poly, total=   0.0s\n",
            "[CV] C=10, gamma=0.1, kernel=poly ....................................\n",
            "[CV] ..................... C=10, gamma=0.1, kernel=poly, total=   0.0s\n",
            "[CV] C=10, gamma=0.1, kernel=sigmoid .................................\n",
            "[CV] .................. C=10, gamma=0.1, kernel=sigmoid, total=   0.0s\n",
            "[CV] C=10, gamma=0.1, kernel=sigmoid .................................\n",
            "[CV] .................. C=10, gamma=0.1, kernel=sigmoid, total=   0.0s\n",
            "[CV] C=10, gamma=0.1, kernel=sigmoid .................................\n",
            "[CV] .................. C=10, gamma=0.1, kernel=sigmoid, total=   0.0s\n",
            "[CV] C=10, gamma=0.1, kernel=sigmoid .................................\n",
            "[CV] .................. C=10, gamma=0.1, kernel=sigmoid, total=   0.0s\n",
            "[CV] C=10, gamma=0.1, kernel=sigmoid .................................\n",
            "[CV] .................. C=10, gamma=0.1, kernel=sigmoid, total=   0.0s\n",
            "[CV] C=10, gamma=0.01, kernel=rbf ....................................\n",
            "[CV] ..................... C=10, gamma=0.01, kernel=rbf, total=   0.0s\n",
            "[CV] C=10, gamma=0.01, kernel=rbf ....................................\n",
            "[CV] ..................... C=10, gamma=0.01, kernel=rbf, total=   0.0s\n",
            "[CV] C=10, gamma=0.01, kernel=rbf ....................................\n",
            "[CV] ..................... C=10, gamma=0.01, kernel=rbf, total=   0.0s\n",
            "[CV] C=10, gamma=0.01, kernel=rbf ....................................\n",
            "[CV] ..................... C=10, gamma=0.01, kernel=rbf, total=   0.0s\n",
            "[CV] C=10, gamma=0.01, kernel=rbf ....................................\n",
            "[CV] ..................... C=10, gamma=0.01, kernel=rbf, total=   0.0s\n",
            "[CV] C=10, gamma=0.01, kernel=poly ...................................\n",
            "[CV] .................... C=10, gamma=0.01, kernel=poly, total=   0.0s\n",
            "[CV] C=10, gamma=0.01, kernel=poly ...................................\n",
            "[CV] .................... C=10, gamma=0.01, kernel=poly, total=   0.0s\n",
            "[CV] C=10, gamma=0.01, kernel=poly ...................................\n",
            "[CV] .................... C=10, gamma=0.01, kernel=poly, total=   0.0s\n",
            "[CV] C=10, gamma=0.01, kernel=poly ...................................\n",
            "[CV] .................... C=10, gamma=0.01, kernel=poly, total=   0.0s\n",
            "[CV] C=10, gamma=0.01, kernel=poly ...................................\n",
            "[CV] .................... C=10, gamma=0.01, kernel=poly, total=   0.0s\n",
            "[CV] C=10, gamma=0.01, kernel=sigmoid ................................\n",
            "[CV] ................. C=10, gamma=0.01, kernel=sigmoid, total=   0.0s\n",
            "[CV] C=10, gamma=0.01, kernel=sigmoid ................................\n",
            "[CV] ................. C=10, gamma=0.01, kernel=sigmoid, total=   0.0s\n",
            "[CV] C=10, gamma=0.01, kernel=sigmoid ................................\n",
            "[CV] ................. C=10, gamma=0.01, kernel=sigmoid, total=   0.0s\n",
            "[CV] C=10, gamma=0.01, kernel=sigmoid ................................\n",
            "[CV] ................. C=10, gamma=0.01, kernel=sigmoid, total=   0.0s\n",
            "[CV] C=10, gamma=0.01, kernel=sigmoid ................................\n",
            "[CV] ................. C=10, gamma=0.01, kernel=sigmoid, total=   0.0s\n",
            "[CV] C=10, gamma=0.001, kernel=rbf ...................................\n",
            "[CV] .................... C=10, gamma=0.001, kernel=rbf, total=   0.0s\n",
            "[CV] C=10, gamma=0.001, kernel=rbf ...................................\n",
            "[CV] .................... C=10, gamma=0.001, kernel=rbf, total=   0.0s\n",
            "[CV] C=10, gamma=0.001, kernel=rbf ...................................\n",
            "[CV] .................... C=10, gamma=0.001, kernel=rbf, total=   0.0s\n",
            "[CV] C=10, gamma=0.001, kernel=rbf ...................................\n",
            "[CV] .................... C=10, gamma=0.001, kernel=rbf, total=   0.0s\n",
            "[CV] C=10, gamma=0.001, kernel=rbf ...................................\n",
            "[CV] .................... C=10, gamma=0.001, kernel=rbf, total=   0.0s\n",
            "[CV] C=10, gamma=0.001, kernel=poly ..................................\n",
            "[CV] ................... C=10, gamma=0.001, kernel=poly, total=   0.0s\n",
            "[CV] C=10, gamma=0.001, kernel=poly ..................................\n",
            "[CV] ................... C=10, gamma=0.001, kernel=poly, total=   0.0s\n",
            "[CV] C=10, gamma=0.001, kernel=poly ..................................\n",
            "[CV] ................... C=10, gamma=0.001, kernel=poly, total=   0.0s\n",
            "[CV] C=10, gamma=0.001, kernel=poly ..................................\n",
            "[CV] ................... C=10, gamma=0.001, kernel=poly, total=   0.0s\n",
            "[CV] C=10, gamma=0.001, kernel=poly ..................................\n",
            "[CV] ................... C=10, gamma=0.001, kernel=poly, total=   0.0s\n",
            "[CV] C=10, gamma=0.001, kernel=sigmoid ...............................\n",
            "[CV] ................ C=10, gamma=0.001, kernel=sigmoid, total=   0.0s\n",
            "[CV] C=10, gamma=0.001, kernel=sigmoid ...............................\n",
            "[CV] ................ C=10, gamma=0.001, kernel=sigmoid, total=   0.0s\n",
            "[CV] C=10, gamma=0.001, kernel=sigmoid ...............................\n",
            "[CV] ................ C=10, gamma=0.001, kernel=sigmoid, total=   0.0s\n",
            "[CV] C=10, gamma=0.001, kernel=sigmoid ...............................\n",
            "[CV] ................ C=10, gamma=0.001, kernel=sigmoid, total=   0.0s\n",
            "[CV] C=10, gamma=0.001, kernel=sigmoid ...............................\n",
            "[CV] ................ C=10, gamma=0.001, kernel=sigmoid, total=   0.0s\n",
            "[CV] C=100, gamma=1, kernel=rbf ......................................\n",
            "[CV] ....................... C=100, gamma=1, kernel=rbf, total=   0.0s\n",
            "[CV] C=100, gamma=1, kernel=rbf ......................................\n",
            "[CV] ....................... C=100, gamma=1, kernel=rbf, total=   0.0s\n",
            "[CV] C=100, gamma=1, kernel=rbf ......................................\n",
            "[CV] ....................... C=100, gamma=1, kernel=rbf, total=   0.0s\n",
            "[CV] C=100, gamma=1, kernel=rbf ......................................\n",
            "[CV] ....................... C=100, gamma=1, kernel=rbf, total=   0.0s\n",
            "[CV] C=100, gamma=1, kernel=rbf ......................................\n",
            "[CV] ....................... C=100, gamma=1, kernel=rbf, total=   0.0s\n",
            "[CV] C=100, gamma=1, kernel=poly .....................................\n",
            "[CV] ...................... C=100, gamma=1, kernel=poly, total=   0.0s\n",
            "[CV] C=100, gamma=1, kernel=poly .....................................\n",
            "[CV] ...................... C=100, gamma=1, kernel=poly, total=   0.0s\n",
            "[CV] C=100, gamma=1, kernel=poly .....................................\n",
            "[CV] ...................... C=100, gamma=1, kernel=poly, total=   0.0s\n",
            "[CV] C=100, gamma=1, kernel=poly .....................................\n",
            "[CV] ...................... C=100, gamma=1, kernel=poly, total=   0.0s\n",
            "[CV] C=100, gamma=1, kernel=poly .....................................\n",
            "[CV] ...................... C=100, gamma=1, kernel=poly, total=   0.0s\n",
            "[CV] C=100, gamma=1, kernel=sigmoid ..................................\n",
            "[CV] ................... C=100, gamma=1, kernel=sigmoid, total=   0.0s\n",
            "[CV] C=100, gamma=1, kernel=sigmoid ..................................\n",
            "[CV] ................... C=100, gamma=1, kernel=sigmoid, total=   0.0s\n",
            "[CV] C=100, gamma=1, kernel=sigmoid ..................................\n",
            "[CV] ................... C=100, gamma=1, kernel=sigmoid, total=   0.0s\n",
            "[CV] C=100, gamma=1, kernel=sigmoid ..................................\n",
            "[CV] ................... C=100, gamma=1, kernel=sigmoid, total=   0.0s\n",
            "[CV] C=100, gamma=1, kernel=sigmoid ..................................\n",
            "[CV] ................... C=100, gamma=1, kernel=sigmoid, total=   0.0s\n",
            "[CV] C=100, gamma=0.1, kernel=rbf ....................................\n",
            "[CV] ..................... C=100, gamma=0.1, kernel=rbf, total=   0.0s\n",
            "[CV] C=100, gamma=0.1, kernel=rbf ....................................\n",
            "[CV] ..................... C=100, gamma=0.1, kernel=rbf, total=   0.0s\n",
            "[CV] C=100, gamma=0.1, kernel=rbf ....................................\n",
            "[CV] ..................... C=100, gamma=0.1, kernel=rbf, total=   0.0s\n",
            "[CV] C=100, gamma=0.1, kernel=rbf ....................................\n",
            "[CV] ..................... C=100, gamma=0.1, kernel=rbf, total=   0.0s\n",
            "[CV] C=100, gamma=0.1, kernel=rbf ....................................\n",
            "[CV] ..................... C=100, gamma=0.1, kernel=rbf, total=   0.0s\n",
            "[CV] C=100, gamma=0.1, kernel=poly ...................................\n",
            "[CV] .................... C=100, gamma=0.1, kernel=poly, total=   0.0s\n",
            "[CV] C=100, gamma=0.1, kernel=poly ...................................\n",
            "[CV] .................... C=100, gamma=0.1, kernel=poly, total=   0.0s\n",
            "[CV] C=100, gamma=0.1, kernel=poly ...................................\n",
            "[CV] .................... C=100, gamma=0.1, kernel=poly, total=   0.0s\n",
            "[CV] C=100, gamma=0.1, kernel=poly ...................................\n",
            "[CV] .................... C=100, gamma=0.1, kernel=poly, total=   0.0s\n",
            "[CV] C=100, gamma=0.1, kernel=poly ...................................\n",
            "[CV] .................... C=100, gamma=0.1, kernel=poly, total=   0.0s\n",
            "[CV] C=100, gamma=0.1, kernel=sigmoid ................................\n",
            "[CV] ................. C=100, gamma=0.1, kernel=sigmoid, total=   0.0s\n",
            "[CV] C=100, gamma=0.1, kernel=sigmoid ................................\n",
            "[CV] ................. C=100, gamma=0.1, kernel=sigmoid, total=   0.0s\n",
            "[CV] C=100, gamma=0.1, kernel=sigmoid ................................\n",
            "[CV] ................. C=100, gamma=0.1, kernel=sigmoid, total=   0.0s\n",
            "[CV] C=100, gamma=0.1, kernel=sigmoid ................................\n",
            "[CV] ................. C=100, gamma=0.1, kernel=sigmoid, total=   0.0s\n",
            "[CV] C=100, gamma=0.1, kernel=sigmoid ................................\n",
            "[CV] ................. C=100, gamma=0.1, kernel=sigmoid, total=   0.0s\n",
            "[CV] C=100, gamma=0.01, kernel=rbf ...................................\n",
            "[CV] .................... C=100, gamma=0.01, kernel=rbf, total=   0.0s\n",
            "[CV] C=100, gamma=0.01, kernel=rbf ...................................\n",
            "[CV] .................... C=100, gamma=0.01, kernel=rbf, total=   0.0s\n",
            "[CV] C=100, gamma=0.01, kernel=rbf ...................................\n",
            "[CV] .................... C=100, gamma=0.01, kernel=rbf, total=   0.0s\n",
            "[CV] C=100, gamma=0.01, kernel=rbf ...................................\n",
            "[CV] .................... C=100, gamma=0.01, kernel=rbf, total=   0.0s\n",
            "[CV] C=100, gamma=0.01, kernel=rbf ...................................\n",
            "[CV] .................... C=100, gamma=0.01, kernel=rbf, total=   0.0s\n",
            "[CV] C=100, gamma=0.01, kernel=poly ..................................\n",
            "[CV] ................... C=100, gamma=0.01, kernel=poly, total=   0.0s\n",
            "[CV] C=100, gamma=0.01, kernel=poly ..................................\n",
            "[CV] ................... C=100, gamma=0.01, kernel=poly, total=   0.0s\n",
            "[CV] C=100, gamma=0.01, kernel=poly ..................................\n",
            "[CV] ................... C=100, gamma=0.01, kernel=poly, total=   0.0s\n",
            "[CV] C=100, gamma=0.01, kernel=poly ..................................\n",
            "[CV] ................... C=100, gamma=0.01, kernel=poly, total=   0.0s\n",
            "[CV] C=100, gamma=0.01, kernel=poly ..................................\n",
            "[CV] ................... C=100, gamma=0.01, kernel=poly, total=   0.0s\n",
            "[CV] C=100, gamma=0.01, kernel=sigmoid ...............................\n",
            "[CV] ................ C=100, gamma=0.01, kernel=sigmoid, total=   0.0s\n",
            "[CV] C=100, gamma=0.01, kernel=sigmoid ...............................\n",
            "[CV] ................ C=100, gamma=0.01, kernel=sigmoid, total=   0.0s\n",
            "[CV] C=100, gamma=0.01, kernel=sigmoid ...............................\n",
            "[CV] ................ C=100, gamma=0.01, kernel=sigmoid, total=   0.0s\n",
            "[CV] C=100, gamma=0.01, kernel=sigmoid ...............................\n",
            "[CV] ................ C=100, gamma=0.01, kernel=sigmoid, total=   0.0s\n",
            "[CV] C=100, gamma=0.01, kernel=sigmoid ...............................\n",
            "[CV] ................ C=100, gamma=0.01, kernel=sigmoid, total=   0.0s\n",
            "[CV] C=100, gamma=0.001, kernel=rbf ..................................\n",
            "[CV] ................... C=100, gamma=0.001, kernel=rbf, total=   0.0s\n",
            "[CV] C=100, gamma=0.001, kernel=rbf ..................................\n",
            "[CV] ................... C=100, gamma=0.001, kernel=rbf, total=   0.0s\n",
            "[CV] C=100, gamma=0.001, kernel=rbf ..................................\n",
            "[CV] ................... C=100, gamma=0.001, kernel=rbf, total=   0.0s\n",
            "[CV] C=100, gamma=0.001, kernel=rbf ..................................\n",
            "[CV] ................... C=100, gamma=0.001, kernel=rbf, total=   0.0s\n",
            "[CV] C=100, gamma=0.001, kernel=rbf ..................................\n",
            "[CV] ................... C=100, gamma=0.001, kernel=rbf, total=   0.0s\n",
            "[CV] C=100, gamma=0.001, kernel=poly .................................\n",
            "[CV] .................. C=100, gamma=0.001, kernel=poly, total=   0.0s\n",
            "[CV] C=100, gamma=0.001, kernel=poly .................................\n",
            "[CV] .................. C=100, gamma=0.001, kernel=poly, total=   0.0s\n",
            "[CV] C=100, gamma=0.001, kernel=poly .................................\n",
            "[CV] .................. C=100, gamma=0.001, kernel=poly, total=   0.0s\n",
            "[CV] C=100, gamma=0.001, kernel=poly .................................\n",
            "[CV] .................. C=100, gamma=0.001, kernel=poly, total=   0.0s\n",
            "[CV] C=100, gamma=0.001, kernel=poly .................................\n",
            "[CV] .................. C=100, gamma=0.001, kernel=poly, total=   0.0s\n",
            "[CV] C=100, gamma=0.001, kernel=sigmoid ..............................\n",
            "[CV] ............... C=100, gamma=0.001, kernel=sigmoid, total=   0.0s\n",
            "[CV] C=100, gamma=0.001, kernel=sigmoid ..............................\n",
            "[CV] ............... C=100, gamma=0.001, kernel=sigmoid, total=   0.0s\n",
            "[CV] C=100, gamma=0.001, kernel=sigmoid ..............................\n",
            "[CV] ............... C=100, gamma=0.001, kernel=sigmoid, total=   0.0s\n",
            "[CV] C=100, gamma=0.001, kernel=sigmoid ..............................\n",
            "[CV] ............... C=100, gamma=0.001, kernel=sigmoid, total=   0.0s\n",
            "[CV] C=100, gamma=0.001, kernel=sigmoid ..............................\n",
            "[CV] ............... C=100, gamma=0.001, kernel=sigmoid, total=   0.0s\n"
          ]
        },
        {
          "output_type": "stream",
          "name": "stderr",
          "text": [
            "[Parallel(n_jobs=1)]: Done 240 out of 240 | elapsed:    0.8s finished\n"
          ]
        },
        {
          "output_type": "execute_result",
          "data": {
            "text/plain": [
              "GridSearchCV(cv=None, error_score=nan,\n",
              "             estimator=SVC(C=1.0, break_ties=False, cache_size=200,\n",
              "                           class_weight=None, coef0=0.0,\n",
              "                           decision_function_shape='ovr', degree=3,\n",
              "                           gamma='scale', kernel='rbf', max_iter=-1,\n",
              "                           probability=False, random_state=None, shrinking=True,\n",
              "                           tol=0.001, verbose=False),\n",
              "             iid='deprecated', n_jobs=None,\n",
              "             param_grid={'C': [0.1, 1, 10, 100], 'gamma': [1, 0.1, 0.01, 0.001],\n",
              "                         'kernel': ['rbf', 'poly', 'sigmoid']},\n",
              "             pre_dispatch='2*n_jobs', refit=True, return_train_score=False,\n",
              "             scoring=None, verbose=2)"
            ]
          },
          "metadata": {},
          "execution_count": 450
        }
      ]
    },
    {
      "cell_type": "markdown",
      "metadata": {
        "id": "kctBLB2NPzzZ"
      },
      "source": [
        "# What are your hyperparameter values for C and gamma? "
      ]
    },
    {
      "cell_type": "code",
      "metadata": {
        "colab": {
          "base_uri": "https://localhost:8080/"
        },
        "id": "RiR55xrnOWQ4",
        "outputId": "f0342e6b-681e-4a84-811f-f68876ac3dc7"
      },
      "source": [
        "print(grid.best_estimator_)\n",
        "# C=1 and gamma=0.1"
      ],
      "execution_count": 451,
      "outputs": [
        {
          "output_type": "stream",
          "name": "stdout",
          "text": [
            "SVC(C=1, break_ties=False, cache_size=200, class_weight=None, coef0=0.0,\n",
            "    decision_function_shape='ovr', degree=3, gamma=0.1, kernel='rbf',\n",
            "    max_iter=-1, probability=False, random_state=None, shrinking=True,\n",
            "    tol=0.001, verbose=False)\n"
          ]
        }
      ]
    },
    {
      "cell_type": "markdown",
      "metadata": {
        "id": "qw2oj5LvP8KU"
      },
      "source": [
        "# What is the accuracy score of your model?"
      ]
    },
    {
      "cell_type": "code",
      "metadata": {
        "colab": {
          "base_uri": "https://localhost:8080/"
        },
        "id": "ghVIaq5nOddh",
        "outputId": "9ad81e8a-9bb5-4f43-d2a3-845328491e40"
      },
      "source": [
        "grid_predictions = grid.predict(X_test_std)\n",
        "print(confusion_matrix(y_test,grid_predictions))\n",
        "print(classification_report(y_test,grid_predictions))\n",
        "# The accuracy is 100%. "
      ],
      "execution_count": 452,
      "outputs": [
        {
          "output_type": "stream",
          "name": "stdout",
          "text": [
            "[[11  0  0]\n",
            " [ 0 13  0]\n",
            " [ 0  0  6]]\n",
            "              precision    recall  f1-score   support\n",
            "\n",
            "         0.0       1.00      1.00      1.00        11\n",
            "         1.0       1.00      1.00      1.00        13\n",
            "         2.0       1.00      1.00      1.00         6\n",
            "\n",
            "    accuracy                           1.00        30\n",
            "   macro avg       1.00      1.00      1.00        30\n",
            "weighted avg       1.00      1.00      1.00        30\n",
            "\n"
          ]
        }
      ]
    },
    {
      "cell_type": "markdown",
      "metadata": {
        "id": "Qw_lwGRrx_hX"
      },
      "source": [
        "# KNN: Train using Nearest neighbor. Start with k=9"
      ]
    },
    {
      "cell_type": "code",
      "metadata": {
        "id": "jHMmWOuNyBst"
      },
      "source": [
        "from sklearn.neighbors import KNeighborsClassifier\n",
        "ne=KNeighborsClassifier(n_neighbors=9)"
      ],
      "execution_count": 453,
      "outputs": []
    },
    {
      "cell_type": "code",
      "metadata": {
        "colab": {
          "base_uri": "https://localhost:8080/"
        },
        "id": "gjV2cnu1yEku",
        "outputId": "8ae85245-9e8b-4fbd-b6ae-5471ebb9c9b7"
      },
      "source": [
        "ne.fit(X = X_train_std, y = y_train)"
      ],
      "execution_count": 454,
      "outputs": [
        {
          "output_type": "execute_result",
          "data": {
            "text/plain": [
              "KNeighborsClassifier(algorithm='auto', leaf_size=30, metric='minkowski',\n",
              "                     metric_params=None, n_jobs=None, n_neighbors=9, p=2,\n",
              "                     weights='uniform')"
            ]
          },
          "metadata": {},
          "execution_count": 454
        }
      ]
    },
    {
      "cell_type": "code",
      "metadata": {
        "id": "JPpT7FqKyF2U"
      },
      "source": [
        "y_pred=ne.predict(X_test_std)"
      ],
      "execution_count": 455,
      "outputs": []
    },
    {
      "cell_type": "code",
      "metadata": {
        "colab": {
          "base_uri": "https://localhost:8080/"
        },
        "id": "OTEcHpgUyK2F",
        "outputId": "de13ede8-34fc-4334-ce3c-0ee9088cc786"
      },
      "source": [
        "print(y_pred)"
      ],
      "execution_count": 456,
      "outputs": [
        {
          "output_type": "stream",
          "name": "stdout",
          "text": [
            "[2. 1. 0. 2. 0. 2. 0. 1. 1. 1. 2. 1. 1. 1. 1. 0. 1. 1. 0. 0. 2. 1. 0. 0.\n",
            " 2. 0. 0. 1. 1. 0.]\n"
          ]
        }
      ]
    },
    {
      "cell_type": "code",
      "metadata": {
        "colab": {
          "base_uri": "https://localhost:8080/"
        },
        "id": "GACqFzHFyNlG",
        "outputId": "bb420ff0-d2c3-4322-b143-5b77df9f58c3"
      },
      "source": [
        "from sklearn.metrics import confusion_matrix\n",
        "cm = confusion_matrix(y_test, y_pred)\n",
        "print(cm)"
      ],
      "execution_count": 457,
      "outputs": [
        {
          "output_type": "stream",
          "name": "stdout",
          "text": [
            "[[11  0  0]\n",
            " [ 0 13  0]\n",
            " [ 0  0  6]]\n"
          ]
        }
      ]
    },
    {
      "cell_type": "code",
      "metadata": {
        "id": "DPxWISVmVlt9"
      },
      "source": [
        " from sklearn.model_selection import RandomizedSearchCV"
      ],
      "execution_count": 458,
      "outputs": []
    },
    {
      "cell_type": "code",
      "metadata": {
        "id": "6YhNmKi_Vofu"
      },
      "source": [
        " # n_estimators = [int(x) for x in np.linspace(start = 5 , stop = 25, num = 20)]"
      ],
      "execution_count": 459,
      "outputs": []
    },
    {
      "cell_type": "code",
      "metadata": {
        "id": "fFHlle2bVswV"
      },
      "source": [
        " # n_estimators "
      ],
      "execution_count": 460,
      "outputs": []
    },
    {
      "cell_type": "code",
      "metadata": {
        "id": "2FspSN3TWcvl"
      },
      "source": [
        " # r_grid = {'n_estimators': n_estimators}"
      ],
      "execution_count": 462,
      "outputs": []
    },
    {
      "cell_type": "code",
      "metadata": {
        "id": "tgLSjaRAWfLf"
      },
      "source": [
        " # print(r_grid)"
      ],
      "execution_count": 461,
      "outputs": []
    },
    {
      "cell_type": "markdown",
      "metadata": {
        "id": "Td12cQ8-ZGsA"
      },
      "source": [
        "# Tune the number of k using RandomizedSearchCV"
      ]
    },
    {
      "cell_type": "code",
      "metadata": {
        "id": "dGu77aFdZNIt"
      },
      "source": [
        "k_range=range(1,26)"
      ],
      "execution_count": 463,
      "outputs": []
    },
    {
      "cell_type": "code",
      "metadata": {
        "id": "nsH1LznxZJMT"
      },
      "source": [
        "param_dist = dict(n_neighbors=k_range)"
      ],
      "execution_count": 464,
      "outputs": []
    },
    {
      "cell_type": "code",
      "metadata": {
        "colab": {
          "base_uri": "https://localhost:8080/"
        },
        "id": "EDAiSDqVZSFU",
        "outputId": "ab83c771-9b3d-4972-e5d4-105e783f12f8"
      },
      "source": [
        "knn=KNeighborsClassifier()\n",
        "param_grid = dict(n_neighbors=k_range)\n",
        "rand = RandomizedSearchCV(knn, param_grid, cv=10, scoring='accuracy', n_iter=10, random_state=5)\n",
        "rand.fit(X_train_std, y_train)\n"
      ],
      "execution_count": 465,
      "outputs": [
        {
          "output_type": "execute_result",
          "data": {
            "text/plain": [
              "RandomizedSearchCV(cv=10, error_score=nan,\n",
              "                   estimator=KNeighborsClassifier(algorithm='auto',\n",
              "                                                  leaf_size=30,\n",
              "                                                  metric='minkowski',\n",
              "                                                  metric_params=None,\n",
              "                                                  n_jobs=None, n_neighbors=5,\n",
              "                                                  p=2, weights='uniform'),\n",
              "                   iid='deprecated', n_iter=10, n_jobs=None,\n",
              "                   param_distributions={'n_neighbors': range(1, 26)},\n",
              "                   pre_dispatch='2*n_jobs', random_state=5, refit=True,\n",
              "                   return_train_score=False, scoring='accuracy', verbose=0)"
            ]
          },
          "metadata": {},
          "execution_count": 465
        }
      ]
    },
    {
      "cell_type": "code",
      "metadata": {
        "colab": {
          "base_uri": "https://localhost:8080/"
        },
        "id": "c2OjJPIfZUC1",
        "outputId": "aae1bac9-8e98-484f-8063-40e14fbfbb0e"
      },
      "source": [
        "print(rand.best_score_)\n",
        "print(rand.best_params_)\n",
        "\n",
        "# Best (Tuned) value of k is 20"
      ],
      "execution_count": 466,
      "outputs": [
        {
          "output_type": "stream",
          "name": "stdout",
          "text": [
            "0.9416666666666667\n",
            "{'n_neighbors': 20}\n"
          ]
        }
      ]
    },
    {
      "cell_type": "markdown",
      "metadata": {
        "id": "Qgoh-PISiovf"
      },
      "source": [
        "# What is the accuracy of your model"
      ]
    },
    {
      "cell_type": "code",
      "metadata": {
        "colab": {
          "base_uri": "https://localhost:8080/"
        },
        "id": "oHQ5HXWWZXxH",
        "outputId": "856a07d0-2f57-48c0-bc04-fa2fc2948d6a"
      },
      "source": [
        "#Run RandomizedSearchCV 20 times (n_iter=10) and record the best score\n",
        "# As seen below the accuracy is over 83% consistently and best \n",
        "best_scores=[]\n",
        "for i in range(20):\n",
        "    rand = RandomizedSearchCV(knn, param_dist, cv=10, scoring='accuracy', n_iter=10)\n",
        "    rand.fit(X_test_std, y_test)\n",
        "    best_scores.append(round(rand.best_score_,3))\n",
        "print(best_scores)"
      ],
      "execution_count": 415,
      "outputs": [
        {
          "output_type": "stream",
          "name": "stderr",
          "text": [
            "/usr/local/lib/python3.7/dist-packages/sklearn/model_selection/_split.py:667: UserWarning: The least populated class in y has only 6 members, which is less than n_splits=10.\n",
            "  % (min_groups, self.n_splits)), UserWarning)\n",
            "/usr/local/lib/python3.7/dist-packages/sklearn/model_selection/_split.py:667: UserWarning: The least populated class in y has only 6 members, which is less than n_splits=10.\n",
            "  % (min_groups, self.n_splits)), UserWarning)\n",
            "/usr/local/lib/python3.7/dist-packages/sklearn/model_selection/_split.py:667: UserWarning: The least populated class in y has only 6 members, which is less than n_splits=10.\n",
            "  % (min_groups, self.n_splits)), UserWarning)\n",
            "/usr/local/lib/python3.7/dist-packages/sklearn/model_selection/_split.py:667: UserWarning: The least populated class in y has only 6 members, which is less than n_splits=10.\n",
            "  % (min_groups, self.n_splits)), UserWarning)\n",
            "/usr/local/lib/python3.7/dist-packages/sklearn/model_selection/_split.py:667: UserWarning: The least populated class in y has only 6 members, which is less than n_splits=10.\n",
            "  % (min_groups, self.n_splits)), UserWarning)\n",
            "/usr/local/lib/python3.7/dist-packages/sklearn/model_selection/_split.py:667: UserWarning: The least populated class in y has only 6 members, which is less than n_splits=10.\n",
            "  % (min_groups, self.n_splits)), UserWarning)\n",
            "/usr/local/lib/python3.7/dist-packages/sklearn/model_selection/_split.py:667: UserWarning: The least populated class in y has only 6 members, which is less than n_splits=10.\n",
            "  % (min_groups, self.n_splits)), UserWarning)\n",
            "/usr/local/lib/python3.7/dist-packages/sklearn/model_selection/_split.py:667: UserWarning: The least populated class in y has only 6 members, which is less than n_splits=10.\n",
            "  % (min_groups, self.n_splits)), UserWarning)\n",
            "/usr/local/lib/python3.7/dist-packages/sklearn/model_selection/_split.py:667: UserWarning: The least populated class in y has only 6 members, which is less than n_splits=10.\n",
            "  % (min_groups, self.n_splits)), UserWarning)\n",
            "/usr/local/lib/python3.7/dist-packages/sklearn/model_selection/_split.py:667: UserWarning: The least populated class in y has only 6 members, which is less than n_splits=10.\n",
            "  % (min_groups, self.n_splits)), UserWarning)\n",
            "/usr/local/lib/python3.7/dist-packages/sklearn/model_selection/_split.py:667: UserWarning: The least populated class in y has only 6 members, which is less than n_splits=10.\n",
            "  % (min_groups, self.n_splits)), UserWarning)\n",
            "/usr/local/lib/python3.7/dist-packages/sklearn/model_selection/_split.py:667: UserWarning: The least populated class in y has only 6 members, which is less than n_splits=10.\n",
            "  % (min_groups, self.n_splits)), UserWarning)\n",
            "/usr/local/lib/python3.7/dist-packages/sklearn/model_selection/_split.py:667: UserWarning: The least populated class in y has only 6 members, which is less than n_splits=10.\n",
            "  % (min_groups, self.n_splits)), UserWarning)\n",
            "/usr/local/lib/python3.7/dist-packages/sklearn/model_selection/_split.py:667: UserWarning: The least populated class in y has only 6 members, which is less than n_splits=10.\n",
            "  % (min_groups, self.n_splits)), UserWarning)\n",
            "/usr/local/lib/python3.7/dist-packages/sklearn/model_selection/_split.py:667: UserWarning: The least populated class in y has only 6 members, which is less than n_splits=10.\n",
            "  % (min_groups, self.n_splits)), UserWarning)\n",
            "/usr/local/lib/python3.7/dist-packages/sklearn/model_selection/_split.py:667: UserWarning: The least populated class in y has only 6 members, which is less than n_splits=10.\n",
            "  % (min_groups, self.n_splits)), UserWarning)\n",
            "/usr/local/lib/python3.7/dist-packages/sklearn/model_selection/_split.py:667: UserWarning: The least populated class in y has only 6 members, which is less than n_splits=10.\n",
            "  % (min_groups, self.n_splits)), UserWarning)\n",
            "/usr/local/lib/python3.7/dist-packages/sklearn/model_selection/_split.py:667: UserWarning: The least populated class in y has only 6 members, which is less than n_splits=10.\n",
            "  % (min_groups, self.n_splits)), UserWarning)\n",
            "/usr/local/lib/python3.7/dist-packages/sklearn/model_selection/_split.py:667: UserWarning: The least populated class in y has only 6 members, which is less than n_splits=10.\n",
            "  % (min_groups, self.n_splits)), UserWarning)\n",
            "/usr/local/lib/python3.7/dist-packages/sklearn/model_selection/_split.py:667: UserWarning: The least populated class in y has only 6 members, which is less than n_splits=10.\n",
            "  % (min_groups, self.n_splits)), UserWarning)\n"
          ]
        },
        {
          "output_type": "stream",
          "name": "stdout",
          "text": [
            "[0.867, 0.9, 0.9, 0.867, 0.9, 0.9, 0.9, 0.9, 0.9, 0.9, 0.9, 0.867, 0.867, 0.9, 0.9, 0.867, 0.9, 0.867, 0.833, 0.9]\n"
          ]
        }
      ]
    },
    {
      "cell_type": "code",
      "metadata": {
        "id": "fVpV_SeWh5UK"
      },
      "source": [
        ""
      ],
      "execution_count": null,
      "outputs": []
    }
  ]
}